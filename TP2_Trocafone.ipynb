{
 "cells": [
  {
   "cell_type": "code",
   "execution_count": 8,
   "metadata": {},
   "outputs": [],
   "source": [
    "import pandas as pd\n",
    "import matplotlib.pyplot as plt\n",
    "import numpy as np\n",
    "import sklearn as sk\n",
    "\n",
    "training = pd.read_csv('setEntrenamiento.csv', low_memory = False)\n",
    "test = pd.read_csv('setTesteo.csv', low_memory = False)"
   ]
  },
  {
   "cell_type": "code",
   "execution_count": 9,
   "metadata": {},
   "outputs": [],
   "source": [
    "from sklearn.utils import shuffle\n",
    "from sklearn.model_selection import train_test_split\n",
    "from sklearn.metrics import accuracy_score, r2_score, classification_report, mean_squared_error\n",
    "from sklearn.linear_model import LogisticRegression\n",
    "from sklearn.model_selection import cross_val_score, KFold\n",
    "from sklearn.neighbors import KNeighborsClassifier\n",
    "from sklearn.tree import DecisionTreeClassifier\n",
    "from sklearn.ensemble import RandomForestClassifier\n",
    "from xgboost import XGBClassifier\n",
    "from sklearn.model_selection import GridSearchCV"
   ]
  },
  {
   "cell_type": "code",
   "execution_count": 10,
   "metadata": {
    "scrolled": true
   },
   "outputs": [],
   "source": [
    "label_array = np.array(training['label'])\n",
    "data_array = np.array(training.drop(columns=['label']))"
   ]
  },
  {
   "cell_type": "code",
   "execution_count": 11,
   "metadata": {},
   "outputs": [],
   "source": [
    "x_train, x_test, y_train, y_test = train_test_split(data_array, label_array, test_size = 0, random_state = 0)"
   ]
  },
  {
   "cell_type": "code",
   "execution_count": 77,
   "metadata": {},
   "outputs": [
    {
     "name": "stderr",
     "output_type": "stream",
     "text": [
      "/home/victorbelosevich/.local/lib/python2.7/site-packages/sklearn/model_selection/_split.py:626: Warning: The least populated class in y has only 1 members, which is too few. The minimum number of members in any class cannot be less than n_splits=5.\n",
      "  % (min_groups, self.n_splits)), Warning)\n"
     ]
    },
    {
     "name": "stdout",
     "output_type": "stream",
     "text": [
      "[0.90931864 0.94282744 0.95651028 0.96540713 0.97214783]\n"
     ]
    }
   ],
   "source": [
    "#CrossValidation y Grid Search RandomForest\n",
    "x_train, x_test, y_train, y_test = train_test_split(data_array, label_array, test_size = 0, random_state = 0)\n",
    "classifier = RandomForestClassifier(n_estimators = 300, random_state= 0)\n",
    "all_accuracies = cross_val_score(estimator = classifier, X= x_train, y = y_train, cv = 5)\n",
    "print(all_accuracies)"
   ]
  },
  {
   "cell_type": "code",
   "execution_count": 80,
   "metadata": {},
   "outputs": [
    {
     "name": "stdout",
     "output_type": "stream",
     "text": [
      "0.9492422643375822\n"
     ]
    }
   ],
   "source": [
    "print(all_accuracies.mean())"
   ]
  },
  {
   "cell_type": "code",
   "execution_count": 81,
   "metadata": {},
   "outputs": [
    {
     "name": "stdout",
     "output_type": "stream",
     "text": [
      "0.022243371493250112\n"
     ]
    }
   ],
   "source": [
    "print(all_accuracies.std())"
   ]
  },
  {
   "cell_type": "code",
   "execution_count": 109,
   "metadata": {},
   "outputs": [],
   "source": [
    "grid_param = {\n",
    "    \"n_estimators\": [100, 300, 500, 800, 1000],\n",
    "    \"criterion\": [\"gini\", \"entropy\"],\n",
    "    \"bootstrap\": [True, False]\n",
    "}"
   ]
  },
  {
   "cell_type": "code",
   "execution_count": 110,
   "metadata": {},
   "outputs": [],
   "source": [
    "gd_sr = GridSearchCV(estimator=classifier, param_grid=grid_param, scoring=\"accuracy\", cv=5, n_jobs=1)"
   ]
  },
  {
   "cell_type": "code",
   "execution_count": null,
   "metadata": {},
   "outputs": [],
   "source": [
    "gd_sr.fit(x_train, y_train)"
   ]
  },
  {
   "cell_type": "code",
   "execution_count": null,
   "metadata": {},
   "outputs": [],
   "source": [
    "best_parameters = gd_sr.best_parameters\n",
    "print(best_parameters)"
   ]
  },
  {
   "cell_type": "code",
   "execution_count": 75,
   "metadata": {},
   "outputs": [],
   "source": [
    "def logisticReg(x_train, x_test, y_train, y_test):\n",
    "    logReg = LogisticRegression(solver='sag', random_state=1)\n",
    "    logReg.fit(x_train, y_train)\n",
    "    y_pred = logReg.predict(x_test)\n",
    "    return np.sqrt(mean_squared_error(y_test, y_pred))\n",
    "#TAMBIEN PUEDEN USAR PARA VER EL ACCURACY\n",
    "#ACCURACY = accuracy_score(y_test, y_pred)"
   ]
  },
  {
   "cell_type": "code",
   "execution_count": 76,
   "metadata": {},
   "outputs": [],
   "source": [
    "def knn(k, x_train, x_test, y_train, y_test):\n",
    "    knn = KNeighborsClassifier(n_neighbors=k, metric='manhattan')\n",
    "    knn.fit(x_train, y_train)\n",
    "    y_pred = knn.predict(x_test)\n",
    "    return np.sqrt(mean_squared_error(y_test, y_pred))\n",
    "#TAMBIEN PUEDEN USAR PARA VER EL ACCURACY\n",
    "#ACCURACY = accuracy_score(y_test, y_pred)"
   ]
  },
  {
   "cell_type": "code",
   "execution_count": 88,
   "metadata": {},
   "outputs": [],
   "source": [
    "def decisionTree(max_depth, x_train, x_test, y_train, y_test):\n",
    "    dt = DecisionTreeClassifier(max_depth=max_depth)\n",
    "    dt.fit(x_train, y_train)\n",
    "    y_pred = dt.predict(x_test)\n",
    "    return np.sqrt(mean_squared_error(y_test, y_pred))\n",
    "#TAMBIEN PUEDEN USAR PARA VER EL ACCURACY\n",
    "#ACCURACY = accuracy_score(y_test, y_pred)"
   ]
  },
  {
   "cell_type": "code",
   "execution_count": 78,
   "metadata": {},
   "outputs": [],
   "source": [
    "def xgboost(max_depth, n_estimators, x_train, x_test, y_train, y_test):\n",
    "    xgb = XGBClassifier(max_depth=max_depth, n_estimators=n_estimators)\n",
    "    xgb.fit(x_train, y_train)\n",
    "    y_pred = xgb.predict(x_test)\n",
    "    return np.sqrt(mean_squared_error(y_test, y_pred))\n",
    "#TAMBIEN PUEDEN USAR PARA VER EL ACCURACY\n",
    "#ACCURACY = accuracy_score(y_test, y_pred)"
   ]
  },
  {
   "cell_type": "code",
   "execution_count": null,
   "metadata": {},
   "outputs": [],
   "source": [
    "result = logisticReg(x_train, x_test, y_train, y_test)\n",
    "result"
   ]
  },
  {
   "cell_type": "code",
   "execution_count": null,
   "metadata": {},
   "outputs": [],
   "source": [
    "result1 = knn(10, x_train, x_test, y_train, y_test)\n",
    "result1"
   ]
  },
  {
   "cell_type": "code",
   "execution_count": 90,
   "metadata": {},
   "outputs": [
    {
     "data": {
      "text/plain": [
       "57.7322333980814"
      ]
     },
     "execution_count": 90,
     "metadata": {},
     "output_type": "execute_result"
    }
   ],
   "source": [
    "resultDecTree = decisionTree(150, x_train, x_test, y_train, y_test)\n",
    "resultDecTree"
   ]
  },
  {
   "cell_type": "code",
   "execution_count": null,
   "metadata": {},
   "outputs": [],
   "source": [
    "resultXgboost = xgboost(10, 50,x_train, x_test, y_train, y_test )\n",
    "resultXgboost"
   ]
  }
 ],
 "metadata": {
  "kernelspec": {
   "display_name": "Python 3",
   "language": "python",
   "name": "python3"
  },
  "language_info": {
   "codemirror_mode": {
    "name": "ipython",
    "version": 2
   },
   "file_extension": ".py",
   "mimetype": "text/x-python",
   "name": "python",
   "nbconvert_exporter": "python",
   "pygments_lexer": "ipython2",
   "version": "2.7.15rc1"
  }
 },
 "nbformat": 4,
 "nbformat_minor": 2
}
