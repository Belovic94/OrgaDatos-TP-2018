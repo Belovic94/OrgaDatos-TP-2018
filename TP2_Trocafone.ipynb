{
 "cells": [
  {
   "cell_type": "code",
   "execution_count": 1,
   "metadata": {},
   "outputs": [
    {
     "name": "stderr",
     "output_type": "stream",
     "text": [
      "/home/maximiliano/miniconda3/lib/python3.6/site-packages/IPython/core/interactiveshell.py:2785: DtypeWarning: Columns (3,5,6,7,8,9,10,11,12,13,14,15,16,17,18,19,20,21,22) have mixed types. Specify dtype option on import or set low_memory=False.\n",
      "  interactivity=interactivity, compiler=compiler, result=result)\n"
     ]
    }
   ],
   "source": [
    "import pandas as pd\n",
    "import matplotlib.pyplot as plt\n",
    "import numpy as np\n",
    "import sklearn as sk\n",
    "\n",
    "events = pd.read_csv('events_up_to_01062018.csv')\n",
    "training = pd.read_csv('labels_training_set.csv')"
   ]
  },
  {
   "cell_type": "code",
   "execution_count": 2,
   "metadata": {},
   "outputs": [],
   "source": [
    "from sklearn.utils import shuffle\n",
    "from sklearn.model_selection import train_test_split\n",
    "from sklearn.metrics import accuracy_score, r2_score, classification_report, mean_squared_error\n",
    "from sklearn.linear_model import LogisticRegression\n",
    "from sklearn.model_selection import cross_val_score, KFold\n",
    "from sklearn.neighbors import KNeighborsClassifier\n",
    "from sklearn.tree import DecisionTreeClassifier\n",
    "from sklearn.ensemble import RandomForestClassifier\n",
    "from xgboost import XGBClassifier\n",
    "from sklearn.preprocessing import LabelEncoder\n",
    "from sklearn.preprocessing import OneHotEncoder"
   ]
  },
  {
   "cell_type": "code",
   "execution_count": 3,
   "metadata": {},
   "outputs": [
    {
     "data": {
      "text/html": [
       "<div>\n",
       "<style scoped>\n",
       "    .dataframe tbody tr th:only-of-type {\n",
       "        vertical-align: middle;\n",
       "    }\n",
       "\n",
       "    .dataframe tbody tr th {\n",
       "        vertical-align: top;\n",
       "    }\n",
       "\n",
       "    .dataframe thead th {\n",
       "        text-align: right;\n",
       "    }\n",
       "</style>\n",
       "<table border=\"1\" class=\"dataframe\">\n",
       "  <thead>\n",
       "    <tr style=\"text-align: right;\">\n",
       "      <th></th>\n",
       "      <th>timestamp</th>\n",
       "      <th>event</th>\n",
       "      <th>person</th>\n",
       "      <th>url</th>\n",
       "      <th>sku</th>\n",
       "      <th>model</th>\n",
       "      <th>condition</th>\n",
       "      <th>storage</th>\n",
       "      <th>color</th>\n",
       "      <th>skus</th>\n",
       "      <th>...</th>\n",
       "      <th>search_engine</th>\n",
       "      <th>channel</th>\n",
       "      <th>new_vs_returning</th>\n",
       "      <th>city</th>\n",
       "      <th>region</th>\n",
       "      <th>country</th>\n",
       "      <th>device_type</th>\n",
       "      <th>screen_resolution</th>\n",
       "      <th>operating_system_version</th>\n",
       "      <th>browser_version</th>\n",
       "    </tr>\n",
       "  </thead>\n",
       "  <tbody>\n",
       "    <tr>\n",
       "      <th>0</th>\n",
       "      <td>2018-05-18 00:11:59</td>\n",
       "      <td>viewed product</td>\n",
       "      <td>4886f805</td>\n",
       "      <td>NaN</td>\n",
       "      <td>9288.0</td>\n",
       "      <td>Samsung Galaxy J7 Prime</td>\n",
       "      <td>Excelente</td>\n",
       "      <td>32GB</td>\n",
       "      <td>Dourado</td>\n",
       "      <td>NaN</td>\n",
       "      <td>...</td>\n",
       "      <td>NaN</td>\n",
       "      <td>NaN</td>\n",
       "      <td>NaN</td>\n",
       "      <td>NaN</td>\n",
       "      <td>NaN</td>\n",
       "      <td>NaN</td>\n",
       "      <td>NaN</td>\n",
       "      <td>NaN</td>\n",
       "      <td>NaN</td>\n",
       "      <td>NaN</td>\n",
       "    </tr>\n",
       "    <tr>\n",
       "      <th>1</th>\n",
       "      <td>2018-05-18 00:11:27</td>\n",
       "      <td>viewed product</td>\n",
       "      <td>ad93850f</td>\n",
       "      <td>NaN</td>\n",
       "      <td>304.0</td>\n",
       "      <td>iPhone 5s</td>\n",
       "      <td>Muito Bom</td>\n",
       "      <td>32GB</td>\n",
       "      <td>Cinza espacial</td>\n",
       "      <td>NaN</td>\n",
       "      <td>...</td>\n",
       "      <td>NaN</td>\n",
       "      <td>NaN</td>\n",
       "      <td>NaN</td>\n",
       "      <td>NaN</td>\n",
       "      <td>NaN</td>\n",
       "      <td>NaN</td>\n",
       "      <td>NaN</td>\n",
       "      <td>NaN</td>\n",
       "      <td>NaN</td>\n",
       "      <td>NaN</td>\n",
       "    </tr>\n",
       "    <tr>\n",
       "      <th>2</th>\n",
       "      <td>2018-05-18 00:11:16</td>\n",
       "      <td>viewed product</td>\n",
       "      <td>0297fc1e</td>\n",
       "      <td>NaN</td>\n",
       "      <td>6888.0</td>\n",
       "      <td>iPhone 6S</td>\n",
       "      <td>Muito Bom</td>\n",
       "      <td>64GB</td>\n",
       "      <td>Prateado</td>\n",
       "      <td>NaN</td>\n",
       "      <td>...</td>\n",
       "      <td>NaN</td>\n",
       "      <td>NaN</td>\n",
       "      <td>NaN</td>\n",
       "      <td>NaN</td>\n",
       "      <td>NaN</td>\n",
       "      <td>NaN</td>\n",
       "      <td>NaN</td>\n",
       "      <td>NaN</td>\n",
       "      <td>NaN</td>\n",
       "      <td>NaN</td>\n",
       "    </tr>\n",
       "    <tr>\n",
       "      <th>3</th>\n",
       "      <td>2018-05-18 00:11:14</td>\n",
       "      <td>viewed product</td>\n",
       "      <td>2d681dd8</td>\n",
       "      <td>NaN</td>\n",
       "      <td>11890.0</td>\n",
       "      <td>iPhone 7</td>\n",
       "      <td>Bom</td>\n",
       "      <td>128GB</td>\n",
       "      <td>Vermelho</td>\n",
       "      <td>NaN</td>\n",
       "      <td>...</td>\n",
       "      <td>NaN</td>\n",
       "      <td>NaN</td>\n",
       "      <td>NaN</td>\n",
       "      <td>NaN</td>\n",
       "      <td>NaN</td>\n",
       "      <td>NaN</td>\n",
       "      <td>NaN</td>\n",
       "      <td>NaN</td>\n",
       "      <td>NaN</td>\n",
       "      <td>NaN</td>\n",
       "    </tr>\n",
       "    <tr>\n",
       "      <th>4</th>\n",
       "      <td>2018-05-18 00:11:09</td>\n",
       "      <td>viewed product</td>\n",
       "      <td>cccea85e</td>\n",
       "      <td>NaN</td>\n",
       "      <td>7517.0</td>\n",
       "      <td>LG G4 H818P</td>\n",
       "      <td>Excelente</td>\n",
       "      <td>32GB</td>\n",
       "      <td>Branco</td>\n",
       "      <td>NaN</td>\n",
       "      <td>...</td>\n",
       "      <td>NaN</td>\n",
       "      <td>NaN</td>\n",
       "      <td>NaN</td>\n",
       "      <td>NaN</td>\n",
       "      <td>NaN</td>\n",
       "      <td>NaN</td>\n",
       "      <td>NaN</td>\n",
       "      <td>NaN</td>\n",
       "      <td>NaN</td>\n",
       "      <td>NaN</td>\n",
       "    </tr>\n",
       "  </tbody>\n",
       "</table>\n",
       "<p>5 rows × 23 columns</p>\n",
       "</div>"
      ],
      "text/plain": [
       "             timestamp           event    person  url      sku  \\\n",
       "0  2018-05-18 00:11:59  viewed product  4886f805  NaN   9288.0   \n",
       "1  2018-05-18 00:11:27  viewed product  ad93850f  NaN    304.0   \n",
       "2  2018-05-18 00:11:16  viewed product  0297fc1e  NaN   6888.0   \n",
       "3  2018-05-18 00:11:14  viewed product  2d681dd8  NaN  11890.0   \n",
       "4  2018-05-18 00:11:09  viewed product  cccea85e  NaN   7517.0   \n",
       "\n",
       "                     model  condition storage           color skus  \\\n",
       "0  Samsung Galaxy J7 Prime  Excelente    32GB         Dourado  NaN   \n",
       "1                iPhone 5s  Muito Bom    32GB  Cinza espacial  NaN   \n",
       "2                iPhone 6S  Muito Bom    64GB        Prateado  NaN   \n",
       "3                 iPhone 7        Bom   128GB        Vermelho  NaN   \n",
       "4              LG G4 H818P  Excelente    32GB          Branco  NaN   \n",
       "\n",
       "        ...       search_engine channel new_vs_returning city region country  \\\n",
       "0       ...                 NaN     NaN              NaN  NaN    NaN     NaN   \n",
       "1       ...                 NaN     NaN              NaN  NaN    NaN     NaN   \n",
       "2       ...                 NaN     NaN              NaN  NaN    NaN     NaN   \n",
       "3       ...                 NaN     NaN              NaN  NaN    NaN     NaN   \n",
       "4       ...                 NaN     NaN              NaN  NaN    NaN     NaN   \n",
       "\n",
       "  device_type screen_resolution operating_system_version browser_version  \n",
       "0         NaN               NaN                      NaN             NaN  \n",
       "1         NaN               NaN                      NaN             NaN  \n",
       "2         NaN               NaN                      NaN             NaN  \n",
       "3         NaN               NaN                      NaN             NaN  \n",
       "4         NaN               NaN                      NaN             NaN  \n",
       "\n",
       "[5 rows x 23 columns]"
      ]
     },
     "execution_count": 3,
     "metadata": {},
     "output_type": "execute_result"
    }
   ],
   "source": [
    "events.head()"
   ]
  },
  {
   "cell_type": "code",
   "execution_count": 4,
   "metadata": {},
   "outputs": [
    {
     "data": {
      "text/html": [
       "<div>\n",
       "<style scoped>\n",
       "    .dataframe tbody tr th:only-of-type {\n",
       "        vertical-align: middle;\n",
       "    }\n",
       "\n",
       "    .dataframe tbody tr th {\n",
       "        vertical-align: top;\n",
       "    }\n",
       "\n",
       "    .dataframe thead th {\n",
       "        text-align: right;\n",
       "    }\n",
       "</style>\n",
       "<table border=\"1\" class=\"dataframe\">\n",
       "  <thead>\n",
       "    <tr style=\"text-align: right;\">\n",
       "      <th></th>\n",
       "      <th>person</th>\n",
       "      <th>label</th>\n",
       "    </tr>\n",
       "  </thead>\n",
       "  <tbody>\n",
       "    <tr>\n",
       "      <th>0</th>\n",
       "      <td>0566e9c1</td>\n",
       "      <td>0</td>\n",
       "    </tr>\n",
       "    <tr>\n",
       "      <th>1</th>\n",
       "      <td>6ec7ee77</td>\n",
       "      <td>0</td>\n",
       "    </tr>\n",
       "    <tr>\n",
       "      <th>2</th>\n",
       "      <td>abe7a2fb</td>\n",
       "      <td>0</td>\n",
       "    </tr>\n",
       "    <tr>\n",
       "      <th>3</th>\n",
       "      <td>34728364</td>\n",
       "      <td>0</td>\n",
       "    </tr>\n",
       "    <tr>\n",
       "      <th>4</th>\n",
       "      <td>87ed62de</td>\n",
       "      <td>0</td>\n",
       "    </tr>\n",
       "  </tbody>\n",
       "</table>\n",
       "</div>"
      ],
      "text/plain": [
       "     person  label\n",
       "0  0566e9c1      0\n",
       "1  6ec7ee77      0\n",
       "2  abe7a2fb      0\n",
       "3  34728364      0\n",
       "4  87ed62de      0"
      ]
     },
     "execution_count": 4,
     "metadata": {},
     "output_type": "execute_result"
    }
   ],
   "source": [
    "training.head()"
   ]
  },
  {
   "cell_type": "code",
   "execution_count": 5,
   "metadata": {},
   "outputs": [
    {
     "data": {
      "text/html": [
       "<div>\n",
       "<style scoped>\n",
       "    .dataframe tbody tr th:only-of-type {\n",
       "        vertical-align: middle;\n",
       "    }\n",
       "\n",
       "    .dataframe tbody tr th {\n",
       "        vertical-align: top;\n",
       "    }\n",
       "\n",
       "    .dataframe thead th {\n",
       "        text-align: right;\n",
       "    }\n",
       "</style>\n",
       "<table border=\"1\" class=\"dataframe\">\n",
       "  <thead>\n",
       "    <tr style=\"text-align: right;\">\n",
       "      <th></th>\n",
       "      <th>timestamp</th>\n",
       "      <th>event</th>\n",
       "      <th>person</th>\n",
       "      <th>url</th>\n",
       "      <th>sku</th>\n",
       "      <th>model</th>\n",
       "      <th>condition</th>\n",
       "      <th>storage</th>\n",
       "      <th>color</th>\n",
       "      <th>skus</th>\n",
       "      <th>...</th>\n",
       "      <th>channel</th>\n",
       "      <th>new_vs_returning</th>\n",
       "      <th>city</th>\n",
       "      <th>region</th>\n",
       "      <th>country</th>\n",
       "      <th>device_type</th>\n",
       "      <th>screen_resolution</th>\n",
       "      <th>operating_system_version</th>\n",
       "      <th>browser_version</th>\n",
       "      <th>label</th>\n",
       "    </tr>\n",
       "  </thead>\n",
       "  <tbody>\n",
       "    <tr>\n",
       "      <th>0</th>\n",
       "      <td>2018-05-18 00:11:59</td>\n",
       "      <td>viewed product</td>\n",
       "      <td>4886f805</td>\n",
       "      <td>NaN</td>\n",
       "      <td>9288.0</td>\n",
       "      <td>Samsung Galaxy J7 Prime</td>\n",
       "      <td>Excelente</td>\n",
       "      <td>32GB</td>\n",
       "      <td>Dourado</td>\n",
       "      <td>NaN</td>\n",
       "      <td>...</td>\n",
       "      <td>NaN</td>\n",
       "      <td>NaN</td>\n",
       "      <td>NaN</td>\n",
       "      <td>NaN</td>\n",
       "      <td>NaN</td>\n",
       "      <td>NaN</td>\n",
       "      <td>NaN</td>\n",
       "      <td>NaN</td>\n",
       "      <td>NaN</td>\n",
       "      <td>NaN</td>\n",
       "    </tr>\n",
       "    <tr>\n",
       "      <th>1</th>\n",
       "      <td>2018-05-18 00:11:27</td>\n",
       "      <td>viewed product</td>\n",
       "      <td>ad93850f</td>\n",
       "      <td>NaN</td>\n",
       "      <td>304.0</td>\n",
       "      <td>iPhone 5s</td>\n",
       "      <td>Muito Bom</td>\n",
       "      <td>32GB</td>\n",
       "      <td>Cinza espacial</td>\n",
       "      <td>NaN</td>\n",
       "      <td>...</td>\n",
       "      <td>NaN</td>\n",
       "      <td>NaN</td>\n",
       "      <td>NaN</td>\n",
       "      <td>NaN</td>\n",
       "      <td>NaN</td>\n",
       "      <td>NaN</td>\n",
       "      <td>NaN</td>\n",
       "      <td>NaN</td>\n",
       "      <td>NaN</td>\n",
       "      <td>0.0</td>\n",
       "    </tr>\n",
       "    <tr>\n",
       "      <th>2</th>\n",
       "      <td>2018-05-18 00:11:16</td>\n",
       "      <td>viewed product</td>\n",
       "      <td>0297fc1e</td>\n",
       "      <td>NaN</td>\n",
       "      <td>6888.0</td>\n",
       "      <td>iPhone 6S</td>\n",
       "      <td>Muito Bom</td>\n",
       "      <td>64GB</td>\n",
       "      <td>Prateado</td>\n",
       "      <td>NaN</td>\n",
       "      <td>...</td>\n",
       "      <td>NaN</td>\n",
       "      <td>NaN</td>\n",
       "      <td>NaN</td>\n",
       "      <td>NaN</td>\n",
       "      <td>NaN</td>\n",
       "      <td>NaN</td>\n",
       "      <td>NaN</td>\n",
       "      <td>NaN</td>\n",
       "      <td>NaN</td>\n",
       "      <td>NaN</td>\n",
       "    </tr>\n",
       "    <tr>\n",
       "      <th>3</th>\n",
       "      <td>2018-05-18 00:11:14</td>\n",
       "      <td>viewed product</td>\n",
       "      <td>2d681dd8</td>\n",
       "      <td>NaN</td>\n",
       "      <td>11890.0</td>\n",
       "      <td>iPhone 7</td>\n",
       "      <td>Bom</td>\n",
       "      <td>128GB</td>\n",
       "      <td>Vermelho</td>\n",
       "      <td>NaN</td>\n",
       "      <td>...</td>\n",
       "      <td>NaN</td>\n",
       "      <td>NaN</td>\n",
       "      <td>NaN</td>\n",
       "      <td>NaN</td>\n",
       "      <td>NaN</td>\n",
       "      <td>NaN</td>\n",
       "      <td>NaN</td>\n",
       "      <td>NaN</td>\n",
       "      <td>NaN</td>\n",
       "      <td>NaN</td>\n",
       "    </tr>\n",
       "    <tr>\n",
       "      <th>4</th>\n",
       "      <td>2018-05-18 00:11:09</td>\n",
       "      <td>viewed product</td>\n",
       "      <td>cccea85e</td>\n",
       "      <td>NaN</td>\n",
       "      <td>7517.0</td>\n",
       "      <td>LG G4 H818P</td>\n",
       "      <td>Excelente</td>\n",
       "      <td>32GB</td>\n",
       "      <td>Branco</td>\n",
       "      <td>NaN</td>\n",
       "      <td>...</td>\n",
       "      <td>NaN</td>\n",
       "      <td>NaN</td>\n",
       "      <td>NaN</td>\n",
       "      <td>NaN</td>\n",
       "      <td>NaN</td>\n",
       "      <td>NaN</td>\n",
       "      <td>NaN</td>\n",
       "      <td>NaN</td>\n",
       "      <td>NaN</td>\n",
       "      <td>NaN</td>\n",
       "    </tr>\n",
       "  </tbody>\n",
       "</table>\n",
       "<p>5 rows × 24 columns</p>\n",
       "</div>"
      ],
      "text/plain": [
       "             timestamp           event    person  url      sku  \\\n",
       "0  2018-05-18 00:11:59  viewed product  4886f805  NaN   9288.0   \n",
       "1  2018-05-18 00:11:27  viewed product  ad93850f  NaN    304.0   \n",
       "2  2018-05-18 00:11:16  viewed product  0297fc1e  NaN   6888.0   \n",
       "3  2018-05-18 00:11:14  viewed product  2d681dd8  NaN  11890.0   \n",
       "4  2018-05-18 00:11:09  viewed product  cccea85e  NaN   7517.0   \n",
       "\n",
       "                     model  condition storage           color skus  ...   \\\n",
       "0  Samsung Galaxy J7 Prime  Excelente    32GB         Dourado  NaN  ...    \n",
       "1                iPhone 5s  Muito Bom    32GB  Cinza espacial  NaN  ...    \n",
       "2                iPhone 6S  Muito Bom    64GB        Prateado  NaN  ...    \n",
       "3                 iPhone 7        Bom   128GB        Vermelho  NaN  ...    \n",
       "4              LG G4 H818P  Excelente    32GB          Branco  NaN  ...    \n",
       "\n",
       "  channel new_vs_returning city region country device_type screen_resolution  \\\n",
       "0     NaN              NaN  NaN    NaN     NaN         NaN               NaN   \n",
       "1     NaN              NaN  NaN    NaN     NaN         NaN               NaN   \n",
       "2     NaN              NaN  NaN    NaN     NaN         NaN               NaN   \n",
       "3     NaN              NaN  NaN    NaN     NaN         NaN               NaN   \n",
       "4     NaN              NaN  NaN    NaN     NaN         NaN               NaN   \n",
       "\n",
       "  operating_system_version browser_version label  \n",
       "0                      NaN             NaN   NaN  \n",
       "1                      NaN             NaN   0.0  \n",
       "2                      NaN             NaN   NaN  \n",
       "3                      NaN             NaN   NaN  \n",
       "4                      NaN             NaN   NaN  \n",
       "\n",
       "[5 rows x 24 columns]"
      ]
     },
     "execution_count": 5,
     "metadata": {},
     "output_type": "execute_result"
    }
   ],
   "source": [
    "eventsWithLabel = events.merge(training, how='left', left_on='person', right_on='person')\n",
    "eventsWithLabel.head()"
   ]
  },
  {
   "cell_type": "code",
   "execution_count": 6,
   "metadata": {},
   "outputs": [],
   "source": [
    "eventsWithLabel['timestamp'] = pd.to_datetime(eventsWithLabel['timestamp'])"
   ]
  },
  {
   "cell_type": "code",
   "execution_count": 7,
   "metadata": {},
   "outputs": [],
   "source": [
    "# groupbyPersonas = eventsWithLabel.loc[:,['person', 'event']].groupby('person')\n",
    "# dicc = {}\n",
    "# for clave, data in groupbyPersonas:\n",
    "#     lista = []\n",
    "#     lista = data.drop_duplicates(subset = 'event', keep = 'first')['event'].tolist()\n",
    "#     dicc[clave] = lista"
   ]
  },
  {
   "cell_type": "code",
   "execution_count": 8,
   "metadata": {},
   "outputs": [],
   "source": [
    "#Obtengo una lista de todos los eventos que tiene esa persona\n",
    "# eventsWithLabel['eventos'] = eventsWithLabel['person'].map(lambda x: dicc[x])\n",
    "#Obtengo los dias de la semana\n",
    "eventsWithLabel['dayweek'] = eventsWithLabel.timestamp.dt.dayofweek\n",
    "#Obtengo la fecha\n",
    "eventsWithLabel['fecha'] = eventsWithLabel.timestamp.dt.date\n",
    "#Separo la marca\n",
    "eventsWithLabel['marca'] = eventsWithLabel['model'].map(lambda x: str(x).split()[0])"
   ]
  },
  {
   "cell_type": "code",
   "execution_count": 9,
   "metadata": {},
   "outputs": [],
   "source": [
    "#cantidad de personas que ingresaron 27624.\n",
    "groupbyCantEventos = eventsWithLabel.groupby('person', as_index = False)['event'].agg({'cantEventos': 'count'})\n",
    "groupbyCantEventos.sort_values(by = 'cantEventos', ascending = False)\n",
    "eventsWithLabel = pd.merge(eventsWithLabel, groupbyCantEventos, on = 'person')"
   ]
  },
  {
   "cell_type": "code",
   "execution_count": 10,
   "metadata": {},
   "outputs": [],
   "source": [
    "#Filtro a la gente que no tiene el evento visited_site\n",
    "personasConVisitas = eventsWithLabel.loc[eventsWithLabel['event'] == 'visited site']\\\n",
    "                             .drop_duplicates(subset = 'person', keep = 'first')['person'].tolist()\n",
    "dataNotVisit = eventsWithLabel.loc[eventsWithLabel['person'].isin(personasConVisitas)]"
   ]
  },
  {
   "cell_type": "code",
   "execution_count": 11,
   "metadata": {},
   "outputs": [],
   "source": [
    "eventsWithLabel2 = dataNotVisit.loc[dataNotVisit['event'] == 'visited site'].groupby(['person', 'fecha'], as_index = False).agg({'city': 'first', 'region': 'first', 'country': 'first', 'device_type': 'first', 'operating_system_version': 'first', 'channel': 'first', 'new_vs_returning': 'first'})"
   ]
  },
  {
   "cell_type": "code",
   "execution_count": 12,
   "metadata": {},
   "outputs": [],
   "source": [
    "eventsWithLabel3 = pd.merge(dataNotVisit, eventsWithLabel2, on = ['person', 'fecha'])\n",
    "eventsWithLabel3.drop(['region_x', 'device_type_x', 'operating_system_version_x', 'country_x', 'city_x', 'channel_x', 'new_vs_returning_x'], axis = 1, inplace = True)\n",
    "eventsWithLabel3.rename(columns = {'region_y': 'region', 'device_type_y': 'device_type', 'operating_system_version_y': 'SO', 'city_y': 'city', 'country_y': 'country', 'channel_y': 'channel', 'new_vs_returning_y': 'new_vs_returning'}, inplace =True)"
   ]
  },
  {
   "cell_type": "code",
   "execution_count": 13,
   "metadata": {},
   "outputs": [],
   "source": [
    "def obtenerSistema(so):\n",
    "    sistema = so.split()\n",
    "    if len(sistema) > 1:\n",
    "        otro = sistema[1].split('.')[0]\n",
    "        return sistema[0] + ' ' + otro\n",
    "    else:\n",
    "        return sistema[0]"
   ]
  },
  {
   "cell_type": "code",
   "execution_count": 14,
   "metadata": {},
   "outputs": [],
   "source": [
    "eventsWithLabel3['SO'] = eventsWithLabel3['SO'].map(obtenerSistema)"
   ]
  },
  {
   "cell_type": "code",
   "execution_count": 15,
   "metadata": {},
   "outputs": [],
   "source": [
    "eventosUnicos = eventsWithLabel3.drop_duplicates(subset=\"event\", keep=\"first\").reset_index()[\"event\"]"
   ]
  },
  {
   "cell_type": "code",
   "execution_count": 16,
   "metadata": {},
   "outputs": [],
   "source": [
    "# label_encoder = LabelEncoder()\n",
    "# label_encoder.fit(eventosUnicos)\n",
    "# integer_encoded = label_encoder.transform(eventsWithLabel3[\"event\"])\n",
    "# onehot_encoder = OneHotEncoder(sparse=False)\n",
    "# integer_encoded = integer_encoded.reshape(len(integer_encoded), 1)\n",
    "# onehot_encoded = onehot_encoder.fit_transform(integer_encoded)\n"
   ]
  },
  {
   "cell_type": "code",
   "execution_count": 17,
   "metadata": {},
   "outputs": [],
   "source": [
    "#Funcion que realiza el oneHotEncoding\n",
    "def oneHotEncoding(column, uniqueArray, dataFrame):\n",
    "    label_encoder = LabelEncoder()\n",
    "    label_encoder.fit(uniqueArray)\n",
    "    integer_encoded = label_encoder.transform(dataFrame[column])\n",
    "    onehot_encoder = OneHotEncoder(sparse=False)\n",
    "    integer_encoded = integer_encoded.reshape(len(integer_encoded), 1)\n",
    "    onehot_encoded = onehot_encoder.fit_transform(integer_encoded)\n",
    "    for i, item in enumerate(uniqueArray):\n",
    "        dataFrame[item] = onehot_encoded[:, label_encoder.transform(uniqueArray)[i]]\n"
   ]
  },
  {
   "cell_type": "code",
   "execution_count": 18,
   "metadata": {},
   "outputs": [
    {
     "name": "stderr",
     "output_type": "stream",
     "text": [
      "/home/maximiliano/miniconda3/lib/python3.6/site-packages/sklearn/preprocessing/_encoders.py:368: FutureWarning: The handling of integer data will change in version 0.22. Currently, the categories are determined based on the range [0, max(values)], while in the future they will be determined based on the unique values.\n",
      "If you want the future behaviour and silence this warning, you can specify \"categories='auto'\".\n",
      "In case you used a LabelEncoder before this OneHotEncoder to convert the categories to integers, then you can now use the OneHotEncoder directly.\n",
      "  warnings.warn(msg, FutureWarning)\n"
     ]
    }
   ],
   "source": [
    "oneHotEncoding(\"event\", eventosUnicos, eventsWithLabel3)"
   ]
  },
  {
   "cell_type": "code",
   "execution_count": 19,
   "metadata": {},
   "outputs": [],
   "source": [
    "# for i, event in enumerate(eventosUnicos):\n",
    "#     eventsWithLabel3[event] = onehot_encoded[:, label_encoder.transform(eventosUnicos)[i]]"
   ]
  },
  {
   "cell_type": "code",
   "execution_count": 20,
   "metadata": {},
   "outputs": [
    {
     "data": {
      "text/html": [
       "<div>\n",
       "<style scoped>\n",
       "    .dataframe tbody tr th:only-of-type {\n",
       "        vertical-align: middle;\n",
       "    }\n",
       "\n",
       "    .dataframe tbody tr th {\n",
       "        vertical-align: top;\n",
       "    }\n",
       "\n",
       "    .dataframe thead th {\n",
       "        text-align: right;\n",
       "    }\n",
       "</style>\n",
       "<table border=\"1\" class=\"dataframe\">\n",
       "  <thead>\n",
       "    <tr style=\"text-align: right;\">\n",
       "      <th></th>\n",
       "      <th>timestamp</th>\n",
       "      <th>event</th>\n",
       "      <th>person</th>\n",
       "      <th>url</th>\n",
       "      <th>sku</th>\n",
       "      <th>model</th>\n",
       "      <th>condition</th>\n",
       "      <th>storage</th>\n",
       "      <th>color</th>\n",
       "      <th>skus</th>\n",
       "      <th>...</th>\n",
       "      <th>viewed product</th>\n",
       "      <th>search engine hit</th>\n",
       "      <th>checkout</th>\n",
       "      <th>searched products</th>\n",
       "      <th>generic listing</th>\n",
       "      <th>visited site</th>\n",
       "      <th>ad campaign hit</th>\n",
       "      <th>brand listing</th>\n",
       "      <th>lead</th>\n",
       "      <th>conversion</th>\n",
       "    </tr>\n",
       "  </thead>\n",
       "  <tbody>\n",
       "    <tr>\n",
       "      <th>0</th>\n",
       "      <td>2018-05-18 00:11:59</td>\n",
       "      <td>viewed product</td>\n",
       "      <td>4886f805</td>\n",
       "      <td>NaN</td>\n",
       "      <td>9288.0</td>\n",
       "      <td>Samsung Galaxy J7 Prime</td>\n",
       "      <td>Excelente</td>\n",
       "      <td>32GB</td>\n",
       "      <td>Dourado</td>\n",
       "      <td>NaN</td>\n",
       "      <td>...</td>\n",
       "      <td>1.0</td>\n",
       "      <td>0.0</td>\n",
       "      <td>0.0</td>\n",
       "      <td>0.0</td>\n",
       "      <td>0.0</td>\n",
       "      <td>0.0</td>\n",
       "      <td>0.0</td>\n",
       "      <td>0.0</td>\n",
       "      <td>0.0</td>\n",
       "      <td>0.0</td>\n",
       "    </tr>\n",
       "    <tr>\n",
       "      <th>1</th>\n",
       "      <td>2018-05-18 00:30:30</td>\n",
       "      <td>viewed product</td>\n",
       "      <td>4886f805</td>\n",
       "      <td>NaN</td>\n",
       "      <td>9288.0</td>\n",
       "      <td>Samsung Galaxy J7 Prime</td>\n",
       "      <td>Excelente</td>\n",
       "      <td>32GB</td>\n",
       "      <td>Dourado</td>\n",
       "      <td>NaN</td>\n",
       "      <td>...</td>\n",
       "      <td>1.0</td>\n",
       "      <td>0.0</td>\n",
       "      <td>0.0</td>\n",
       "      <td>0.0</td>\n",
       "      <td>0.0</td>\n",
       "      <td>0.0</td>\n",
       "      <td>0.0</td>\n",
       "      <td>0.0</td>\n",
       "      <td>0.0</td>\n",
       "      <td>0.0</td>\n",
       "    </tr>\n",
       "    <tr>\n",
       "      <th>2</th>\n",
       "      <td>2018-05-18 00:07:23</td>\n",
       "      <td>search engine hit</td>\n",
       "      <td>4886f805</td>\n",
       "      <td>NaN</td>\n",
       "      <td>NaN</td>\n",
       "      <td>NaN</td>\n",
       "      <td>NaN</td>\n",
       "      <td>NaN</td>\n",
       "      <td>NaN</td>\n",
       "      <td>NaN</td>\n",
       "      <td>...</td>\n",
       "      <td>0.0</td>\n",
       "      <td>1.0</td>\n",
       "      <td>0.0</td>\n",
       "      <td>0.0</td>\n",
       "      <td>0.0</td>\n",
       "      <td>0.0</td>\n",
       "      <td>0.0</td>\n",
       "      <td>0.0</td>\n",
       "      <td>0.0</td>\n",
       "      <td>0.0</td>\n",
       "    </tr>\n",
       "    <tr>\n",
       "      <th>3</th>\n",
       "      <td>2018-05-18 00:11:56</td>\n",
       "      <td>checkout</td>\n",
       "      <td>4886f805</td>\n",
       "      <td>NaN</td>\n",
       "      <td>9288.0</td>\n",
       "      <td>Samsung Galaxy J7 Prime</td>\n",
       "      <td>Excelente</td>\n",
       "      <td>32GB</td>\n",
       "      <td>Dourado</td>\n",
       "      <td>NaN</td>\n",
       "      <td>...</td>\n",
       "      <td>0.0</td>\n",
       "      <td>0.0</td>\n",
       "      <td>1.0</td>\n",
       "      <td>0.0</td>\n",
       "      <td>0.0</td>\n",
       "      <td>0.0</td>\n",
       "      <td>0.0</td>\n",
       "      <td>0.0</td>\n",
       "      <td>0.0</td>\n",
       "      <td>0.0</td>\n",
       "    </tr>\n",
       "    <tr>\n",
       "      <th>4</th>\n",
       "      <td>2018-05-18 00:11:35</td>\n",
       "      <td>viewed product</td>\n",
       "      <td>4886f805</td>\n",
       "      <td>NaN</td>\n",
       "      <td>9287.0</td>\n",
       "      <td>Samsung Galaxy J7 Prime</td>\n",
       "      <td>Muito Bom</td>\n",
       "      <td>32GB</td>\n",
       "      <td>Dourado</td>\n",
       "      <td>NaN</td>\n",
       "      <td>...</td>\n",
       "      <td>1.0</td>\n",
       "      <td>0.0</td>\n",
       "      <td>0.0</td>\n",
       "      <td>0.0</td>\n",
       "      <td>0.0</td>\n",
       "      <td>0.0</td>\n",
       "      <td>0.0</td>\n",
       "      <td>0.0</td>\n",
       "      <td>0.0</td>\n",
       "      <td>0.0</td>\n",
       "    </tr>\n",
       "  </tbody>\n",
       "</table>\n",
       "<p>5 rows × 38 columns</p>\n",
       "</div>"
      ],
      "text/plain": [
       "            timestamp              event    person  url     sku  \\\n",
       "0 2018-05-18 00:11:59     viewed product  4886f805  NaN  9288.0   \n",
       "1 2018-05-18 00:30:30     viewed product  4886f805  NaN  9288.0   \n",
       "2 2018-05-18 00:07:23  search engine hit  4886f805  NaN     NaN   \n",
       "3 2018-05-18 00:11:56           checkout  4886f805  NaN  9288.0   \n",
       "4 2018-05-18 00:11:35     viewed product  4886f805  NaN  9287.0   \n",
       "\n",
       "                     model  condition storage    color skus    ...      \\\n",
       "0  Samsung Galaxy J7 Prime  Excelente    32GB  Dourado  NaN    ...       \n",
       "1  Samsung Galaxy J7 Prime  Excelente    32GB  Dourado  NaN    ...       \n",
       "2                      NaN        NaN     NaN      NaN  NaN    ...       \n",
       "3  Samsung Galaxy J7 Prime  Excelente    32GB  Dourado  NaN    ...       \n",
       "4  Samsung Galaxy J7 Prime  Muito Bom    32GB  Dourado  NaN    ...       \n",
       "\n",
       "  viewed product  search engine hit checkout searched products  \\\n",
       "0            1.0                0.0      0.0               0.0   \n",
       "1            1.0                0.0      0.0               0.0   \n",
       "2            0.0                1.0      0.0               0.0   \n",
       "3            0.0                0.0      1.0               0.0   \n",
       "4            1.0                0.0      0.0               0.0   \n",
       "\n",
       "  generic listing visited site  ad campaign hit  brand listing lead conversion  \n",
       "0             0.0          0.0              0.0            0.0  0.0        0.0  \n",
       "1             0.0          0.0              0.0            0.0  0.0        0.0  \n",
       "2             0.0          0.0              0.0            0.0  0.0        0.0  \n",
       "3             0.0          0.0              0.0            0.0  0.0        0.0  \n",
       "4             0.0          0.0              0.0            0.0  0.0        0.0  \n",
       "\n",
       "[5 rows x 38 columns]"
      ]
     },
     "execution_count": 20,
     "metadata": {},
     "output_type": "execute_result"
    }
   ],
   "source": [
    "eventsWithLabel3.head()"
   ]
  },
  {
   "cell_type": "code",
   "execution_count": 21,
   "metadata": {},
   "outputs": [],
   "source": [
    "eventsWithLabel3[\"color\"] = eventsWithLabel3.color.str.split(\" \", expand=True)"
   ]
  },
  {
   "cell_type": "code",
   "execution_count": 22,
   "metadata": {},
   "outputs": [
    {
     "data": {
      "text/plain": [
       "Index(['Preto', 'Dourado', 'Cinza', 'Branco', 'Prateado', 'Ouro', 'Rosa',\n",
       "       'Prata', 'Azul', 'Platinum', 'Ametista', 'Verde', 'Vermelho', 'Bambu',\n",
       "       'Black', 'Titânio', 'Indigo', 'Amarelo', 'Cabernet', 'Olympic'],\n",
       "      dtype='object')"
      ]
     },
     "execution_count": 22,
     "metadata": {},
     "output_type": "execute_result"
    }
   ],
   "source": [
    "top20Colors = eventsWithLabel3['color'].value_counts().nlargest(20).index\n",
    "top20Colors"
   ]
  },
  {
   "cell_type": "code",
   "execution_count": 23,
   "metadata": {},
   "outputs": [],
   "source": [
    "def colorGrouping(x):\n",
    "    return x if x in top20Colors else 'Otro'"
   ]
  },
  {
   "cell_type": "code",
   "execution_count": 24,
   "metadata": {},
   "outputs": [],
   "source": [
    "eventsWithLabel3['color'] = eventsWithLabel3['color'].apply(colorGrouping)"
   ]
  },
  {
   "cell_type": "code",
   "execution_count": 25,
   "metadata": {},
   "outputs": [],
   "source": [
    "eventsWithLabel3['color'] = eventsWithLabel3['color'].fillna(value='idk')\n",
    "coloresUnicos = eventsWithLabel3.drop_duplicates(subset='color', keep='first').reset_index()[\"color\"]"
   ]
  },
  {
   "cell_type": "code",
   "execution_count": 26,
   "metadata": {},
   "outputs": [
    {
     "name": "stderr",
     "output_type": "stream",
     "text": [
      "/home/maximiliano/miniconda3/lib/python3.6/site-packages/sklearn/preprocessing/_encoders.py:368: FutureWarning: The handling of integer data will change in version 0.22. Currently, the categories are determined based on the range [0, max(values)], while in the future they will be determined based on the unique values.\n",
      "If you want the future behaviour and silence this warning, you can specify \"categories='auto'\".\n",
      "In case you used a LabelEncoder before this OneHotEncoder to convert the categories to integers, then you can now use the OneHotEncoder directly.\n",
      "  warnings.warn(msg, FutureWarning)\n"
     ]
    }
   ],
   "source": [
    "oneHotEncoding(\"color\", coloresUnicos, eventsWithLabel3)"
   ]
  },
  {
   "cell_type": "code",
   "execution_count": 27,
   "metadata": {},
   "outputs": [
    {
     "data": {
      "text/plain": [
       "Bom                   541428\n",
       "Excelente             374870\n",
       "Muito Bom             354901\n",
       "Bom - Sem Touch ID     31391\n",
       "Novo                    3397\n",
       "Name: condition, dtype: int64"
      ]
     },
     "execution_count": 27,
     "metadata": {},
     "output_type": "execute_result"
    }
   ],
   "source": [
    "eventsWithLabel3['condition'].value_counts()"
   ]
  },
  {
   "cell_type": "code",
   "execution_count": 28,
   "metadata": {},
   "outputs": [],
   "source": [
    "def conditionType(x):\n",
    "    conditions = {\n",
    "        \"Bom - Sem Touch ID\" : 1,\n",
    "        \"Bom\" : 2,\n",
    "        \"Muito Bom\" : 3,\n",
    "        \"Excelente\" : 4,\n",
    "        \"Novo\" : 5\n",
    "    }\n",
    "    return conditions[x] if x in conditions else 0"
   ]
  },
  {
   "cell_type": "code",
   "execution_count": 29,
   "metadata": {},
   "outputs": [],
   "source": [
    "eventsWithLabel3['condition'] = eventsWithLabel3['condition'].apply(conditionType)"
   ]
  },
  {
   "cell_type": "code",
   "execution_count": 30,
   "metadata": {},
   "outputs": [
    {
     "data": {
      "text/plain": [
       "16GB     436689\n",
       "32GB     425751\n",
       "64GB     226577\n",
       "128GB     98510\n",
       "8GB       94320\n",
       "256GB     17501\n",
       "4GB        5318\n",
       "512MB      1321\n",
       "Name: storage, dtype: int64"
      ]
     },
     "execution_count": 30,
     "metadata": {},
     "output_type": "execute_result"
    }
   ],
   "source": [
    "eventsWithLabel3['storage'].value_counts()"
   ]
  },
  {
   "cell_type": "code",
   "execution_count": 31,
   "metadata": {},
   "outputs": [],
   "source": [
    "def storageType(x):\n",
    "    storages = {\n",
    "        \"512MB\" : 1,\n",
    "        \"4GB\" : 2,\n",
    "        \"8GB\" : 3,\n",
    "        \"16GB\" : 4,\n",
    "        \"32GB\" : 5,\n",
    "        \"64GB\" : 6,\n",
    "        \"128GB\" : 7,\n",
    "        \"256GB\" : 8\n",
    "    }\n",
    "    return storages[x] if x in storages else 0"
   ]
  },
  {
   "cell_type": "code",
   "execution_count": 32,
   "metadata": {},
   "outputs": [],
   "source": [
    "eventsWithLabel3['storage'] = eventsWithLabel3['storage'].apply(storageType)"
   ]
  },
  {
   "cell_type": "code",
   "execution_count": 33,
   "metadata": {
    "scrolled": true
   },
   "outputs": [
    {
     "data": {
      "text/plain": [
       "iPhone 6                                     106118\n",
       "iPhone 5s                                    100448\n",
       "iPhone 6S                                     96485\n",
       "iPhone 7                                      58598\n",
       "Samsung Galaxy S7 Edge                        49915\n",
       "iPhone 7 Plus                                 44627\n",
       "Samsung Galaxy S7                             39279\n",
       "iPhone 6S Plus                                37653\n",
       "iPhone SE                                     36671\n",
       "Samsung Galaxy S8                             32513\n",
       "iPhone 6 Plus                                 32000\n",
       "Samsung Galaxy S6 Edge                        30555\n",
       "Samsung Galaxy J5                             29121\n",
       "iPhone 5c                                     27763\n",
       "Samsung Galaxy S6 Flat                        27485\n",
       "Motorola Moto G4 Plus                         24888\n",
       "Samsung Galaxy J7 Prime                       24808\n",
       "Samsung Galaxy S8 Plus                        20804\n",
       "iPhone 5                                      18388\n",
       "Samsung Galaxy A5 2017                        16402\n",
       "Samsung Galaxy A7 2017                        15816\n",
       "iPhone 4S                                     14282\n",
       "Samsung Galaxy J7                             14046\n",
       "Motorola Moto G5 Plus                         13629\n",
       "Motorola Moto X Play 4G Dual                  13171\n",
       "Motorola Moto X2                              12986\n",
       "Samsung Galaxy S5                             11917\n",
       "Motorola Moto G3 4G                           11756\n",
       "Samsung Galaxy Note 8                         11500\n",
       "Motorola Moto G5                              11059\n",
       "                                              ...  \n",
       "Quantum Muv Up                                   37\n",
       "Samsung Gear S3 Frontier                         34\n",
       "Samsung Gear Fit 2 Grande                        34\n",
       "Asus Live                                        26\n",
       "Samsung Galaxy Young 2 Duos TV                   26\n",
       "Samsung Galaxy Tab E 9.6 Wi-Fi                   26\n",
       "Samsung Galaxy Tab E 7 Wi-Fi + 3G                24\n",
       "Samsung Galaxy Tab E 7 Wi-Fi                     24\n",
       "iPad Mini 2 Wi-Fi + 4G                           23\n",
       "iPad 4 Wi-Fi + 4G                                21\n",
       "iPad 2 Wi-Fi                                     17\n",
       "LG L80 Dual                                      12\n",
       "Samsung Gear S3 Classic                           8\n",
       "Samsung Galaxy Tab E 9.6 Wi-Fi + 3G               8\n",
       "Samsung Galaxy Pocket 2 Duos                      6\n",
       "Samsung Galaxy Tab A 2016 10.1  W-Fi + 4G         5\n",
       "Samsung Galaxy Tab S 10.5 Wi-Fi                   4\n",
       "Quantum GO 3G                                     4\n",
       "iPad Mini 4 Wi-Fi + 4G                            3\n",
       "Asus Zenfone 2 Laser 6\"                           2\n",
       "Motorola Moto G1 4G                               1\n",
       "Samsung Galaxy S Duos 2                           1\n",
       "Samsung Galaxy Tab 4 10.1 Wi-Fi                   1\n",
       "Sony Xperia Z ULTRA                               1\n",
       "Motorola Moto E1                                  1\n",
       "Motorola Moto G1 3G                               1\n",
       "LG Nexus 4                                        1\n",
       "Xiaomi Redmi 2                                    1\n",
       "Outros TV LED 15                                  1\n",
       "LG G2 Mini D618                                   1\n",
       "Name: model, Length: 207, dtype: int64"
      ]
     },
     "execution_count": 33,
     "metadata": {},
     "output_type": "execute_result"
    }
   ],
   "source": [
    "eventsWithLabel3['model'].value_counts()"
   ]
  },
  {
   "cell_type": "code",
   "execution_count": 34,
   "metadata": {
    "scrolled": true
   },
   "outputs": [],
   "source": [
    "eventsWithLabel3['model'] = eventsWithLabel3['model'].fillna(value='idk')\n",
    "modelosUnicos = eventsWithLabel3.drop_duplicates(subset='model', keep='first').reset_index()['model']\n"
   ]
  },
  {
   "cell_type": "code",
   "execution_count": 36,
   "metadata": {},
   "outputs": [
    {
     "data": {
      "text/html": [
       "<div>\n",
       "<style scoped>\n",
       "    .dataframe tbody tr th:only-of-type {\n",
       "        vertical-align: middle;\n",
       "    }\n",
       "\n",
       "    .dataframe tbody tr th {\n",
       "        vertical-align: top;\n",
       "    }\n",
       "\n",
       "    .dataframe thead th {\n",
       "        text-align: right;\n",
       "    }\n",
       "</style>\n",
       "<table border=\"1\" class=\"dataframe\">\n",
       "  <thead>\n",
       "    <tr style=\"text-align: right;\">\n",
       "      <th></th>\n",
       "      <th>timestamp</th>\n",
       "      <th>event</th>\n",
       "      <th>person</th>\n",
       "      <th>url</th>\n",
       "      <th>sku</th>\n",
       "      <th>model</th>\n",
       "      <th>condition</th>\n",
       "      <th>storage</th>\n",
       "      <th>color</th>\n",
       "      <th>skus</th>\n",
       "      <th>...</th>\n",
       "      <th>Titânio</th>\n",
       "      <th>Prata</th>\n",
       "      <th>Azul</th>\n",
       "      <th>Verde</th>\n",
       "      <th>Indigo</th>\n",
       "      <th>Ametista</th>\n",
       "      <th>Black</th>\n",
       "      <th>Cabernet</th>\n",
       "      <th>Amarelo</th>\n",
       "      <th>most_viewed_model</th>\n",
       "    </tr>\n",
       "  </thead>\n",
       "  <tbody>\n",
       "    <tr>\n",
       "      <th>0</th>\n",
       "      <td>2018-05-18 00:11:59</td>\n",
       "      <td>viewed product</td>\n",
       "      <td>4886f805</td>\n",
       "      <td>NaN</td>\n",
       "      <td>9288.0</td>\n",
       "      <td>Samsung Galaxy J7 Prime</td>\n",
       "      <td>4</td>\n",
       "      <td>5</td>\n",
       "      <td>Dourado</td>\n",
       "      <td>NaN</td>\n",
       "      <td>...</td>\n",
       "      <td>0.0</td>\n",
       "      <td>0.0</td>\n",
       "      <td>0.0</td>\n",
       "      <td>0.0</td>\n",
       "      <td>0.0</td>\n",
       "      <td>0.0</td>\n",
       "      <td>0.0</td>\n",
       "      <td>0.0</td>\n",
       "      <td>0.0</td>\n",
       "      <td>Samsung Galaxy J7 Prime</td>\n",
       "    </tr>\n",
       "    <tr>\n",
       "      <th>1</th>\n",
       "      <td>2018-05-18 00:30:30</td>\n",
       "      <td>viewed product</td>\n",
       "      <td>4886f805</td>\n",
       "      <td>NaN</td>\n",
       "      <td>9288.0</td>\n",
       "      <td>Samsung Galaxy J7 Prime</td>\n",
       "      <td>4</td>\n",
       "      <td>5</td>\n",
       "      <td>Dourado</td>\n",
       "      <td>NaN</td>\n",
       "      <td>...</td>\n",
       "      <td>0.0</td>\n",
       "      <td>0.0</td>\n",
       "      <td>0.0</td>\n",
       "      <td>0.0</td>\n",
       "      <td>0.0</td>\n",
       "      <td>0.0</td>\n",
       "      <td>0.0</td>\n",
       "      <td>0.0</td>\n",
       "      <td>0.0</td>\n",
       "      <td>Samsung Galaxy J7 Prime</td>\n",
       "    </tr>\n",
       "    <tr>\n",
       "      <th>2</th>\n",
       "      <td>2018-05-18 00:07:23</td>\n",
       "      <td>search engine hit</td>\n",
       "      <td>4886f805</td>\n",
       "      <td>NaN</td>\n",
       "      <td>NaN</td>\n",
       "      <td>idk</td>\n",
       "      <td>0</td>\n",
       "      <td>0</td>\n",
       "      <td>Otro</td>\n",
       "      <td>NaN</td>\n",
       "      <td>...</td>\n",
       "      <td>0.0</td>\n",
       "      <td>0.0</td>\n",
       "      <td>0.0</td>\n",
       "      <td>0.0</td>\n",
       "      <td>0.0</td>\n",
       "      <td>0.0</td>\n",
       "      <td>0.0</td>\n",
       "      <td>0.0</td>\n",
       "      <td>0.0</td>\n",
       "      <td>Samsung Galaxy J7 Prime</td>\n",
       "    </tr>\n",
       "    <tr>\n",
       "      <th>3</th>\n",
       "      <td>2018-05-18 00:11:56</td>\n",
       "      <td>checkout</td>\n",
       "      <td>4886f805</td>\n",
       "      <td>NaN</td>\n",
       "      <td>9288.0</td>\n",
       "      <td>Samsung Galaxy J7 Prime</td>\n",
       "      <td>4</td>\n",
       "      <td>5</td>\n",
       "      <td>Dourado</td>\n",
       "      <td>NaN</td>\n",
       "      <td>...</td>\n",
       "      <td>0.0</td>\n",
       "      <td>0.0</td>\n",
       "      <td>0.0</td>\n",
       "      <td>0.0</td>\n",
       "      <td>0.0</td>\n",
       "      <td>0.0</td>\n",
       "      <td>0.0</td>\n",
       "      <td>0.0</td>\n",
       "      <td>0.0</td>\n",
       "      <td>Samsung Galaxy J7 Prime</td>\n",
       "    </tr>\n",
       "    <tr>\n",
       "      <th>4</th>\n",
       "      <td>2018-05-18 00:11:35</td>\n",
       "      <td>viewed product</td>\n",
       "      <td>4886f805</td>\n",
       "      <td>NaN</td>\n",
       "      <td>9287.0</td>\n",
       "      <td>Samsung Galaxy J7 Prime</td>\n",
       "      <td>3</td>\n",
       "      <td>5</td>\n",
       "      <td>Dourado</td>\n",
       "      <td>NaN</td>\n",
       "      <td>...</td>\n",
       "      <td>0.0</td>\n",
       "      <td>0.0</td>\n",
       "      <td>0.0</td>\n",
       "      <td>0.0</td>\n",
       "      <td>0.0</td>\n",
       "      <td>0.0</td>\n",
       "      <td>0.0</td>\n",
       "      <td>0.0</td>\n",
       "      <td>0.0</td>\n",
       "      <td>Samsung Galaxy J7 Prime</td>\n",
       "    </tr>\n",
       "  </tbody>\n",
       "</table>\n",
       "<p>5 rows × 60 columns</p>\n",
       "</div>"
      ],
      "text/plain": [
       "            timestamp              event    person  url     sku  \\\n",
       "0 2018-05-18 00:11:59     viewed product  4886f805  NaN  9288.0   \n",
       "1 2018-05-18 00:30:30     viewed product  4886f805  NaN  9288.0   \n",
       "2 2018-05-18 00:07:23  search engine hit  4886f805  NaN     NaN   \n",
       "3 2018-05-18 00:11:56           checkout  4886f805  NaN  9288.0   \n",
       "4 2018-05-18 00:11:35     viewed product  4886f805  NaN  9287.0   \n",
       "\n",
       "                     model  condition  storage    color skus  \\\n",
       "0  Samsung Galaxy J7 Prime          4        5  Dourado  NaN   \n",
       "1  Samsung Galaxy J7 Prime          4        5  Dourado  NaN   \n",
       "2                      idk          0        0     Otro  NaN   \n",
       "3  Samsung Galaxy J7 Prime          4        5  Dourado  NaN   \n",
       "4  Samsung Galaxy J7 Prime          3        5  Dourado  NaN   \n",
       "\n",
       "            ...            Titânio  Prata Azul Verde Indigo Ametista  Black  \\\n",
       "0           ...                0.0    0.0  0.0   0.0    0.0      0.0    0.0   \n",
       "1           ...                0.0    0.0  0.0   0.0    0.0      0.0    0.0   \n",
       "2           ...                0.0    0.0  0.0   0.0    0.0      0.0    0.0   \n",
       "3           ...                0.0    0.0  0.0   0.0    0.0      0.0    0.0   \n",
       "4           ...                0.0    0.0  0.0   0.0    0.0      0.0    0.0   \n",
       "\n",
       "   Cabernet Amarelo        most_viewed_model  \n",
       "0       0.0     0.0  Samsung Galaxy J7 Prime  \n",
       "1       0.0     0.0  Samsung Galaxy J7 Prime  \n",
       "2       0.0     0.0  Samsung Galaxy J7 Prime  \n",
       "3       0.0     0.0  Samsung Galaxy J7 Prime  \n",
       "4       0.0     0.0  Samsung Galaxy J7 Prime  \n",
       "\n",
       "[5 rows x 60 columns]"
      ]
     },
     "execution_count": 36,
     "metadata": {},
     "output_type": "execute_result"
    }
   ],
   "source": [
    "def most_viewed_model(group):\n",
    "    top_2_most_viewed = group.value_counts().head(2)\n",
    "    if top_2_most_viewed.index[0] != \"idk\" or len(top_2_most_viewed) == 1:\n",
    "        return top_2_most_viewed.index[0]\n",
    "    else:\n",
    "        return top_2_most_viewed.index[1]\n",
    "    \n",
    "e = eventsWithLabel3.groupby('person').model.apply(most_viewed_model).reset_index()\n",
    "e = e.rename(columns=dict(level_2='model', model='most_viewed_model'))\n",
    "e\n",
    "eventsWithLabel3 = eventsWithLabel3.merge(e, how='inner', left_on='person', right_on='person')\n",
    "eventsWithLabel3.head(5)"
   ]
  },
  {
   "cell_type": "code",
   "execution_count": null,
   "metadata": {},
   "outputs": [],
   "source": [
    "label_encoder.fit(modelosUnicos['model'])\n",
    "eventsWithLabel3['model'] = label_encoder.fit_transform(eventsWithLabel3['model'])"
   ]
  },
  {
   "cell_type": "code",
   "execution_count": null,
   "metadata": {
    "scrolled": true
   },
   "outputs": [],
   "source": [
    "eventsWithLabel3['search_term'] = eventsWithLabel3['search_term'].fillna(value='idk')\n",
    "searchTermUnicos = eventsWithLabel3.drop_duplicates(subset='search_term', keep='first').reset_index()\n",
    "searchTermUnicos['search_term']"
   ]
  },
  {
   "cell_type": "code",
   "execution_count": null,
   "metadata": {},
   "outputs": [],
   "source": [
    "label_encoder.fit(searchTermUnicos['search_term'])\n",
    "eventsWithLabel3['search_term'] = label_encoder.fit_transform(eventsWithLabel3['search_term'])"
   ]
  },
  {
   "cell_type": "code",
   "execution_count": null,
   "metadata": {},
   "outputs": [],
   "source": [
    "eventsWithLabel3['campaign_source'].value_counts()"
   ]
  },
  {
   "cell_type": "code",
   "execution_count": null,
   "metadata": {},
   "outputs": [],
   "source": [
    "eventsWithLabel3['campaign_source'] = eventsWithLabel3['campaign_source'].fillna(value='idk')\n",
    "campaingUnicos = eventsWithLabel3.drop_duplicates(subset='campaign_source', keep='first').reset_index()\n",
    "campaingUnicos['campaign_source']"
   ]
  },
  {
   "cell_type": "code",
   "execution_count": null,
   "metadata": {},
   "outputs": [],
   "source": [
    "label_encoder.fit(campaingUnicos['campaign_source'])\n",
    "eventsWithLabel3['campaign_source'] = label_encoder.fit_transform(eventsWithLabel3['campaign_source'])"
   ]
  },
  {
   "cell_type": "code",
   "execution_count": null,
   "metadata": {},
   "outputs": [],
   "source": [
    "eventsWithLabel3['search_engine'].value_counts()"
   ]
  },
  {
   "cell_type": "code",
   "execution_count": null,
   "metadata": {},
   "outputs": [],
   "source": [
    "eventsWithLabel3['search_engine'] = eventsWithLabel3['search_engine'].fillna(value='idk')\n",
    "searchEngineUnicos = eventsWithLabel3.drop_duplicates(subset='search_engine', keep='first').reset_index()[\"search_engine\"]"
   ]
  },
  {
   "cell_type": "code",
   "execution_count": null,
   "metadata": {},
   "outputs": [],
   "source": [
    "label_encoder.fit(searchEngineUnicos)\n",
    "integer_encoded = label_encoder.transform(eventsWithLabel3[\"search_engine\"])\n",
    "\n",
    "onehot_encoder = OneHotEncoder(sparse=False)\n",
    "integer_encoded = integer_encoded.reshape(len(integer_encoded), 1)\n",
    "onehot_encoded = onehot_encoder.fit_transform(integer_encoded)"
   ]
  },
  {
   "cell_type": "code",
   "execution_count": null,
   "metadata": {},
   "outputs": [],
   "source": [
    "for i, event in enumerate(searchEngineUnicos):\n",
    "    eventsWithLabel3[event] = onehot_encoded[:, label_encoder.transform(searchEngineUnicos)[i]]"
   ]
  },
  {
   "cell_type": "code",
   "execution_count": null,
   "metadata": {
    "scrolled": true
   },
   "outputs": [],
   "source": [
    "eventsWithLabel3['browser_version'] = eventsWithLabel3['browser_version'].fillna(value='idk')\n",
    "browserUnicos = eventsWithLabel3.drop_duplicates(subset='browser_version', keep='first').reset_index()\n",
    "browserUnicos['browser_version']"
   ]
  },
  {
   "cell_type": "code",
   "execution_count": null,
   "metadata": {},
   "outputs": [],
   "source": [
    "label_encoder.fit(browserUnicos['browser_version'])\n",
    "eventsWithLabel3['browser_version'] = label_encoder.fit_transform(eventsWithLabel3['browser_version'])"
   ]
  },
  {
   "cell_type": "code",
   "execution_count": null,
   "metadata": {},
   "outputs": [],
   "source": [
    "marcaUnicos = eventsWithLabel3.drop_duplicates(subset='marca', keep='first').reset_index()[\"marca\"]"
   ]
  },
  {
   "cell_type": "code",
   "execution_count": null,
   "metadata": {},
   "outputs": [],
   "source": [
    "label_encoder.fit(marcaUnicos)\n",
    "integer_encoded = label_encoder.transform(eventsWithLabel3[\"marca\"])\n",
    "\n",
    "onehot_encoder = OneHotEncoder(sparse=False)\n",
    "integer_encoded = integer_encoded.reshape(len(integer_encoded), 1)\n",
    "onehot_encoded = onehot_encoder.fit_transform(integer_encoded)"
   ]
  },
  {
   "cell_type": "code",
   "execution_count": null,
   "metadata": {},
   "outputs": [],
   "source": [
    "for i, event in enumerate(marcaUnicos):\n",
    "    eventsWithLabel3[event] = onehot_encoded[:, label_encoder.transform(marcaUnicos)[i]]"
   ]
  },
  {
   "cell_type": "code",
   "execution_count": null,
   "metadata": {
    "scrolled": true
   },
   "outputs": [],
   "source": [
    "eventsWithLabel3['city'].value_counts()"
   ]
  },
  {
   "cell_type": "code",
   "execution_count": null,
   "metadata": {
    "scrolled": true
   },
   "outputs": [],
   "source": [
    "eventsWithLabel3['city'] = eventsWithLabel3['city'].fillna(value='idk')\n",
    "ciudadUnicos = eventsWithLabel3.drop_duplicates(subset='city', keep='first').reset_index()\n",
    "ciudadUnicos['city']"
   ]
  },
  {
   "cell_type": "code",
   "execution_count": null,
   "metadata": {},
   "outputs": [],
   "source": [
    "label_encoder.fit(ciudadUnicos['city'])\n",
    "eventsWithLabel3['city'] = label_encoder.fit_transform(eventsWithLabel3['city'])"
   ]
  },
  {
   "cell_type": "code",
   "execution_count": null,
   "metadata": {
    "scrolled": true
   },
   "outputs": [],
   "source": [
    "eventsWithLabel3['region'].value_counts()"
   ]
  },
  {
   "cell_type": "code",
   "execution_count": null,
   "metadata": {
    "scrolled": true
   },
   "outputs": [],
   "source": [
    "eventsWithLabel3['region'] = eventsWithLabel3['region'].fillna(value='idk')\n",
    "regionUnicos = eventsWithLabel3.drop_duplicates(subset='region', keep='first').reset_index()\n",
    "regionUnicos['region']"
   ]
  },
  {
   "cell_type": "code",
   "execution_count": null,
   "metadata": {},
   "outputs": [],
   "source": [
    "label_encoder.fit(regionUnicos['region'])\n",
    "eventsWithLabel3['region'] = label_encoder.fit_transform(eventsWithLabel3['region'])"
   ]
  },
  {
   "cell_type": "code",
   "execution_count": null,
   "metadata": {
    "scrolled": true
   },
   "outputs": [],
   "source": [
    "eventsWithLabel3['country'].value_counts()"
   ]
  },
  {
   "cell_type": "code",
   "execution_count": null,
   "metadata": {
    "scrolled": true
   },
   "outputs": [],
   "source": [
    "eventsWithLabel3['country'] = eventsWithLabel3['country'].fillna(value='idk')\n",
    "paisUnicos = eventsWithLabel3.drop_duplicates(subset='country', keep='first').reset_index()\n",
    "paisUnicos['country']"
   ]
  },
  {
   "cell_type": "code",
   "execution_count": null,
   "metadata": {},
   "outputs": [],
   "source": [
    "label_encoder.fit(paisUnicos['country'])\n",
    "eventsWithLabel3['country'] = label_encoder.fit_transform(eventsWithLabel3['country'])"
   ]
  },
  {
   "cell_type": "code",
   "execution_count": null,
   "metadata": {},
   "outputs": [],
   "source": [
    "deviceUnicos = eventsWithLabel3.drop_duplicates(subset='device_type', keep='first').reset_index()[\"device_type\"]"
   ]
  },
  {
   "cell_type": "code",
   "execution_count": null,
   "metadata": {},
   "outputs": [],
   "source": [
    "label_encoder.fit(deviceUnicos)\n",
    "integer_encoded = label_encoder.transform(eventsWithLabel3[\"device_type\"])\n",
    "\n",
    "onehot_encoder = OneHotEncoder(sparse=False)\n",
    "integer_encoded = integer_encoded.reshape(len(integer_encoded), 1)\n",
    "onehot_encoded = onehot_encoder.fit_transform(integer_encoded)"
   ]
  },
  {
   "cell_type": "code",
   "execution_count": null,
   "metadata": {},
   "outputs": [],
   "source": [
    "for i, event in enumerate(deviceUnicos):\n",
    "    eventsWithLabel3[event] = onehot_encoded[:, label_encoder.transform(deviceUnicos)[i]]"
   ]
  },
  {
   "cell_type": "code",
   "execution_count": null,
   "metadata": {
    "scrolled": true
   },
   "outputs": [],
   "source": [
    "eventsWithLabel3['SO'].value_counts()"
   ]
  },
  {
   "cell_type": "code",
   "execution_count": null,
   "metadata": {
    "scrolled": true
   },
   "outputs": [],
   "source": [
    "eventsWithLabel3['SO'] = eventsWithLabel3['SO'].fillna(value='idk')\n",
    "SOUnicos = eventsWithLabel3.drop_duplicates(subset='SO', keep='first').reset_index()\n",
    "SOUnicos['SO']"
   ]
  },
  {
   "cell_type": "code",
   "execution_count": null,
   "metadata": {},
   "outputs": [],
   "source": [
    "label_encoder.fit(SOUnicos['SO'])\n",
    "eventsWithLabel3['SO'] = label_encoder.fit_transform(eventsWithLabel3['SO'])"
   ]
  },
  {
   "cell_type": "code",
   "execution_count": null,
   "metadata": {},
   "outputs": [],
   "source": [
    "eventsWithLabel3['channel'].value_counts()"
   ]
  },
  {
   "cell_type": "code",
   "execution_count": null,
   "metadata": {},
   "outputs": [],
   "source": [
    "channelUnicos = eventsWithLabel3.drop_duplicates(subset='channel', keep='first').reset_index()[\"channel\"]"
   ]
  },
  {
   "cell_type": "code",
   "execution_count": null,
   "metadata": {},
   "outputs": [],
   "source": [
    "label_encoder.fit(channelUnicos)\n",
    "integer_encoded = label_encoder.transform(eventsWithLabel3[\"channel\"])\n",
    "\n",
    "onehot_encoder = OneHotEncoder(sparse=False)\n",
    "integer_encoded = integer_encoded.reshape(len(integer_encoded), 1)\n",
    "onehot_encoded = onehot_encoder.fit_transform(integer_encoded)"
   ]
  },
  {
   "cell_type": "code",
   "execution_count": null,
   "metadata": {},
   "outputs": [],
   "source": [
    "for i, event in enumerate(channelUnicos):\n",
    "    eventsWithLabel3[event] = onehot_encoded[:, label_encoder.transform(channelUnicos)[i]]"
   ]
  },
  {
   "cell_type": "code",
   "execution_count": null,
   "metadata": {
    "scrolled": true
   },
   "outputs": [],
   "source": [
    "eventsWithLabel3['person'] = eventsWithLabel3['person'].fillna(value='idk')\n",
    "personUnicos = eventsWithLabel3.drop_duplicates(subset='person', keep='first').reset_index()\n",
    "personUnicos['person']"
   ]
  },
  {
   "cell_type": "code",
   "execution_count": null,
   "metadata": {},
   "outputs": [],
   "source": [
    "label_encoder.fit(personUnicos['person'])\n",
    "eventsWithLabel3['person'] = label_encoder.fit_transform(eventsWithLabel3['person'])"
   ]
  },
  {
   "cell_type": "code",
   "execution_count": null,
   "metadata": {
    "scrolled": true
   },
   "outputs": [],
   "source": [
    "eventsWithLabel3['fecha'] = eventsWithLabel3['fecha'].fillna(value='idk')\n",
    "fechaUnicos = eventsWithLabel3.drop_duplicates(subset='fecha', keep='first').reset_index()\n",
    "fechaUnicos['fecha']"
   ]
  },
  {
   "cell_type": "code",
   "execution_count": null,
   "metadata": {},
   "outputs": [],
   "source": [
    "label_encoder.fit(fechaUnicos['fecha'])\n",
    "eventsWithLabel3['fecha'] = label_encoder.fit_transform(eventsWithLabel3['fecha'])"
   ]
  },
  {
   "cell_type": "code",
   "execution_count": null,
   "metadata": {},
   "outputs": [],
   "source": [
    "eventsWithLabel3.info()"
   ]
  },
  {
   "cell_type": "code",
   "execution_count": null,
   "metadata": {},
   "outputs": [],
   "source": [
    "eventsWithLabel3.head()"
   ]
  },
  {
   "cell_type": "code",
   "execution_count": null,
   "metadata": {},
   "outputs": [],
   "source": [
    "testDF = eventsWithLabel3.loc[eventsWithLabel3['label'].isnull()]\n",
    "testDF.head()"
   ]
  },
  {
   "cell_type": "code",
   "execution_count": null,
   "metadata": {
    "scrolled": true
   },
   "outputs": [],
   "source": [
    "trainingDF = eventsWithLabel3.loc[eventsWithLabel3['label'].notnull()]\n",
    "trainingDF.head()"
   ]
  },
  {
   "cell_type": "code",
   "execution_count": null,
   "metadata": {},
   "outputs": [],
   "source": [
    "trainingDF['storage'].value_counts()"
   ]
  },
  {
   "cell_type": "code",
   "execution_count": null,
   "metadata": {},
   "outputs": [],
   "source": [
    "trainingDF['color'].value_counts()"
   ]
  },
  {
   "cell_type": "code",
   "execution_count": null,
   "metadata": {},
   "outputs": [],
   "source": [
    "trainingDF['campaign_source'].value_counts()"
   ]
  },
  {
   "cell_type": "code",
   "execution_count": null,
   "metadata": {},
   "outputs": [],
   "source": [
    "trainingDF['search_engine'].value_counts()"
   ]
  },
  {
   "cell_type": "code",
   "execution_count": null,
   "metadata": {
    "scrolled": true
   },
   "outputs": [],
   "source": [
    "trainingDF.info()"
   ]
  },
  {
   "cell_type": "code",
   "execution_count": null,
   "metadata": {},
   "outputs": [],
   "source": [
    "label_array = np.array(trainingDF['label'])\n",
    "data_array = np.array(trainingDF.drop(['label', 'static_page'], axis=1))"
   ]
  },
  {
   "cell_type": "code",
   "execution_count": null,
   "metadata": {},
   "outputs": [],
   "source": [
    "x_train, x_test, y_train, y_test = train_test_split(data_array, label_array, test_size = 0.30, random_state = 1)"
   ]
  },
  {
   "cell_type": "code",
   "execution_count": null,
   "metadata": {},
   "outputs": [],
   "source": [
    "def logisticReg(x_train, x_test, y_train, y_test):\n",
    "    logReg = LogisticRegression(solver='sag', random_state=1)\n",
    "    logReg.fit(x_train, y_train)\n",
    "    y_pred = logReg.predict(x_test)\n",
    "    return np.sqrt(mean_squared_error(y_test, y_pred))\n",
    "#TAMBIEN PUEDEN USAR PARA VER EL ACCURACY\n",
    "#ACCURACY = accuracy_score(y_test, y_pred)"
   ]
  },
  {
   "cell_type": "code",
   "execution_count": null,
   "metadata": {},
   "outputs": [],
   "source": [
    "def knn(k, x_train, x_test, y_train, y_test):\n",
    "    knn = KNeighborsClassifier(n_neighbors=k, metric='manhattan')\n",
    "    knn.fit(x_train, y_train)\n",
    "    y_pred = knn.predict(x_test)\n",
    "    return np.sqrt(mean_squared_error(y_test, y_pred))\n",
    "#TAMBIEN PUEDEN USAR PARA VER EL ACCURACY\n",
    "#ACCURACY = accuracy_score(y_test, y_pred)"
   ]
  },
  {
   "cell_type": "code",
   "execution_count": null,
   "metadata": {},
   "outputs": [],
   "source": [
    "def decisionTree(max_depth, max_features, x_train, x_test, y_train, y_test):\n",
    "    dt = DecisionTreeClassifier(max_depth=max_depth, max_features=max_features)\n",
    "    dt.fit(x_train, y_train)\n",
    "    y_pred = dt.predict(x_test)\n",
    "    return np.sqrt(mean_squared_error(y_test, y_pred))\n",
    "#TAMBIEN PUEDEN USAR PARA VER EL ACCURACY\n",
    "#ACCURACY = accuracy_score(y_test, y_pred)"
   ]
  },
  {
   "cell_type": "code",
   "execution_count": null,
   "metadata": {},
   "outputs": [],
   "source": [
    "def xgboost(max_depth, n_estimators, x_train, x_test, y_train, y_test):\n",
    "    xgb = XGBClassifier(max_depth=max_depth, n_estimators=n_estimators)\n",
    "    xgb.fit(x_train, y_train)\n",
    "    y_pred = xgb.predict(x_test)\n",
    "    return np.sqrt(mean_squared_error(y_test, y_pred))\n",
    "#TAMBIEN PUEDEN USAR PARA VER EL ACCURACY\n",
    "#ACCURACY = accuracy_score(y_test, y_pred)"
   ]
  },
  {
   "cell_type": "code",
   "execution_count": null,
   "metadata": {},
   "outputs": [],
   "source": [
    "result = logisticReg(x_train, x_test, y_train, y_test)\n",
    "result"
   ]
  }
 ],
 "metadata": {
  "kernelspec": {
   "display_name": "Python 3",
   "language": "python",
   "name": "python3"
  },
  "language_info": {
   "codemirror_mode": {
    "name": "ipython",
    "version": 3
   },
   "file_extension": ".py",
   "mimetype": "text/x-python",
   "name": "python",
   "nbconvert_exporter": "python",
   "pygments_lexer": "ipython3",
   "version": "3.6.6"
  }
 },
 "nbformat": 4,
 "nbformat_minor": 2
}
