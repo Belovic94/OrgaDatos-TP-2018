{
 "cells": [
  {
   "cell_type": "code",
   "execution_count": 1,
   "metadata": {},
   "outputs": [],
   "source": [
    "import pandas as pd\n",
    "import matplotlib.pyplot as plt\n",
    "import numpy as np\n",
    "import sklearn as sk\n",
    "\n",
    "events = pd.read_csv('events_up_to_01062018.csv', low_memory = False)\n",
    "training = pd.read_csv('labels_training_set.csv', low_memory = False)"
   ]
  },
  {
   "cell_type": "code",
   "execution_count": 2,
   "metadata": {},
   "outputs": [],
   "source": [
    "from sklearn.preprocessing import LabelEncoder\n",
    "from sklearn.preprocessing import OneHotEncoder"
   ]
  },
  {
   "cell_type": "code",
   "execution_count": 3,
   "metadata": {},
   "outputs": [],
   "source": [
    "eventsWithLabel = events.merge(training, how='left', left_on='person', right_on='person')"
   ]
  },
  {
   "cell_type": "code",
   "execution_count": 4,
   "metadata": {},
   "outputs": [],
   "source": [
    "eventsWithLabel['timestamp'] = pd.to_datetime(eventsWithLabel['timestamp'])"
   ]
  },
  {
   "cell_type": "code",
   "execution_count": 5,
   "metadata": {},
   "outputs": [],
   "source": [
    "diccWeek = {0: \"Monday\",\n",
    "            1: \"Tuesday\",\n",
    "            2: \"Wednesday\",\n",
    "            3: \"Thursday\",\n",
    "            4: \"Friday\",\n",
    "            5: \"Saturday\",\n",
    "            6: \"Sunday\"}"
   ]
  },
  {
   "cell_type": "code",
   "execution_count": 6,
   "metadata": {},
   "outputs": [],
   "source": [
    "#Obtengo los dias de la semana\n",
    "eventsWithLabel['dayweek'] = eventsWithLabel.timestamp.dt.dayofweek\n",
    "eventsWithLabel[\"dayweek\"] = eventsWithLabel[\"dayweek\"].map(lambda x: diccWeek.get(x))\n",
    "#Obtengo la fecha\n",
    "eventsWithLabel['fecha'] = eventsWithLabel.timestamp.dt.date\n",
    "#Separo la marca\n",
    "eventsWithLabel['marca'] = eventsWithLabel['model'].map(lambda x: str(x).split()[0])"
   ]
  },
  {
   "cell_type": "code",
   "execution_count": 7,
   "metadata": {},
   "outputs": [],
   "source": [
    "groupbyCantEventos = eventsWithLabel.groupby('person', as_index = False)['event'].agg({'cantEventos': 'count'})\n",
    "groupbyCantEventos.sort_values(by = 'cantEventos', ascending = False)\n",
    "eventsWithLabel = pd.merge(eventsWithLabel, groupbyCantEventos, on = 'person')"
   ]
  },
  {
   "cell_type": "code",
   "execution_count": 8,
   "metadata": {},
   "outputs": [],
   "source": [
    "#Filtro a la gente que no tiene el evento visited_site\n",
    "personasConVisitas = eventsWithLabel.loc[eventsWithLabel['event'] == 'visited site']\\\n",
    "                             .drop_duplicates(subset = 'person', keep = 'first')['person'].tolist()\n",
    "dataNotVisit = eventsWithLabel.loc[eventsWithLabel['person'].isin(personasConVisitas)]"
   ]
  },
  {
   "cell_type": "code",
   "execution_count": 9,
   "metadata": {},
   "outputs": [],
   "source": [
    "eventsWithLabel2 = dataNotVisit.loc[dataNotVisit['event'] == 'visited site'].groupby(['person', 'fecha'], as_index = False).agg({'city': 'first', 'region': 'first', 'country': 'first', 'device_type': 'first', 'operating_system_version': 'first', 'channel': 'first', 'new_vs_returning': 'first'})"
   ]
  },
  {
   "cell_type": "code",
   "execution_count": 10,
   "metadata": {},
   "outputs": [],
   "source": [
    "eventsWithLabel3 = pd.merge(dataNotVisit, eventsWithLabel2, on = ['person', 'fecha'])\n",
    "eventsWithLabel3.drop(['region_x', 'device_type_x', 'operating_system_version_x', 'country_x', 'city_x', 'channel_x', 'new_vs_returning_x'], axis = 1, inplace = True)\n",
    "eventsWithLabel3.rename(columns = {'region_y': 'region', 'device_type_y': 'device_type', 'operating_system_version_y': 'SO', 'city_y': 'city', 'country_y': 'country', 'channel_y': 'channel', 'new_vs_returning_y': 'new_vs_returning'}, inplace =True)"
   ]
  },
  {
   "cell_type": "code",
   "execution_count": 11,
   "metadata": {},
   "outputs": [],
   "source": [
    "def obtenerSistema(so):\n",
    "    sistema = so.split()\n",
    "    if len(sistema) > 1:\n",
    "        otro = sistema[1].split('.')[0]\n",
    "        return sistema[0] + ' ' + otro\n",
    "    else:\n",
    "        return sistema[0]"
   ]
  },
  {
   "cell_type": "code",
   "execution_count": 12,
   "metadata": {},
   "outputs": [],
   "source": [
    "eventsWithLabel3['SO'] = eventsWithLabel3['SO'].map(obtenerSistema)"
   ]
  },
  {
   "cell_type": "code",
   "execution_count": 13,
   "metadata": {},
   "outputs": [],
   "source": [
    "eventsWithLabel3 = eventsWithLabel3.drop(columns=[\"url\", \"sku\", \"skus\", \"search_term\", \"staticpage\", \"campaign_source\", \"search_engine\", \"screen_resolution\", \"browser_version\"])"
   ]
  },
  {
   "cell_type": "code",
   "execution_count": 14,
   "metadata": {},
   "outputs": [],
   "source": [
    "#Empezamos con las sesiones.\n",
    "eventsWithSessions = eventsWithLabel3.sort_values(by = [\"person\", \"timestamp\"])\n",
    "eventsWithSessions[\"time_diff\"] = (eventsWithSessions.timestamp - (eventsWithSessions.timestamp.shift())) / np.timedelta64(1, 's')\n",
    "eventsWithSessions.loc[eventsWithSessions.person != eventsWithSessions.person.shift(), \"time_diff\"] = 0"
   ]
  },
  {
   "cell_type": "code",
   "execution_count": 15,
   "metadata": {},
   "outputs": [],
   "source": [
    "eventsWithSessions[\"session_change\"] = ((eventsWithSessions.event == \"visited site\") & (eventsWithSessions.time_diff > 1800.0)) | (eventsWithSessions.time_diff > 36000.0) | (eventsWithSessions.person != eventsWithSessions.person.shift())\n",
    "eventsWithSessions[\"session_id\"] = eventsWithSessions.groupby(\"person\")[\"session_change\"].cumsum()"
   ]
  },
  {
   "cell_type": "code",
   "execution_count": 16,
   "metadata": {},
   "outputs": [],
   "source": [
    "#Obtener las personas con conversiones\n",
    "dataConversion = eventsWithSessions.loc[eventsWithSessions['event'] == 'conversion']\n",
    "personasCompraron = dataConversion.drop_duplicates(subset = 'person', keep = 'first')['person'].tolist()\n",
    "dataPersonasCompraron = eventsWithSessions.loc[eventsWithSessions['person'].isin(personasCompraron)]"
   ]
  },
  {
   "cell_type": "code",
   "execution_count": 17,
   "metadata": {},
   "outputs": [
    {
     "name": "stderr",
     "output_type": "stream",
     "text": [
      "/home/victorbelosevich/.local/lib/python2.7/site-packages/ipykernel_launcher.py:1: SettingWithCopyWarning: \n",
      "A value is trying to be set on a copy of a slice from a DataFrame.\n",
      "Try using .loc[row_indexer,col_indexer] = value instead\n",
      "\n",
      "See the caveats in the documentation: http://pandas.pydata.org/pandas-docs/stable/indexing.html#indexing-view-versus-copy\n",
      "  \"\"\"Entry point for launching an IPython kernel.\n",
      "/home/victorbelosevich/.local/lib/python2.7/site-packages/ipykernel_launcher.py:2: SettingWithCopyWarning: \n",
      "A value is trying to be set on a copy of a slice from a DataFrame.\n",
      "Try using .loc[row_indexer,col_indexer] = value instead\n",
      "\n",
      "See the caveats in the documentation: http://pandas.pydata.org/pandas-docs/stable/indexing.html#indexing-view-versus-copy\n",
      "  \n",
      "/home/victorbelosevich/.local/lib/python2.7/site-packages/ipykernel_launcher.py:3: FutureWarning: using a dict on a Series for aggregation\n",
      "is deprecated and will be removed in a future version\n",
      "  This is separate from the ipykernel package so we can avoid doing imports until\n"
     ]
    }
   ],
   "source": [
    "dataPersonasCompraron[\"aConversion\"] = (dataPersonasCompraron.event == \"conversion\") | (dataPersonasCompraron.person != dataPersonasCompraron.person.shift())\n",
    "dataPersonasCompraron[\"conversions\"] = dataPersonasCompraron.groupby(\"person\")[\"aConversion\"].cumsum()\n",
    "dataFirstConversion = dataPersonasCompraron.loc[dataPersonasCompraron.conversions == 1.0].groupby(\"person\")[\"time_diff\"].agg({\"timeFirstConversion\": \"sum\" })\n",
    "eventsWithSessions = pd.merge(eventsWithSessions, dataFirstConversion, how='left', on = 'person')\n",
    "eventsWithSessions['timeFirstConversion'] = eventsWithSessions['timeFirstConversion'].fillna(value='0.0')"
   ]
  },
  {
   "cell_type": "code",
   "execution_count": 18,
   "metadata": {},
   "outputs": [],
   "source": [
    "dataSession =  eventsWithSessions.groupby([\"person\", \"session_id\"], as_index=False)[\"time_diff\"].agg({\"sessionDuration\": \"sum\" })\n",
    "dataSession[\"sessionDuration\"] = dataSession[\"sessionDuration\"]/60"
   ]
  },
  {
   "cell_type": "code",
   "execution_count": 19,
   "metadata": {},
   "outputs": [
    {
     "name": "stderr",
     "output_type": "stream",
     "text": [
      "/home/victorbelosevich/.local/lib/python2.7/site-packages/pandas/core/groupby/groupby.py:4656: FutureWarning: using a dict with renaming is deprecated and will be removed in a future version\n",
      "  return super(DataFrameGroupBy, self).aggregate(arg, *args, **kwargs)\n"
     ]
    }
   ],
   "source": [
    "dataSessionGroupByPerson = dataSession.loc[dataSession.sessionDuration > 0.0].groupby(\"person\")\n",
    "dataSession = dataSessionGroupByPerson.agg({\"sessionDuration\": {\"sessionDuration\": \"mean\"}, \"session_id\": {\"cantSessions\": \"count\"}})\n",
    "dataSession.columns = dataSession.columns.droplevel(0)"
   ]
  },
  {
   "cell_type": "code",
   "execution_count": 20,
   "metadata": {},
   "outputs": [],
   "source": [
    "eventsWithSessions = pd.merge(eventsWithSessions, dataSession, how ='left', on = 'person')\n",
    "eventsWithSessions[\"sessionDuration\"] = eventsWithSessions[\"sessionDuration\"].fillna(value = \"0.0\")\n",
    "eventsWithSessions[\"cantSessions\"] = eventsWithSessions[\"cantSessions\"].fillna(value = \"0.0\")"
   ]
  },
  {
   "cell_type": "code",
   "execution_count": 21,
   "metadata": {},
   "outputs": [],
   "source": [
    "#Funcion que realiza el oneHotEncoding\n",
    "def oneHotEncoding(column, uniqueArray, dataFrame):\n",
    "    label_encoder = LabelEncoder()\n",
    "    label_encoder.fit(uniqueArray)\n",
    "    integer_encoded = label_encoder.transform(dataFrame[column])\n",
    "    onehot_encoder = OneHotEncoder(sparse=False)\n",
    "    integer_encoded = integer_encoded.reshape(len(integer_encoded), 1)\n",
    "    onehot_encoded = onehot_encoder.fit_transform(integer_encoded)\n",
    "    for i, item in enumerate(uniqueArray):\n",
    "        dataFrame[item] = onehot_encoded[:, label_encoder.transform(uniqueArray)[i]]\n"
   ]
  },
  {
   "cell_type": "code",
   "execution_count": 22,
   "metadata": {},
   "outputs": [],
   "source": [
    "eventsColor = eventsWithLabel3.loc[eventsWithLabel3[\"color\"].notnull()][[\"color\", \"person\"]]\n",
    "eventsCondition = eventsWithLabel3.loc[eventsWithLabel3[\"condition\"].notnull()][[\"condition\", \"person\"]]\n",
    "eventsStorage = eventsWithLabel3.loc[eventsWithLabel3[\"storage\"].notnull()][[\"storage\", \"person\"]]\n",
    "eventsModel = eventsWithLabel3.loc[eventsWithLabel3[\"model\"].notnull()][[\"model\", \"person\"]]\n",
    "eventsChannel = eventsWithLabel3.loc[eventsWithLabel3[\"channel\"] != \"Unknown\"][[\"channel\", \"person\"]]\n",
    "eventsDevice = eventsWithLabel3.loc[eventsWithLabel3[\"device_type\"] != \"Unknown\"][[\"device_type\", \"person\"]]"
   ]
  },
  {
   "cell_type": "code",
   "execution_count": 23,
   "metadata": {},
   "outputs": [],
   "source": [
    "eventsColor[\"color\"] = eventsColor.color.str.split(\" \", expand=True)\n",
    "top20Colors = eventsColor['color'].value_counts().nlargest(20).index\n",
    "top50models = eventsWithLabel3['model'].value_counts().nlargest(50).index"
   ]
  },
  {
   "cell_type": "code",
   "execution_count": 24,
   "metadata": {},
   "outputs": [],
   "source": [
    "def colorGrouping(x):\n",
    "    return x if x in top20Colors else 'OtroColor'\n",
    "\n",
    "def modelGrouping(x):\n",
    "    return x if x in top50models else 'OtroModelo'"
   ]
  },
  {
   "cell_type": "code",
   "execution_count": 25,
   "metadata": {},
   "outputs": [],
   "source": [
    "eventsColor['color'] = eventsColor['color'].apply(colorGrouping)\n",
    "eventsModel['model'] = eventsModel['model'].apply(modelGrouping)"
   ]
  },
  {
   "cell_type": "code",
   "execution_count": 26,
   "metadata": {},
   "outputs": [],
   "source": [
    "eventsWithLabel3[\"SO\"] = eventsWithLabel3.SO.str.split(\" \", expand=True)"
   ]
  },
  {
   "cell_type": "code",
   "execution_count": 27,
   "metadata": {},
   "outputs": [],
   "source": [
    "eventosUnicos = eventsWithLabel3.drop_duplicates(subset=\"event\", keep=\"first\").reset_index()[\"event\"]\n",
    "coloresUnicos = eventsColor.drop_duplicates(subset='color', keep='first').reset_index()[\"color\"]\n",
    "conditionUnicos = eventsCondition.drop_duplicates(subset='condition', keep='first').reset_index()[\"condition\"]\n",
    "storageUnicos = eventsStorage.drop_duplicates(subset='storage', keep='first').reset_index()[\"storage\"]\n",
    "modelosUnicos = eventsModel.drop_duplicates(subset='model', keep='first').reset_index()['model']\n",
    "channelUnicos = eventsChannel.drop_duplicates(subset=\"channel\", keep=\"first\").reset_index()[\"channel\"]\n",
    "SOUnicos = eventsWithLabel3.drop_duplicates(subset=\"SO\", keep=\"first\").reset_index()[\"SO\"]\n",
    "deviceTypeUnicos = eventsDevice.drop_duplicates(subset=\"device_type\", keep=\"first\").reset_index()[\"device_type\"]\n",
    "daysWeekUnicos = eventsWithLabel3.drop_duplicates(subset=\"dayweek\", keep=\"first\").reset_index()[\"dayweek\"]"
   ]
  },
  {
   "cell_type": "code",
   "execution_count": 28,
   "metadata": {},
   "outputs": [
    {
     "name": "stderr",
     "output_type": "stream",
     "text": [
      "/home/victorbelosevich/.local/lib/python2.7/site-packages/sklearn/preprocessing/_encoders.py:363: FutureWarning: The handling of integer data will change in version 0.22. Currently, the categories are determined based on the range [0, max(values)], while in the future they will be determined based on the unique values.\n",
      "If you want the future behaviour and silence this warning, you can specify \"categories='auto'\".\n",
      "In case you used a LabelEncoder before this OneHotEncoder to convert the categories to integers, then you can now use the OneHotEncoder directly.\n",
      "  warnings.warn(msg, FutureWarning)\n"
     ]
    }
   ],
   "source": [
    "oneHotEncoding(\"event\", eventosUnicos, eventsWithLabel3)\n",
    "oneHotEncoding(\"color\", coloresUnicos, eventsColor)\n",
    "oneHotEncoding(\"condition\", conditionUnicos, eventsCondition)\n",
    "oneHotEncoding(\"storage\", storageUnicos, eventsStorage)\n",
    "oneHotEncoding(\"model\", modelosUnicos, eventsModel)\n",
    "oneHotEncoding(\"channel\", channelUnicos, eventsChannel)\n",
    "oneHotEncoding(\"SO\", SOUnicos, eventsWithLabel3)\n",
    "oneHotEncoding(\"device_type\", deviceTypeUnicos, eventsDevice)\n",
    "oneHotEncoding(\"dayweek\", daysWeekUnicos, eventsWithLabel3)"
   ]
  },
  {
   "cell_type": "code",
   "execution_count": 29,
   "metadata": {},
   "outputs": [],
   "source": [
    "eventsFinale = eventsWithLabel3.drop(columns=[\"timestamp\", \"dayweek\",\"event\", \"cantEventos\",\"condition\", \"model\", \"storage\", \"color\", \"fecha\", \"SO\", \"marca\", \"city\", \"country\", \"region\", \"channel\", \"device_type\", \"new_vs_returning\" ])"
   ]
  },
  {
   "cell_type": "code",
   "execution_count": 30,
   "metadata": {},
   "outputs": [],
   "source": [
    "eventsColor1 = eventsColor.groupby(\"person\").sum()\n",
    "eventsCondition1 = eventsCondition.groupby(\"person\").sum()\n",
    "eventsDevice1 = eventsDevice.groupby(\"person\").sum()\n",
    "eventsModel1 = eventsModel.groupby(\"person\").sum()\n",
    "eventsStorage1 = eventsStorage.groupby(\"person\").sum()\n",
    "eventsChannel1 = eventsChannel.groupby(\"person\").sum()"
   ]
  },
  {
   "cell_type": "code",
   "execution_count": 31,
   "metadata": {},
   "outputs": [],
   "source": [
    "eventsWithSessionsFilter = eventsWithSessions.groupby(\"person\")[[\"timeFirstConversion\", \"sessionDuration\", \"cantSessions\"]].agg(\"first\")"
   ]
  },
  {
   "cell_type": "code",
   "execution_count": 32,
   "metadata": {},
   "outputs": [],
   "source": [
    "testDF = eventsFinale.loc[eventsFinale['label'].isnull()]\n",
    "trainingDF = eventsFinale.loc[eventsFinale['label'].notnull()]"
   ]
  },
  {
   "cell_type": "code",
   "execution_count": 33,
   "metadata": {},
   "outputs": [],
   "source": [
    "testDFFinal = testDF.drop(columns=[\"label\"]).groupby(\"person\").sum()\n",
    "trainingDFFinal = trainingDF.groupby(\"person\").sum()"
   ]
  },
  {
   "cell_type": "code",
   "execution_count": 34,
   "metadata": {},
   "outputs": [],
   "source": [
    "testDFFinal = pd.merge(testDFFinal, eventsWithSessionsFilter, how=\"left\" , on = \"person\")\n",
    "testDFFinal = pd.merge(testDFFinal, eventsColor1, how=\"left\" , on = \"person\")\n",
    "testDFFinal = pd.merge(testDFFinal, eventsChannel1, how=\"left\" , on = \"person\")\n",
    "testDFFinal = pd.merge(testDFFinal, eventsCondition1, how=\"left\" , on = \"person\")\n",
    "testDFFinal = pd.merge(testDFFinal, eventsDevice1, how=\"left\" , on = \"person\")\n",
    "testDFFinal = pd.merge(testDFFinal, eventsModel1, how=\"left\" , on = \"person\")\n",
    "testDFFinal = pd.merge(testDFFinal, eventsStorage1, how=\"left\" , on = \"person\")"
   ]
  },
  {
   "cell_type": "code",
   "execution_count": 41,
   "metadata": {},
   "outputs": [],
   "source": [
    "testDFFinal = testDFFinal.fillna(value=0.0)"
   ]
  },
  {
   "cell_type": "code",
   "execution_count": 42,
   "metadata": {},
   "outputs": [
    {
     "data": {
      "text/html": [
       "<div>\n",
       "<style scoped>\n",
       "    .dataframe tbody tr th:only-of-type {\n",
       "        vertical-align: middle;\n",
       "    }\n",
       "\n",
       "    .dataframe tbody tr th {\n",
       "        vertical-align: top;\n",
       "    }\n",
       "\n",
       "    .dataframe thead th {\n",
       "        text-align: right;\n",
       "    }\n",
       "</style>\n",
       "<table border=\"1\" class=\"dataframe\">\n",
       "  <thead>\n",
       "    <tr style=\"text-align: right;\">\n",
       "      <th></th>\n",
       "      <th>viewed product</th>\n",
       "      <th>search engine hit</th>\n",
       "      <th>checkout</th>\n",
       "      <th>searched products</th>\n",
       "      <th>generic listing</th>\n",
       "      <th>visited site</th>\n",
       "      <th>ad campaign hit</th>\n",
       "      <th>brand listing</th>\n",
       "      <th>lead</th>\n",
       "      <th>staticpage</th>\n",
       "      <th>...</th>\n",
       "      <th>Motorola Moto G2 3G Dual</th>\n",
       "      <th>Samsung Galaxy Gran Prime Duos TV</th>\n",
       "      <th>32GB</th>\n",
       "      <th>64GB</th>\n",
       "      <th>16GB</th>\n",
       "      <th>128GB</th>\n",
       "      <th>256GB</th>\n",
       "      <th>8GB</th>\n",
       "      <th>4GB</th>\n",
       "      <th>512MB</th>\n",
       "    </tr>\n",
       "    <tr>\n",
       "      <th>person</th>\n",
       "      <th></th>\n",
       "      <th></th>\n",
       "      <th></th>\n",
       "      <th></th>\n",
       "      <th></th>\n",
       "      <th></th>\n",
       "      <th></th>\n",
       "      <th></th>\n",
       "      <th></th>\n",
       "      <th></th>\n",
       "      <th></th>\n",
       "      <th></th>\n",
       "      <th></th>\n",
       "      <th></th>\n",
       "      <th></th>\n",
       "      <th></th>\n",
       "      <th></th>\n",
       "      <th></th>\n",
       "      <th></th>\n",
       "      <th></th>\n",
       "      <th></th>\n",
       "    </tr>\n",
       "  </thead>\n",
       "  <tbody>\n",
       "    <tr>\n",
       "      <th>00091926</th>\n",
       "      <td>372.0</td>\n",
       "      <td>0.0</td>\n",
       "      <td>2.0</td>\n",
       "      <td>0.0</td>\n",
       "      <td>0.0</td>\n",
       "      <td>34.0</td>\n",
       "      <td>15.0</td>\n",
       "      <td>25.0</td>\n",
       "      <td>0.0</td>\n",
       "      <td>0.0</td>\n",
       "      <td>...</td>\n",
       "      <td>0.0</td>\n",
       "      <td>0.0</td>\n",
       "      <td>132.0</td>\n",
       "      <td>80.0</td>\n",
       "      <td>104.0</td>\n",
       "      <td>48.0</td>\n",
       "      <td>10.0</td>\n",
       "      <td>0.0</td>\n",
       "      <td>0.0</td>\n",
       "      <td>0.0</td>\n",
       "    </tr>\n",
       "    <tr>\n",
       "      <th>00091a7a</th>\n",
       "      <td>3.0</td>\n",
       "      <td>0.0</td>\n",
       "      <td>0.0</td>\n",
       "      <td>0.0</td>\n",
       "      <td>0.0</td>\n",
       "      <td>1.0</td>\n",
       "      <td>1.0</td>\n",
       "      <td>5.0</td>\n",
       "      <td>0.0</td>\n",
       "      <td>0.0</td>\n",
       "      <td>...</td>\n",
       "      <td>0.0</td>\n",
       "      <td>0.0</td>\n",
       "      <td>0.0</td>\n",
       "      <td>1.0</td>\n",
       "      <td>1.0</td>\n",
       "      <td>1.0</td>\n",
       "      <td>0.0</td>\n",
       "      <td>0.0</td>\n",
       "      <td>0.0</td>\n",
       "      <td>0.0</td>\n",
       "    </tr>\n",
       "    <tr>\n",
       "      <th>000ba417</th>\n",
       "      <td>153.0</td>\n",
       "      <td>1.0</td>\n",
       "      <td>6.0</td>\n",
       "      <td>0.0</td>\n",
       "      <td>14.0</td>\n",
       "      <td>6.0</td>\n",
       "      <td>1.0</td>\n",
       "      <td>24.0</td>\n",
       "      <td>0.0</td>\n",
       "      <td>0.0</td>\n",
       "      <td>...</td>\n",
       "      <td>0.0</td>\n",
       "      <td>6.0</td>\n",
       "      <td>20.0</td>\n",
       "      <td>1.0</td>\n",
       "      <td>115.0</td>\n",
       "      <td>0.0</td>\n",
       "      <td>1.0</td>\n",
       "      <td>22.0</td>\n",
       "      <td>1.0</td>\n",
       "      <td>0.0</td>\n",
       "    </tr>\n",
       "    <tr>\n",
       "      <th>000e4d9e</th>\n",
       "      <td>339.0</td>\n",
       "      <td>5.0</td>\n",
       "      <td>1.0</td>\n",
       "      <td>0.0</td>\n",
       "      <td>17.0</td>\n",
       "      <td>13.0</td>\n",
       "      <td>19.0</td>\n",
       "      <td>17.0</td>\n",
       "      <td>0.0</td>\n",
       "      <td>0.0</td>\n",
       "      <td>...</td>\n",
       "      <td>0.0</td>\n",
       "      <td>0.0</td>\n",
       "      <td>209.0</td>\n",
       "      <td>21.0</td>\n",
       "      <td>108.0</td>\n",
       "      <td>1.0</td>\n",
       "      <td>1.0</td>\n",
       "      <td>0.0</td>\n",
       "      <td>0.0</td>\n",
       "      <td>0.0</td>\n",
       "    </tr>\n",
       "    <tr>\n",
       "      <th>000e619d</th>\n",
       "      <td>28.0</td>\n",
       "      <td>3.0</td>\n",
       "      <td>1.0</td>\n",
       "      <td>6.0</td>\n",
       "      <td>8.0</td>\n",
       "      <td>5.0</td>\n",
       "      <td>6.0</td>\n",
       "      <td>11.0</td>\n",
       "      <td>0.0</td>\n",
       "      <td>0.0</td>\n",
       "      <td>...</td>\n",
       "      <td>4.0</td>\n",
       "      <td>0.0</td>\n",
       "      <td>11.0</td>\n",
       "      <td>3.0</td>\n",
       "      <td>8.0</td>\n",
       "      <td>0.0</td>\n",
       "      <td>1.0</td>\n",
       "      <td>6.0</td>\n",
       "      <td>0.0</td>\n",
       "      <td>0.0</td>\n",
       "    </tr>\n",
       "  </tbody>\n",
       "</table>\n",
       "<p>5 rows × 128 columns</p>\n",
       "</div>"
      ],
      "text/plain": [
       "          viewed product  search engine hit  checkout  searched products  \\\n",
       "person                                                                     \n",
       "00091926           372.0                0.0       2.0                0.0   \n",
       "00091a7a             3.0                0.0       0.0                0.0   \n",
       "000ba417           153.0                1.0       6.0                0.0   \n",
       "000e4d9e           339.0                5.0       1.0                0.0   \n",
       "000e619d            28.0                3.0       1.0                6.0   \n",
       "\n",
       "          generic listing  visited site  ad campaign hit  brand listing  lead  \\\n",
       "person                                                                          \n",
       "00091926              0.0          34.0             15.0           25.0   0.0   \n",
       "00091a7a              0.0           1.0              1.0            5.0   0.0   \n",
       "000ba417             14.0           6.0              1.0           24.0   0.0   \n",
       "000e4d9e             17.0          13.0             19.0           17.0   0.0   \n",
       "000e619d              8.0           5.0              6.0           11.0   0.0   \n",
       "\n",
       "          staticpage  ...    Motorola Moto G2 3G Dual  \\\n",
       "person                ...                               \n",
       "00091926         0.0  ...                         0.0   \n",
       "00091a7a         0.0  ...                         0.0   \n",
       "000ba417         0.0  ...                         0.0   \n",
       "000e4d9e         0.0  ...                         0.0   \n",
       "000e619d         0.0  ...                         4.0   \n",
       "\n",
       "          Samsung Galaxy Gran Prime Duos TV   32GB  64GB   16GB  128GB  256GB  \\\n",
       "person                                                                          \n",
       "00091926                                0.0  132.0  80.0  104.0   48.0   10.0   \n",
       "00091a7a                                0.0    0.0   1.0    1.0    1.0    0.0   \n",
       "000ba417                                6.0   20.0   1.0  115.0    0.0    1.0   \n",
       "000e4d9e                                0.0  209.0  21.0  108.0    1.0    1.0   \n",
       "000e619d                                0.0   11.0   3.0    8.0    0.0    1.0   \n",
       "\n",
       "           8GB  4GB  512MB  \n",
       "person                      \n",
       "00091926   0.0  0.0    0.0  \n",
       "00091a7a   0.0  0.0    0.0  \n",
       "000ba417  22.0  1.0    0.0  \n",
       "000e4d9e   0.0  0.0    0.0  \n",
       "000e619d   6.0  0.0    0.0  \n",
       "\n",
       "[5 rows x 128 columns]"
      ]
     },
     "execution_count": 42,
     "metadata": {},
     "output_type": "execute_result"
    }
   ],
   "source": [
    "testDFFinal.head()"
   ]
  },
  {
   "cell_type": "code",
   "execution_count": 37,
   "metadata": {},
   "outputs": [],
   "source": [
    "trainingDFFinal = pd.merge(trainingDFFinal, eventsWithSessionsFilter, how=\"left\" , on = \"person\")\n",
    "trainingDFFinal = pd.merge(trainingDFFinal,  eventsColor1, how=\"left\" , on = \"person\")\n",
    "trainingDFFinal = pd.merge(trainingDFFinal, eventsChannel1, how=\"left\" , on = \"person\")\n",
    "trainingDFFinal = pd.merge(trainingDFFinal, eventsCondition1, how=\"left\" , on = \"person\")\n",
    "trainingDFFinal = pd.merge(trainingDFFinal, eventsDevice1, how=\"left\" , on = \"person\")\n",
    "trainingDFFinal = pd.merge(trainingDFFinal, eventsModel1, how=\"left\" , on = \"person\")\n",
    "trainingDFFinal = pd.merge(trainingDFFinal, eventsStorage1, how=\"left\" , on = \"person\")"
   ]
  },
  {
   "cell_type": "code",
   "execution_count": 43,
   "metadata": {},
   "outputs": [],
   "source": [
    "trainingDFFinal = trainingDFFinal.fillna(value=0.0)"
   ]
  },
  {
   "cell_type": "code",
   "execution_count": 44,
   "metadata": {},
   "outputs": [
    {
     "data": {
      "text/html": [
       "<div>\n",
       "<style scoped>\n",
       "    .dataframe tbody tr th:only-of-type {\n",
       "        vertical-align: middle;\n",
       "    }\n",
       "\n",
       "    .dataframe tbody tr th {\n",
       "        vertical-align: top;\n",
       "    }\n",
       "\n",
       "    .dataframe thead th {\n",
       "        text-align: right;\n",
       "    }\n",
       "</style>\n",
       "<table border=\"1\" class=\"dataframe\">\n",
       "  <thead>\n",
       "    <tr style=\"text-align: right;\">\n",
       "      <th></th>\n",
       "      <th>label</th>\n",
       "      <th>viewed product</th>\n",
       "      <th>search engine hit</th>\n",
       "      <th>checkout</th>\n",
       "      <th>searched products</th>\n",
       "      <th>generic listing</th>\n",
       "      <th>visited site</th>\n",
       "      <th>ad campaign hit</th>\n",
       "      <th>brand listing</th>\n",
       "      <th>lead</th>\n",
       "      <th>...</th>\n",
       "      <th>Motorola Moto G2 3G Dual</th>\n",
       "      <th>Samsung Galaxy Gran Prime Duos TV</th>\n",
       "      <th>32GB</th>\n",
       "      <th>64GB</th>\n",
       "      <th>16GB</th>\n",
       "      <th>128GB</th>\n",
       "      <th>256GB</th>\n",
       "      <th>8GB</th>\n",
       "      <th>4GB</th>\n",
       "      <th>512MB</th>\n",
       "    </tr>\n",
       "    <tr>\n",
       "      <th>person</th>\n",
       "      <th></th>\n",
       "      <th></th>\n",
       "      <th></th>\n",
       "      <th></th>\n",
       "      <th></th>\n",
       "      <th></th>\n",
       "      <th></th>\n",
       "      <th></th>\n",
       "      <th></th>\n",
       "      <th></th>\n",
       "      <th></th>\n",
       "      <th></th>\n",
       "      <th></th>\n",
       "      <th></th>\n",
       "      <th></th>\n",
       "      <th></th>\n",
       "      <th></th>\n",
       "      <th></th>\n",
       "      <th></th>\n",
       "      <th></th>\n",
       "      <th></th>\n",
       "    </tr>\n",
       "  </thead>\n",
       "  <tbody>\n",
       "    <tr>\n",
       "      <th>0008ed71</th>\n",
       "      <td>0.0</td>\n",
       "      <td>0.0</td>\n",
       "      <td>0.0</td>\n",
       "      <td>3.0</td>\n",
       "      <td>0.0</td>\n",
       "      <td>1.0</td>\n",
       "      <td>2.0</td>\n",
       "      <td>0.0</td>\n",
       "      <td>0.0</td>\n",
       "      <td>0.0</td>\n",
       "      <td>...</td>\n",
       "      <td>0.0</td>\n",
       "      <td>0.0</td>\n",
       "      <td>2.0</td>\n",
       "      <td>1.0</td>\n",
       "      <td>0.0</td>\n",
       "      <td>0.0</td>\n",
       "      <td>0.0</td>\n",
       "      <td>0.0</td>\n",
       "      <td>0.0</td>\n",
       "      <td>0.0</td>\n",
       "    </tr>\n",
       "    <tr>\n",
       "      <th>000c79fe</th>\n",
       "      <td>0.0</td>\n",
       "      <td>3.0</td>\n",
       "      <td>1.0</td>\n",
       "      <td>1.0</td>\n",
       "      <td>9.0</td>\n",
       "      <td>1.0</td>\n",
       "      <td>1.0</td>\n",
       "      <td>1.0</td>\n",
       "      <td>0.0</td>\n",
       "      <td>0.0</td>\n",
       "      <td>...</td>\n",
       "      <td>0.0</td>\n",
       "      <td>0.0</td>\n",
       "      <td>0.0</td>\n",
       "      <td>0.0</td>\n",
       "      <td>0.0</td>\n",
       "      <td>4.0</td>\n",
       "      <td>0.0</td>\n",
       "      <td>0.0</td>\n",
       "      <td>0.0</td>\n",
       "      <td>0.0</td>\n",
       "    </tr>\n",
       "    <tr>\n",
       "      <th>001802e4</th>\n",
       "      <td>0.0</td>\n",
       "      <td>4.0</td>\n",
       "      <td>0.0</td>\n",
       "      <td>1.0</td>\n",
       "      <td>4.0</td>\n",
       "      <td>4.0</td>\n",
       "      <td>1.0</td>\n",
       "      <td>5.0</td>\n",
       "      <td>0.0</td>\n",
       "      <td>0.0</td>\n",
       "      <td>...</td>\n",
       "      <td>0.0</td>\n",
       "      <td>0.0</td>\n",
       "      <td>0.0</td>\n",
       "      <td>3.0</td>\n",
       "      <td>0.0</td>\n",
       "      <td>0.0</td>\n",
       "      <td>2.0</td>\n",
       "      <td>0.0</td>\n",
       "      <td>0.0</td>\n",
       "      <td>0.0</td>\n",
       "    </tr>\n",
       "    <tr>\n",
       "      <th>0019e639</th>\n",
       "      <td>0.0</td>\n",
       "      <td>189.0</td>\n",
       "      <td>13.0</td>\n",
       "      <td>15.0</td>\n",
       "      <td>11.0</td>\n",
       "      <td>28.0</td>\n",
       "      <td>19.0</td>\n",
       "      <td>29.0</td>\n",
       "      <td>165.0</td>\n",
       "      <td>0.0</td>\n",
       "      <td>...</td>\n",
       "      <td>63.0</td>\n",
       "      <td>2.0</td>\n",
       "      <td>14.0</td>\n",
       "      <td>0.0</td>\n",
       "      <td>98.0</td>\n",
       "      <td>0.0</td>\n",
       "      <td>0.0</td>\n",
       "      <td>94.0</td>\n",
       "      <td>0.0</td>\n",
       "      <td>0.0</td>\n",
       "    </tr>\n",
       "    <tr>\n",
       "      <th>001ca5ee</th>\n",
       "      <td>0.0</td>\n",
       "      <td>52.0</td>\n",
       "      <td>6.0</td>\n",
       "      <td>1.0</td>\n",
       "      <td>0.0</td>\n",
       "      <td>8.0</td>\n",
       "      <td>15.0</td>\n",
       "      <td>7.0</td>\n",
       "      <td>7.0</td>\n",
       "      <td>0.0</td>\n",
       "      <td>...</td>\n",
       "      <td>0.0</td>\n",
       "      <td>0.0</td>\n",
       "      <td>11.0</td>\n",
       "      <td>10.0</td>\n",
       "      <td>20.0</td>\n",
       "      <td>8.0</td>\n",
       "      <td>4.0</td>\n",
       "      <td>0.0</td>\n",
       "      <td>0.0</td>\n",
       "      <td>0.0</td>\n",
       "    </tr>\n",
       "  </tbody>\n",
       "</table>\n",
       "<p>5 rows × 129 columns</p>\n",
       "</div>"
      ],
      "text/plain": [
       "          label  viewed product  search engine hit  checkout  \\\n",
       "person                                                         \n",
       "0008ed71    0.0             0.0                0.0       3.0   \n",
       "000c79fe    0.0             3.0                1.0       1.0   \n",
       "001802e4    0.0             4.0                0.0       1.0   \n",
       "0019e639    0.0           189.0               13.0      15.0   \n",
       "001ca5ee    0.0            52.0                6.0       1.0   \n",
       "\n",
       "          searched products  generic listing  visited site  ad campaign hit  \\\n",
       "person                                                                        \n",
       "0008ed71                0.0              1.0           2.0              0.0   \n",
       "000c79fe                9.0              1.0           1.0              1.0   \n",
       "001802e4                4.0              4.0           1.0              5.0   \n",
       "0019e639               11.0             28.0          19.0             29.0   \n",
       "001ca5ee                0.0              8.0          15.0              7.0   \n",
       "\n",
       "          brand listing  lead  ...    Motorola Moto G2 3G Dual  \\\n",
       "person                         ...                               \n",
       "0008ed71            0.0   0.0  ...                         0.0   \n",
       "000c79fe            0.0   0.0  ...                         0.0   \n",
       "001802e4            0.0   0.0  ...                         0.0   \n",
       "0019e639          165.0   0.0  ...                        63.0   \n",
       "001ca5ee            7.0   0.0  ...                         0.0   \n",
       "\n",
       "          Samsung Galaxy Gran Prime Duos TV  32GB  64GB  16GB  128GB  256GB  \\\n",
       "person                                                                        \n",
       "0008ed71                                0.0   2.0   1.0   0.0    0.0    0.0   \n",
       "000c79fe                                0.0   0.0   0.0   0.0    4.0    0.0   \n",
       "001802e4                                0.0   0.0   3.0   0.0    0.0    2.0   \n",
       "0019e639                                2.0  14.0   0.0  98.0    0.0    0.0   \n",
       "001ca5ee                                0.0  11.0  10.0  20.0    8.0    4.0   \n",
       "\n",
       "           8GB  4GB  512MB  \n",
       "person                      \n",
       "0008ed71   0.0  0.0    0.0  \n",
       "000c79fe   0.0  0.0    0.0  \n",
       "001802e4   0.0  0.0    0.0  \n",
       "0019e639  94.0  0.0    0.0  \n",
       "001ca5ee   0.0  0.0    0.0  \n",
       "\n",
       "[5 rows x 129 columns]"
      ]
     },
     "execution_count": 44,
     "metadata": {},
     "output_type": "execute_result"
    }
   ],
   "source": [
    "trainingDFFinal.head()"
   ]
  },
  {
   "cell_type": "code",
   "execution_count": 45,
   "metadata": {},
   "outputs": [],
   "source": [
    "#Creamos los csv ya listo para entrenar a los algoritmos y para testear que tan buenos son.\n",
    "trainingDFFinal.to_csv('setEntrenamiento.csv')\n",
    "testDFFinal.to_csv('setTesteo.csv')"
   ]
  }
 ],
 "metadata": {
  "kernelspec": {
   "display_name": "Python 3",
   "language": "python",
   "name": "python3"
  },
  "language_info": {
   "codemirror_mode": {
    "name": "ipython",
    "version": 2
   },
   "file_extension": ".py",
   "mimetype": "text/x-python",
   "name": "python",
   "nbconvert_exporter": "python",
   "pygments_lexer": "ipython2",
   "version": "2.7.15rc1"
  }
 },
 "nbformat": 4,
 "nbformat_minor": 2
}
