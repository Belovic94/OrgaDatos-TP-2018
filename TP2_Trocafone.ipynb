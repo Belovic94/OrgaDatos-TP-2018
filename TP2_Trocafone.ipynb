{
 "cells": [
  {
   "cell_type": "code",
   "execution_count": 30,
   "metadata": {},
   "outputs": [],
   "source": [
    "import pandas as pd\n",
    "import matplotlib.pyplot as plt\n",
    "import numpy as np\n",
    "import sklearn as sk\n",
    "\n",
    "training = pd.read_csv('setEntrenamiento.csv', low_memory = False)\n",
    "test = pd.read_csv('setTesteo.csv', low_memory = False)"
   ]
  },
  {
   "cell_type": "code",
   "execution_count": 31,
   "metadata": {},
   "outputs": [],
   "source": [
    "from sklearn.utils import shuffle\n",
    "from sklearn.model_selection import train_test_split\n",
    "from sklearn.metrics import accuracy_score, r2_score, classification_report, mean_squared_error\n",
    "from sklearn.linear_model import LogisticRegression\n",
    "from sklearn.model_selection import cross_val_score, KFold\n",
    "from sklearn.neighbors import KNeighborsClassifier\n",
    "from sklearn.tree import DecisionTreeClassifier\n",
    "from sklearn.ensemble import RandomForestClassifier\n",
    "from xgboost import XGBClassifier\n",
    "from sklearn.model_selection import GridSearchCV\n",
    "from sklearn.metrics import roc_auc_score, roc_curve"
   ]
  },
  {
   "cell_type": "code",
   "execution_count": 32,
   "metadata": {},
   "outputs": [],
   "source": [
    "training[\"person\"] = training[\"person\"].astype(str)\n",
    "test[\"person\"] = test[\"person\"].astype(str)"
   ]
  },
  {
   "cell_type": "code",
   "execution_count": 5,
   "metadata": {
    "scrolled": true
   },
   "outputs": [
    {
     "data": {
      "text/html": [
       "<div>\n",
       "<style scoped>\n",
       "    .dataframe tbody tr th:only-of-type {\n",
       "        vertical-align: middle;\n",
       "    }\n",
       "\n",
       "    .dataframe tbody tr th {\n",
       "        vertical-align: top;\n",
       "    }\n",
       "\n",
       "    .dataframe thead th {\n",
       "        text-align: right;\n",
       "    }\n",
       "</style>\n",
       "<table border=\"1\" class=\"dataframe\">\n",
       "  <thead>\n",
       "    <tr style=\"text-align: right;\">\n",
       "      <th></th>\n",
       "      <th>person</th>\n",
       "      <th>viewed product</th>\n",
       "      <th>search engine hit</th>\n",
       "      <th>checkout</th>\n",
       "      <th>searched products</th>\n",
       "      <th>generic listing</th>\n",
       "      <th>visited site</th>\n",
       "      <th>ad campaign hit</th>\n",
       "      <th>brand listing</th>\n",
       "      <th>lead</th>\n",
       "      <th>...</th>\n",
       "      <th>Samsung Galaxy Gran Prime Duos TV</th>\n",
       "      <th>32GB</th>\n",
       "      <th>64GB</th>\n",
       "      <th>16GB</th>\n",
       "      <th>128GB</th>\n",
       "      <th>256GB</th>\n",
       "      <th>8GB</th>\n",
       "      <th>4GB</th>\n",
       "      <th>512MB</th>\n",
       "      <th>label</th>\n",
       "    </tr>\n",
       "  </thead>\n",
       "  <tbody>\n",
       "  </tbody>\n",
       "</table>\n",
       "<p>0 rows × 130 columns</p>\n",
       "</div>"
      ],
      "text/plain": [
       "Empty DataFrame\n",
       "Columns: [person, viewed product, search engine hit, checkout, searched products, generic listing, visited site, ad campaign hit, brand listing, lead, staticpage, conversion, Android, Windows, Mac, iOS, Linux, Chrome, Ubuntu, Other, Tizen, BlackBerry, FreeBSD, Fedora, Symbian, Friday, Wednesday, Tuesday, Monday, Saturday, Thursday, Sunday, timeFirstConversion, sessionDuration, cantSessions, Dourado, Cinza, Prateado, Branco, Ouro, Preto, Rosa, Olympic, Vermelho, Bambu, Platinum, Titânio, Prata, Azul, Verde, OtroColor, Indigo, Ametista, Black, Cabernet, Amarelo, Organic, Paid, Referral, Direct, Social, Email, Excelente, Muito Bom, Bom - Sem Touch ID, Bom, Novo, Smartphone, Computer, Tablet, Samsung Galaxy J7 Prime, iPhone 5s, iPhone SE, iPhone 5, iPhone 6S, iPhone 6, OtroModelo, iPhone 6S Plus, iPhone 7 Plus, iPhone 7, Samsung Galaxy S7 Edge, iPhone 6 Plus, Motorola Moto G4 Play DTV, Motorola Moto G4 Plus, Motorola Moto G5 Plus, Motorola Moto G5 , Samsung Galaxy A7 2017, Motorola Moto X Play 4G Dual, Samsung Galaxy S7, Motorola Moto X2, Motorola Moto X Style, Motorola Moto Z, Motorola Moto Z Play, Samsung Galaxy A5 2017, Samsung Galaxy Note 8, Lenovo Vibe K5, Samsung Galaxy S8, Motorola Moto G3 4G, Motorola Moto X Force, Samsung Galaxy S6 Edge Plus, ...]\n",
       "Index: []\n",
       "\n",
       "[0 rows x 130 columns]"
      ]
     },
     "execution_count": 5,
     "metadata": {},
     "output_type": "execute_result"
    }
   ],
   "source": []
  },
  {
   "cell_type": "code",
   "execution_count": 33,
   "metadata": {
    "scrolled": true
   },
   "outputs": [],
   "source": [
    "label_array = np.array(training['label'])\n",
    "data_array = np.array(training.drop(columns=['label', 'person']))"
   ]
  },
  {
   "cell_type": "code",
   "execution_count": 40,
   "metadata": {},
   "outputs": [
    {
     "name": "stdout",
     "output_type": "stream",
     "text": [
      "[0.94877156 0.94797386 0.94901961 0.94875817 0.94849673]\n"
     ]
    }
   ],
   "source": [
    "#CrossValidation y Grid Search RandomForest\n",
    "x_train, x_test, y_train, y_test = train_test_split(data_array, label_array, test_size = 0, random_state = 0)\n",
    "classifier = RandomForestClassifier(n_estimators = 300, random_state= 0)\n",
    "all_accuracies = cross_val_score(estimator = classifier, X= x_train, y = y_train, cv = 5)\n",
    "print(all_accuracies)"
   ]
  },
  {
   "cell_type": "code",
   "execution_count": 41,
   "metadata": {},
   "outputs": [
    {
     "name": "stdout",
     "output_type": "stream",
     "text": [
      "0.9486039858006279\n"
     ]
    }
   ],
   "source": [
    "print(all_accuracies.mean())"
   ]
  },
  {
   "cell_type": "code",
   "execution_count": 42,
   "metadata": {},
   "outputs": [
    {
     "name": "stdout",
     "output_type": "stream",
     "text": [
      "0.00035585480691379323\n"
     ]
    }
   ],
   "source": [
    "print(all_accuracies.std())"
   ]
  },
  {
   "cell_type": "code",
   "execution_count": 70,
   "metadata": {},
   "outputs": [],
   "source": [
    "#Empieza el gridSearch\n",
    "grid_param = {\n",
    "    \"n_estimators\": [300, 500, 800],\n",
    "    \"criterion\": [\"gini\", \"entropy\"],\n",
    "    \"bootstrap\": [True, False]\n",
    "}"
   ]
  },
  {
   "cell_type": "code",
   "execution_count": 47,
   "metadata": {},
   "outputs": [],
   "source": [
    "from  sklearn.metrics import SCORERS"
   ]
  },
  {
   "cell_type": "code",
   "execution_count": 48,
   "metadata": {
    "scrolled": true
   },
   "outputs": [
    {
     "data": {
      "text/plain": [
       "['precision_samples',\n",
       " 'f1_weighted',\n",
       " 'balanced_accuracy',\n",
       " 'f1_samples',\n",
       " 'f1',\n",
       " 'adjusted_mutual_info_score',\n",
       " 'precision',\n",
       " 'normalized_mutual_info_score',\n",
       " 'neg_mean_squared_error',\n",
       " 'precision_micro',\n",
       " 'neg_mean_squared_log_error',\n",
       " 'recall_samples',\n",
       " 'homogeneity_score',\n",
       " 'precision_weighted',\n",
       " 'fowlkes_mallows_score',\n",
       " 'average_precision',\n",
       " 'roc_auc',\n",
       " 'adjusted_rand_score',\n",
       " 'recall_macro',\n",
       " 'v_measure_score',\n",
       " 'completeness_score',\n",
       " 'r2',\n",
       " 'recall_weighted',\n",
       " 'recall',\n",
       " 'precision_macro',\n",
       " 'neg_log_loss',\n",
       " 'neg_mean_absolute_error',\n",
       " 'mutual_info_score',\n",
       " 'f1_macro',\n",
       " 'f1_micro',\n",
       " 'brier_score_loss',\n",
       " 'recall_micro',\n",
       " 'neg_median_absolute_error',\n",
       " 'explained_variance',\n",
       " 'accuracy']"
      ]
     },
     "execution_count": 48,
     "metadata": {},
     "output_type": "execute_result"
    }
   ],
   "source": [
    "#metricas que se pueden usar\n",
    "SCORERS.keys()"
   ]
  },
  {
   "cell_type": "code",
   "execution_count": 50,
   "metadata": {},
   "outputs": [],
   "source": [
    "gd_sr = GridSearchCV(estimator=classifier, param_grid=grid_param, scoring=\"roc_auc\", cv=5, n_jobs=1)"
   ]
  },
  {
   "cell_type": "code",
   "execution_count": 51,
   "metadata": {},
   "outputs": [
    {
     "data": {
      "text/plain": [
       "GridSearchCV(cv=5, error_score='raise-deprecating',\n",
       "       estimator=RandomForestClassifier(bootstrap=True, class_weight=None, criterion='gini',\n",
       "            max_depth=None, max_features='auto', max_leaf_nodes=None,\n",
       "            min_impurity_decrease=0.0, min_impurity_split=None,\n",
       "            min_samples_leaf=1, min_samples_split=2,\n",
       "            min_weight_fraction_leaf=0.0, n_estimators=300, n_jobs=None,\n",
       "            oob_score=False, random_state=0, verbose=0, warm_start=False),\n",
       "       fit_params=None, iid='warn', n_jobs=1,\n",
       "       param_grid={'n_estimators': [300, 500, 800], 'bootstrap': [True, False], 'criterion': ['gini', 'entropy']},\n",
       "       pre_dispatch='2*n_jobs', refit=True, return_train_score='warn',\n",
       "       scoring='roc_auc', verbose=0)"
      ]
     },
     "execution_count": 51,
     "metadata": {},
     "output_type": "execute_result"
    }
   ],
   "source": [
    "#Esto va a tardar\n",
    "gd_sr.fit(x_train, y_train)"
   ]
  },
  {
   "cell_type": "code",
   "execution_count": 54,
   "metadata": {},
   "outputs": [
    {
     "name": "stdout",
     "output_type": "stream",
     "text": [
      "{'n_estimators': 800, 'bootstrap': True, 'criterion': 'entropy'}\n"
     ]
    }
   ],
   "source": [
    "#muestra el mejor hiperparametro\n",
    "best_parameters = gd_sr.best_params_\n",
    "print(best_parameters)"
   ]
  },
  {
   "cell_type": "code",
   "execution_count": 72,
   "metadata": {},
   "outputs": [
    {
     "data": {
      "text/plain": [
       "RandomForestClassifier(bootstrap=True, class_weight=None, criterion='entropy',\n",
       "            max_depth=None, max_features='auto', max_leaf_nodes=None,\n",
       "            min_impurity_decrease=0.0, min_impurity_split=None,\n",
       "            min_samples_leaf=1, min_samples_split=2,\n",
       "            min_weight_fraction_leaf=0.0, n_estimators=800, n_jobs=None,\n",
       "            oob_score=False, random_state=0, verbose=0, warm_start=False)"
      ]
     },
     "execution_count": 72,
     "metadata": {},
     "output_type": "execute_result"
    }
   ],
   "source": [
    "gd_sr.best_estimator_"
   ]
  },
  {
   "cell_type": "code",
   "execution_count": 71,
   "metadata": {},
   "outputs": [
    {
     "data": {
      "text/plain": [
       "0.8173777837905141"
      ]
     },
     "execution_count": 71,
     "metadata": {},
     "output_type": "execute_result"
    }
   ],
   "source": [
    "#Muestra el mejor score\n",
    "gd_sr.best_score_"
   ]
  },
  {
   "cell_type": "code",
   "execution_count": 61,
   "metadata": {},
   "outputs": [],
   "source": [
    "x_train, x_test, y_train, y_test = train_test_split(data_array, label_array, test_size = 0.33, random_state = 7)"
   ]
  },
  {
   "cell_type": "code",
   "execution_count": 67,
   "metadata": {},
   "outputs": [],
   "source": [
    "def logisticReg(x_train, x_test, y_train, y_test):\n",
    "    logReg = LogisticRegression(solver='sag', random_state=1)\n",
    "    logReg.fit(x_train, y_train)\n",
    "    y_pred = logReg.predict(x_test)\n",
    "    #return np.sqrt(mean_squared_error(y_test, y_pred))\n",
    "    return roc_auc_score(y_test, y_pred)\n",
    "#TAMBIEN PUEDEN USAR PARA VER EL ACCURACY\n",
    "#ACCURACY = accuracy_score(y_test, y_pred)"
   ]
  },
  {
   "cell_type": "code",
   "execution_count": 27,
   "metadata": {},
   "outputs": [],
   "source": [
    "def knn(k, x_train, x_test, y_train, y_test):\n",
    "    knn = KNeighborsClassifier(n_neighbors=k, metric='manhattan')\n",
    "    knn.fit(x_train, y_train)\n",
    "    y_pred = knn.predict(x_test)\n",
    "    #return np.sqrt(mean_squared_error(y_test, y_pred))\n",
    "    return roc_auc_score(y_test, y_pred)\n",
    "#TAMBIEN PUEDEN USAR PARA VER EL ACCURACY\n",
    "#ACCURACY = accuracy_score(y_test, y_pred)"
   ]
  },
  {
   "cell_type": "code",
   "execution_count": 63,
   "metadata": {},
   "outputs": [],
   "source": [
    "def decisionTree(max_depth, x_train, x_test, y_train, y_test):\n",
    "    dt = DecisionTreeClassifier(max_depth=max_depth)\n",
    "    dt.fit(x_train, y_train)\n",
    "    y_pred = dt.predict(x_test)\n",
    "#     return np.sqrt(mean_squared_error(y_test, y_pred))\n",
    "    return roc_auc_score(y_test, y_pred)\n",
    "#TAMBIEN PUEDEN USAR PARA VER EL ACCURACY\n",
    "#ACCURACY = accuracy_score(y_test, y_pred)"
   ]
  },
  {
   "cell_type": "code",
   "execution_count": 29,
   "metadata": {},
   "outputs": [],
   "source": [
    "def xgboost(max_depth, n_estimators, x_train, x_test, y_train, y_test):\n",
    "    xgb = XGBClassifier(max_depth=max_depth, n_estimators=n_estimators)\n",
    "    xgb.fit(x_train, y_train)\n",
    "    y_pred = xgb.predict(x_test)\n",
    "    #return np.sqrt(mean_squared_error(y_test, y_pred))\n",
    "    return roc_auc_score(y_test, y_pred)\n",
    "#TAMBIEN PUEDEN USAR PARA VER EL ACCURACY\n",
    "#ACCURACY = accuracy_score(y_test, y_pred)"
   ]
  },
  {
   "cell_type": "code",
   "execution_count": 68,
   "metadata": {},
   "outputs": [
    {
     "data": {
      "text/plain": [
       "0.5"
      ]
     },
     "execution_count": 68,
     "metadata": {},
     "output_type": "execute_result"
    }
   ],
   "source": [
    "result = logisticReg(x_train, x_test, y_train, y_test)\n",
    "result"
   ]
  },
  {
   "cell_type": "code",
   "execution_count": 69,
   "metadata": {},
   "outputs": [
    {
     "data": {
      "text/plain": [
       "0.5"
      ]
     },
     "execution_count": 69,
     "metadata": {},
     "output_type": "execute_result"
    }
   ],
   "source": [
    "result1 = knn(10, x_train, x_test, y_train, y_test)\n",
    "result1"
   ]
  },
  {
   "cell_type": "code",
   "execution_count": 37,
   "metadata": {},
   "outputs": [
    {
     "data": {
      "text/plain": [
       "0.560895563914086"
      ]
     },
     "execution_count": 37,
     "metadata": {},
     "output_type": "execute_result"
    }
   ],
   "source": [
    "resultDecTree = decisionTree(150, x_train, x_test, y_train, y_test)\n",
    "resultDecTree"
   ]
  },
  {
   "cell_type": "code",
   "execution_count": 39,
   "metadata": {},
   "outputs": [
    {
     "data": {
      "text/plain": [
       "0.5117385200587032"
      ]
     },
     "execution_count": 39,
     "metadata": {},
     "output_type": "execute_result"
    }
   ],
   "source": [
    "resultXgboost = xgboost(10, 200,x_train, x_test, y_train, y_test )\n",
    "resultXgboost"
   ]
  }
 ],
 "metadata": {
  "kernelspec": {
   "display_name": "Python 3",
   "language": "python",
   "name": "python3"
  },
  "language_info": {
   "codemirror_mode": {
    "name": "ipython",
    "version": 2
   },
   "file_extension": ".py",
   "mimetype": "text/x-python",
   "name": "python",
   "nbconvert_exporter": "python",
   "pygments_lexer": "ipython2",
   "version": "2.7.15rc1"
  }
 },
 "nbformat": 4,
 "nbformat_minor": 2
}
