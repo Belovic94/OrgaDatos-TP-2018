{
 "cells": [
  {
   "cell_type": "code",
   "execution_count": 17,
   "metadata": {},
   "outputs": [],
   "source": [
    "import pandas as pd\n",
    "import matplotlib.pyplot as plt\n",
    "import numpy as np\n",
    "import sklearn as sk\n",
    "\n",
    "training = pd.read_csv('setEntrenamiento.csv', low_memory = False)\n",
    "kaggle = pd.read_csv('setKaggle.csv', low_memory = False)\n",
    "kaggle = kaggle.drop(\"Unnamed: 34\", axis = 1)"
   ]
  },
  {
   "cell_type": "code",
   "execution_count": 18,
   "metadata": {},
   "outputs": [],
   "source": [
    "from sklearn.utils import shuffle\n",
    "from sklearn.model_selection import train_test_split\n",
    "from sklearn.metrics import accuracy_score, r2_score, classification_report, mean_squared_error\n",
    "from sklearn.linear_model import LogisticRegression\n",
    "from sklearn.model_selection import cross_val_score, KFold\n",
    "from sklearn.neighbors import KNeighborsClassifier\n",
    "from sklearn.tree import DecisionTreeClassifier\n",
    "from sklearn.ensemble import RandomForestClassifier, ExtraTreesClassifier, AdaBoostClassifier\n",
    "from xgboost import XGBClassifier\n",
    "from sklearn.model_selection import GridSearchCV\n",
    "from sklearn.ensemble import BaggingClassifier\n",
    "from sklearn.metrics import roc_auc_score, roc_curve\n",
    "from mlxtend.classifier import StackingClassifier\n",
    "from sklearn.linear_model import LogisticRegression\n",
    "from sklearn.naive_bayes import GaussianNB \n",
    "from sklearn.preprocessing import StandardScaler\n",
    "from sklearn.neural_network import MLPClassifier\n",
    "from sklearn.feature_selection import SelectKBest\n",
    "from sklearn.feature_selection import chi2"
   ]
  },
  {
   "cell_type": "code",
   "execution_count": 19,
   "metadata": {
    "scrolled": true
   },
   "outputs": [],
   "source": [
    "label_array = np.array(training['label'])\n",
    "data_array = np.array(training.drop(columns=['label', 'person']))\n",
    "kaggle_data = np.array(kaggle.drop(columns=['person']))"
   ]
  },
  {
   "cell_type": "code",
   "execution_count": 20,
   "metadata": {
    "scrolled": true
   },
   "outputs": [],
   "source": [
    "train = training.drop(columns=['label', 'person'])\n",
    "kaggleF = kaggle.drop(\"person\", axis=1)"
   ]
  },
  {
   "cell_type": "code",
   "execution_count": 21,
   "metadata": {},
   "outputs": [],
   "source": [
    "scaler = StandardScaler()\n",
    "scaled_values = scaler.fit_transform(train)\n",
    "train.loc[:, :] = scaled_values\n",
    "scaled_values = scaler.fit_transform(kaggleF)\n",
    "kaggleF.loc[:, :] = scaled_values"
   ]
  },
  {
   "cell_type": "code",
   "execution_count": 22,
   "metadata": {
    "scrolled": true
   },
   "outputs": [
    {
     "data": {
      "text/html": [
       "<div>\n",
       "<style scoped>\n",
       "    .dataframe tbody tr th:only-of-type {\n",
       "        vertical-align: middle;\n",
       "    }\n",
       "\n",
       "    .dataframe tbody tr th {\n",
       "        vertical-align: top;\n",
       "    }\n",
       "\n",
       "    .dataframe thead th {\n",
       "        text-align: right;\n",
       "    }\n",
       "</style>\n",
       "<table border=\"1\" class=\"dataframe\">\n",
       "  <thead>\n",
       "    <tr style=\"text-align: right;\">\n",
       "      <th></th>\n",
       "      <th>visitasProm</th>\n",
       "      <th>returning</th>\n",
       "      <th>pastConversions</th>\n",
       "      <th>primerIngreso</th>\n",
       "      <th>cantSessions</th>\n",
       "      <th>sessionDurationMean</th>\n",
       "      <th>Thursday</th>\n",
       "      <th>Tuesday</th>\n",
       "      <th>Sunday</th>\n",
       "      <th>Friday</th>\n",
       "      <th>...</th>\n",
       "      <th>Smartphone</th>\n",
       "      <th>Tablet</th>\n",
       "      <th>32GB</th>\n",
       "      <th>64GB</th>\n",
       "      <th>128GB</th>\n",
       "      <th>256GB</th>\n",
       "      <th>8GB</th>\n",
       "      <th>16GB</th>\n",
       "      <th>4GB</th>\n",
       "      <th>512MB</th>\n",
       "    </tr>\n",
       "  </thead>\n",
       "  <tbody>\n",
       "    <tr>\n",
       "      <th>0</th>\n",
       "      <td>-0.649933</td>\n",
       "      <td>-1.095288</td>\n",
       "      <td>-0.242065</td>\n",
       "      <td>-0.326531</td>\n",
       "      <td>-0.417802</td>\n",
       "      <td>-0.294810</td>\n",
       "      <td>2.173228</td>\n",
       "      <td>-0.474926</td>\n",
       "      <td>-0.317055</td>\n",
       "      <td>-0.384643</td>\n",
       "      <td>...</td>\n",
       "      <td>-0.342069</td>\n",
       "      <td>-0.059506</td>\n",
       "      <td>-0.277459</td>\n",
       "      <td>-0.252084</td>\n",
       "      <td>-0.220210</td>\n",
       "      <td>-0.145643</td>\n",
       "      <td>-0.243935</td>\n",
       "      <td>-0.361089</td>\n",
       "      <td>-0.130657</td>\n",
       "      <td>-0.091045</td>\n",
       "    </tr>\n",
       "    <tr>\n",
       "      <th>1</th>\n",
       "      <td>0.015830</td>\n",
       "      <td>-1.095288</td>\n",
       "      <td>-0.242065</td>\n",
       "      <td>-0.706491</td>\n",
       "      <td>-0.428985</td>\n",
       "      <td>-0.427776</td>\n",
       "      <td>-0.460145</td>\n",
       "      <td>2.105593</td>\n",
       "      <td>-0.317055</td>\n",
       "      <td>-0.384643</td>\n",
       "      <td>...</td>\n",
       "      <td>-0.120293</td>\n",
       "      <td>-0.059506</td>\n",
       "      <td>-0.337554</td>\n",
       "      <td>-0.302599</td>\n",
       "      <td>0.117743</td>\n",
       "      <td>-0.145643</td>\n",
       "      <td>-0.243935</td>\n",
       "      <td>-0.361089</td>\n",
       "      <td>-0.130657</td>\n",
       "      <td>-0.091045</td>\n",
       "    </tr>\n",
       "    <tr>\n",
       "      <th>2</th>\n",
       "      <td>0.136877</td>\n",
       "      <td>-1.095288</td>\n",
       "      <td>-0.242065</td>\n",
       "      <td>-0.769818</td>\n",
       "      <td>-0.428941</td>\n",
       "      <td>-0.427776</td>\n",
       "      <td>2.173228</td>\n",
       "      <td>-0.474926</td>\n",
       "      <td>-0.317055</td>\n",
       "      <td>-0.384643</td>\n",
       "      <td>...</td>\n",
       "      <td>-0.094201</td>\n",
       "      <td>-0.059506</td>\n",
       "      <td>-0.337554</td>\n",
       "      <td>-0.151054</td>\n",
       "      <td>-0.220210</td>\n",
       "      <td>0.470973</td>\n",
       "      <td>-0.243935</td>\n",
       "      <td>-0.361089</td>\n",
       "      <td>-0.130657</td>\n",
       "      <td>-0.091045</td>\n",
       "    </tr>\n",
       "    <tr>\n",
       "      <th>3</th>\n",
       "      <td>1.023120</td>\n",
       "      <td>0.913002</td>\n",
       "      <td>2.513731</td>\n",
       "      <td>3.124779</td>\n",
       "      <td>0.856436</td>\n",
       "      <td>1.167811</td>\n",
       "      <td>-0.460145</td>\n",
       "      <td>-0.474926</td>\n",
       "      <td>3.154031</td>\n",
       "      <td>-0.384643</td>\n",
       "      <td>...</td>\n",
       "      <td>-0.342069</td>\n",
       "      <td>-0.059506</td>\n",
       "      <td>0.083108</td>\n",
       "      <td>-0.302599</td>\n",
       "      <td>-0.220210</td>\n",
       "      <td>-0.145643</td>\n",
       "      <td>9.049878</td>\n",
       "      <td>2.723209</td>\n",
       "      <td>-0.130657</td>\n",
       "      <td>-0.091045</td>\n",
       "    </tr>\n",
       "    <tr>\n",
       "      <th>4</th>\n",
       "      <td>-0.484868</td>\n",
       "      <td>0.913002</td>\n",
       "      <td>-0.242065</td>\n",
       "      <td>2.016560</td>\n",
       "      <td>0.400665</td>\n",
       "      <td>1.300776</td>\n",
       "      <td>-0.460145</td>\n",
       "      <td>-0.474926</td>\n",
       "      <td>3.154031</td>\n",
       "      <td>-0.384643</td>\n",
       "      <td>...</td>\n",
       "      <td>0.910314</td>\n",
       "      <td>-0.059506</td>\n",
       "      <td>-0.007033</td>\n",
       "      <td>0.202551</td>\n",
       "      <td>0.455695</td>\n",
       "      <td>1.087588</td>\n",
       "      <td>-0.243935</td>\n",
       "      <td>0.268360</td>\n",
       "      <td>-0.130657</td>\n",
       "      <td>-0.091045</td>\n",
       "    </tr>\n",
       "  </tbody>\n",
       "</table>\n",
       "<p>5 rows × 41 columns</p>\n",
       "</div>"
      ],
      "text/plain": [
       "   visitasProm  returning  pastConversions  primerIngreso  cantSessions  \\\n",
       "0    -0.649933  -1.095288        -0.242065      -0.326531     -0.417802   \n",
       "1     0.015830  -1.095288        -0.242065      -0.706491     -0.428985   \n",
       "2     0.136877  -1.095288        -0.242065      -0.769818     -0.428941   \n",
       "3     1.023120   0.913002         2.513731       3.124779      0.856436   \n",
       "4    -0.484868   0.913002        -0.242065       2.016560      0.400665   \n",
       "\n",
       "   sessionDurationMean  Thursday   Tuesday    Sunday    Friday    ...     \\\n",
       "0            -0.294810  2.173228 -0.474926 -0.317055 -0.384643    ...      \n",
       "1            -0.427776 -0.460145  2.105593 -0.317055 -0.384643    ...      \n",
       "2            -0.427776  2.173228 -0.474926 -0.317055 -0.384643    ...      \n",
       "3             1.167811 -0.460145 -0.474926  3.154031 -0.384643    ...      \n",
       "4             1.300776 -0.460145 -0.474926  3.154031 -0.384643    ...      \n",
       "\n",
       "   Smartphone    Tablet      32GB      64GB     128GB     256GB       8GB  \\\n",
       "0   -0.342069 -0.059506 -0.277459 -0.252084 -0.220210 -0.145643 -0.243935   \n",
       "1   -0.120293 -0.059506 -0.337554 -0.302599  0.117743 -0.145643 -0.243935   \n",
       "2   -0.094201 -0.059506 -0.337554 -0.151054 -0.220210  0.470973 -0.243935   \n",
       "3   -0.342069 -0.059506  0.083108 -0.302599 -0.220210 -0.145643  9.049878   \n",
       "4    0.910314 -0.059506 -0.007033  0.202551  0.455695  1.087588 -0.243935   \n",
       "\n",
       "       16GB       4GB     512MB  \n",
       "0 -0.361089 -0.130657 -0.091045  \n",
       "1 -0.361089 -0.130657 -0.091045  \n",
       "2 -0.361089 -0.130657 -0.091045  \n",
       "3  2.723209 -0.130657 -0.091045  \n",
       "4  0.268360 -0.130657 -0.091045  \n",
       "\n",
       "[5 rows x 41 columns]"
      ]
     },
     "execution_count": 22,
     "metadata": {},
     "output_type": "execute_result"
    }
   ],
   "source": [
    "train.head()"
   ]
  },
  {
   "cell_type": "code",
   "execution_count": 23,
   "metadata": {
    "scrolled": true
   },
   "outputs": [
    {
     "data": {
      "text/html": [
       "<div>\n",
       "<style scoped>\n",
       "    .dataframe tbody tr th:only-of-type {\n",
       "        vertical-align: middle;\n",
       "    }\n",
       "\n",
       "    .dataframe tbody tr th {\n",
       "        vertical-align: top;\n",
       "    }\n",
       "\n",
       "    .dataframe thead th {\n",
       "        text-align: right;\n",
       "    }\n",
       "</style>\n",
       "<table border=\"1\" class=\"dataframe\">\n",
       "  <thead>\n",
       "    <tr style=\"text-align: right;\">\n",
       "      <th></th>\n",
       "      <th>visitasProm</th>\n",
       "      <th>returning</th>\n",
       "      <th>pastConversions</th>\n",
       "      <th>primerIngreso</th>\n",
       "      <th>cantSessions</th>\n",
       "      <th>sessionDurationMean</th>\n",
       "      <th>Thursday</th>\n",
       "      <th>Saturday</th>\n",
       "      <th>Sunday</th>\n",
       "      <th>Monday</th>\n",
       "      <th>...</th>\n",
       "      <th>Smartphone</th>\n",
       "      <th>Tablet</th>\n",
       "      <th>32GB</th>\n",
       "      <th>128GB</th>\n",
       "      <th>16GB</th>\n",
       "      <th>64GB</th>\n",
       "      <th>256GB</th>\n",
       "      <th>8GB</th>\n",
       "      <th>4GB</th>\n",
       "      <th>512MB</th>\n",
       "    </tr>\n",
       "  </thead>\n",
       "  <tbody>\n",
       "    <tr>\n",
       "      <th>0</th>\n",
       "      <td>0.252685</td>\n",
       "      <td>0.914959</td>\n",
       "      <td>-0.148354</td>\n",
       "      <td>0.117482</td>\n",
       "      <td>-0.271250</td>\n",
       "      <td>2.964432</td>\n",
       "      <td>2.168003</td>\n",
       "      <td>-0.332713</td>\n",
       "      <td>-0.301418</td>\n",
       "      <td>-0.403896</td>\n",
       "      <td>...</td>\n",
       "      <td>-0.336980</td>\n",
       "      <td>-0.06146</td>\n",
       "      <td>3.815207</td>\n",
       "      <td>4.476763</td>\n",
       "      <td>3.085243</td>\n",
       "      <td>4.120833</td>\n",
       "      <td>4.253848</td>\n",
       "      <td>-0.238049</td>\n",
       "      <td>-0.094756</td>\n",
       "      <td>-0.066211</td>\n",
       "    </tr>\n",
       "    <tr>\n",
       "      <th>1</th>\n",
       "      <td>-0.385829</td>\n",
       "      <td>-1.092945</td>\n",
       "      <td>-0.148354</td>\n",
       "      <td>1.304347</td>\n",
       "      <td>-0.428608</td>\n",
       "      <td>-0.428948</td>\n",
       "      <td>-0.461254</td>\n",
       "      <td>-0.332713</td>\n",
       "      <td>-0.301418</td>\n",
       "      <td>2.475884</td>\n",
       "      <td>...</td>\n",
       "      <td>-0.202483</td>\n",
       "      <td>-0.06146</td>\n",
       "      <td>-0.342100</td>\n",
       "      <td>-0.148227</td>\n",
       "      <td>-0.338740</td>\n",
       "      <td>-0.264750</td>\n",
       "      <td>-0.193948</td>\n",
       "      <td>-0.238049</td>\n",
       "      <td>-0.094756</td>\n",
       "      <td>-0.066211</td>\n",
       "    </tr>\n",
       "    <tr>\n",
       "      <th>2</th>\n",
       "      <td>3.228686</td>\n",
       "      <td>0.914959</td>\n",
       "      <td>0.723932</td>\n",
       "      <td>-0.319785</td>\n",
       "      <td>-0.095073</td>\n",
       "      <td>-0.021743</td>\n",
       "      <td>2.168003</td>\n",
       "      <td>-0.332713</td>\n",
       "      <td>-0.301418</td>\n",
       "      <td>-0.403896</td>\n",
       "      <td>...</td>\n",
       "      <td>-0.336980</td>\n",
       "      <td>-0.06146</td>\n",
       "      <td>0.287795</td>\n",
       "      <td>-0.246631</td>\n",
       "      <td>3.450911</td>\n",
       "      <td>-0.264750</td>\n",
       "      <td>0.250831</td>\n",
       "      <td>1.919249</td>\n",
       "      <td>0.555078</td>\n",
       "      <td>-0.066211</td>\n",
       "    </tr>\n",
       "    <tr>\n",
       "      <th>3</th>\n",
       "      <td>1.811631</td>\n",
       "      <td>0.914959</td>\n",
       "      <td>-0.148354</td>\n",
       "      <td>-0.288551</td>\n",
       "      <td>-0.219587</td>\n",
       "      <td>0.792668</td>\n",
       "      <td>-0.461254</td>\n",
       "      <td>-0.332713</td>\n",
       "      <td>-0.301418</td>\n",
       "      <td>-0.403896</td>\n",
       "      <td>...</td>\n",
       "      <td>-0.336980</td>\n",
       "      <td>-0.06146</td>\n",
       "      <td>6.240302</td>\n",
       "      <td>-0.148227</td>\n",
       "      <td>3.218214</td>\n",
       "      <td>0.845524</td>\n",
       "      <td>0.250831</td>\n",
       "      <td>-0.238049</td>\n",
       "      <td>-0.094756</td>\n",
       "      <td>-0.066211</td>\n",
       "    </tr>\n",
       "    <tr>\n",
       "      <th>4</th>\n",
       "      <td>0.045448</td>\n",
       "      <td>0.914959</td>\n",
       "      <td>-0.148354</td>\n",
       "      <td>-0.257318</td>\n",
       "      <td>-0.321751</td>\n",
       "      <td>-0.021743</td>\n",
       "      <td>-0.461254</td>\n",
       "      <td>-0.332713</td>\n",
       "      <td>-0.301418</td>\n",
       "      <td>-0.403896</td>\n",
       "      <td>...</td>\n",
       "      <td>-0.336980</td>\n",
       "      <td>-0.06146</td>\n",
       "      <td>0.004343</td>\n",
       "      <td>-0.246631</td>\n",
       "      <td>-0.106042</td>\n",
       "      <td>-0.153723</td>\n",
       "      <td>0.250831</td>\n",
       "      <td>0.350305</td>\n",
       "      <td>-0.094756</td>\n",
       "      <td>-0.066211</td>\n",
       "    </tr>\n",
       "  </tbody>\n",
       "</table>\n",
       "<p>5 rows × 41 columns</p>\n",
       "</div>"
      ],
      "text/plain": [
       "   visitasProm  returning  pastConversions  primerIngreso  cantSessions  \\\n",
       "0     0.252685   0.914959        -0.148354       0.117482     -0.271250   \n",
       "1    -0.385829  -1.092945        -0.148354       1.304347     -0.428608   \n",
       "2     3.228686   0.914959         0.723932      -0.319785     -0.095073   \n",
       "3     1.811631   0.914959        -0.148354      -0.288551     -0.219587   \n",
       "4     0.045448   0.914959        -0.148354      -0.257318     -0.321751   \n",
       "\n",
       "   sessionDurationMean  Thursday  Saturday    Sunday    Monday    ...     \\\n",
       "0             2.964432  2.168003 -0.332713 -0.301418 -0.403896    ...      \n",
       "1            -0.428948 -0.461254 -0.332713 -0.301418  2.475884    ...      \n",
       "2            -0.021743  2.168003 -0.332713 -0.301418 -0.403896    ...      \n",
       "3             0.792668 -0.461254 -0.332713 -0.301418 -0.403896    ...      \n",
       "4            -0.021743 -0.461254 -0.332713 -0.301418 -0.403896    ...      \n",
       "\n",
       "   Smartphone   Tablet      32GB     128GB      16GB      64GB     256GB  \\\n",
       "0   -0.336980 -0.06146  3.815207  4.476763  3.085243  4.120833  4.253848   \n",
       "1   -0.202483 -0.06146 -0.342100 -0.148227 -0.338740 -0.264750 -0.193948   \n",
       "2   -0.336980 -0.06146  0.287795 -0.246631  3.450911 -0.264750  0.250831   \n",
       "3   -0.336980 -0.06146  6.240302 -0.148227  3.218214  0.845524  0.250831   \n",
       "4   -0.336980 -0.06146  0.004343 -0.246631 -0.106042 -0.153723  0.250831   \n",
       "\n",
       "        8GB       4GB     512MB  \n",
       "0 -0.238049 -0.094756 -0.066211  \n",
       "1 -0.238049 -0.094756 -0.066211  \n",
       "2  1.919249  0.555078 -0.066211  \n",
       "3 -0.238049 -0.094756 -0.066211  \n",
       "4  0.350305 -0.094756 -0.066211  \n",
       "\n",
       "[5 rows x 41 columns]"
      ]
     },
     "execution_count": 23,
     "metadata": {},
     "output_type": "execute_result"
    }
   ],
   "source": [
    "kaggleF.head()"
   ]
  },
  {
   "cell_type": "code",
   "execution_count": 24,
   "metadata": {},
   "outputs": [],
   "source": [
    "data_array = np.array(train.drop(columns=[\"sessionDurationMean\"]))\n",
    "kaggle_data = np.array(kaggleF.drop(columns=['sessionDurationMean']))"
   ]
  },
  {
   "cell_type": "code",
   "execution_count": 25,
   "metadata": {},
   "outputs": [
    {
     "name": "stdout",
     "output_type": "stream",
     "text": [
      "[0.78609076 0.76446843 0.77752572 0.80333108 0.80836285 0.78407316\n",
      " 0.78837295 0.74089631 0.78183238 0.82909886]\n"
     ]
    }
   ],
   "source": [
    "#CrossValidation ExtraTree\n",
    "x_train, x_test, y_train, y_test = train_test_split(data_array, label_array, test_size = 0, random_state = 0)\n",
    "etx = ExtraTreesClassifier(n_estimators = 200, random_state= 0)\n",
    "all_accuracies5 = cross_val_score(estimator = etx, X= x_train, y = y_train, cv = 10, scoring=\"roc_auc\")\n",
    "print(all_accuracies5)"
   ]
  },
  {
   "cell_type": "code",
   "execution_count": 29,
   "metadata": {},
   "outputs": [
    {
     "name": "stdout",
     "output_type": "stream",
     "text": [
      "0.7864052509173879\n"
     ]
    }
   ],
   "source": [
    "print(all_accuracies5.mean())"
   ]
  },
  {
   "cell_type": "code",
   "execution_count": 30,
   "metadata": {},
   "outputs": [
    {
     "name": "stdout",
     "output_type": "stream",
     "text": [
      "0.022919028258528984\n"
     ]
    }
   ],
   "source": [
    "print(all_accuracies5.std())"
   ]
  },
  {
   "cell_type": "code",
   "execution_count": 26,
   "metadata": {},
   "outputs": [
    {
     "name": "stdout",
     "output_type": "stream",
     "text": [
      "[0.8203132  0.80624332 0.83388149 0.851324   0.84265194 0.8258016\n",
      " 0.83978018 0.80060776 0.85785124 0.87832212]\n"
     ]
    }
   ],
   "source": [
    "#CrossValidation RandomForest\n",
    "x_train, x_test, y_train, y_test = train_test_split(data_array, label_array, test_size = 0, random_state = 0)\n",
    "rf = RandomForestClassifier(n_estimators = 200, random_state= 0)\n",
    "all_accuracies1 = cross_val_score(estimator = rf, X= x_train, y = y_train, cv = 10, scoring=\"roc_auc\")\n",
    "print(all_accuracies1)"
   ]
  },
  {
   "cell_type": "code",
   "execution_count": 31,
   "metadata": {},
   "outputs": [
    {
     "name": "stdout",
     "output_type": "stream",
     "text": [
      "0.8356776848068594\n"
     ]
    }
   ],
   "source": [
    "print(all_accuracies1.mean())"
   ]
  },
  {
   "cell_type": "code",
   "execution_count": 32,
   "metadata": {},
   "outputs": [
    {
     "name": "stdout",
     "output_type": "stream",
     "text": [
      "0.022480221414608682\n"
     ]
    }
   ],
   "source": [
    "print(all_accuracies1.std())"
   ]
  },
  {
   "cell_type": "code",
   "execution_count": 27,
   "metadata": {},
   "outputs": [
    {
     "name": "stdout",
     "output_type": "stream",
     "text": [
      "[0.82394307 0.8267049  0.85382583 0.87229437 0.84907798 0.84319673\n",
      " 0.85406833 0.82924086 0.87886456 0.88741586]\n"
     ]
    }
   ],
   "source": [
    "#CrossValidation XGBoost\n",
    "# subsample = 0.8 learning_rate = 0.1, colsample_bytree = 0.6\n",
    "x_train, x_test, y_train, y_test = train_test_split(data_array, label_array, test_size = 0, random_state = 0)\n",
    "xgb = XGBClassifier(n_estimators = 45, max_depth = 7, subsample = 0.8)\n",
    "all_accuracies2 = cross_val_score(estimator = xgb, X= x_train, y = y_train, cv = 10, scoring=\"roc_auc\")\n",
    "print(all_accuracies2)"
   ]
  },
  {
   "cell_type": "code",
   "execution_count": 28,
   "metadata": {},
   "outputs": [
    {
     "name": "stdout",
     "output_type": "stream",
     "text": [
      "0.8518632488872717\n"
     ]
    }
   ],
   "source": [
    "print(all_accuracies2.mean())"
   ]
  },
  {
   "cell_type": "code",
   "execution_count": 145,
   "metadata": {},
   "outputs": [
    {
     "name": "stdout",
     "output_type": "stream",
     "text": [
      "0.021038825980603845\n"
     ]
    }
   ],
   "source": [
    "print(all_accuracies2.std())"
   ]
  },
  {
   "cell_type": "code",
   "execution_count": 33,
   "metadata": {},
   "outputs": [
    {
     "name": "stdout",
     "output_type": "stream",
     "text": [
      "[0.74702756 0.74058582 0.73579018 0.77966492 0.77955248 0.76535174\n",
      " 0.77661526 0.71545256 0.78306211 0.81008776]\n"
     ]
    }
   ],
   "source": [
    "#Neuronal Networks\n",
    "x_train, x_test, y_train, y_test = train_test_split(data_array, label_array, test_size = 0, random_state = 0)\n",
    "mlp = MLPClassifier(hidden_layer_sizes=(13,13,13), max_iter = 500)\n",
    "all_accuracies4 = cross_val_score(estimator = mlp, X= x_train, y = y_train, cv = 10, scoring=\"roc_auc\")\n",
    "print(all_accuracies4)"
   ]
  },
  {
   "cell_type": "code",
   "execution_count": 34,
   "metadata": {},
   "outputs": [
    {
     "name": "stdout",
     "output_type": "stream",
     "text": [
      "0.763319039076131\n"
     ]
    }
   ],
   "source": [
    "print(all_accuracies4.mean())"
   ]
  },
  {
   "cell_type": "code",
   "execution_count": null,
   "metadata": {},
   "outputs": [],
   "source": [
    "grid = {\"hidden_layer_sizes\":[(10, 10, 10), (11, 11, 11), (12, 12, 12), (15, 15 ,15)], \n",
    "        \"max_iter\":[500, 600, 700, 800]}\n",
    "gd_nn = GridSearchCV(estimator=mlp, param_grid=grid, n_jobs=1)"
   ]
  },
  {
   "cell_type": "code",
   "execution_count": null,
   "metadata": {},
   "outputs": [],
   "source": [
    "gd_nn.fit(x_train_nn, y_train)"
   ]
  },
  {
   "cell_type": "code",
   "execution_count": 39,
   "metadata": {},
   "outputs": [],
   "source": [
    "x_train1, x_test1, y_train1, y_test1 = train_test_split(data_array, label_array, test_size = 0.33, random_state = 42)"
   ]
  },
  {
   "cell_type": "code",
   "execution_count": 40,
   "metadata": {},
   "outputs": [
    {
     "data": {
      "text/plain": [
       "XGBClassifier(base_score=0.5, booster='gbtree', colsample_bylevel=1,\n",
       "       colsample_bytree=1, gamma=0, learning_rate=0.1, max_delta_step=0,\n",
       "       max_depth=7, min_child_weight=1, missing=None, n_estimators=45,\n",
       "       n_jobs=1, nthread=None, objective='binary:logistic', random_state=0,\n",
       "       reg_alpha=0, reg_lambda=1, scale_pos_weight=1, seed=None,\n",
       "       silent=True, subsample=0.8)"
      ]
     },
     "execution_count": 40,
     "metadata": {},
     "output_type": "execute_result"
    }
   ],
   "source": [
    "#XGBoost Fit\n",
    "xgb.fit(x_train1, y_train1)"
   ]
  },
  {
   "cell_type": "code",
   "execution_count": 41,
   "metadata": {},
   "outputs": [],
   "source": [
    "#XGBoost Predcit_proba\n",
    "y_pred_xgb = xgb.predict_proba(x_test1)"
   ]
  },
  {
   "cell_type": "code",
   "execution_count": 42,
   "metadata": {},
   "outputs": [
    {
     "data": {
      "text/plain": [
       "0.8510886378128353"
      ]
     },
     "execution_count": 42,
     "metadata": {},
     "output_type": "execute_result"
    }
   ],
   "source": [
    "roc_auc_score(y_test1, y_pred_xgb[:,1])"
   ]
  },
  {
   "cell_type": "code",
   "execution_count": null,
   "metadata": {},
   "outputs": [],
   "source": [
    "#CPrueba de StackingClassifier\n",
    "clf1 = MLPClassifier(hidden_layer_sizes=(15,15,15), max_iter = 100)\n",
    "clf2 = XGBClassifier(n_estimators = 50, subsample = 0.8, learning_rate = 0.1, colsample_bytree = 0.6)\n",
    "lr = LogisticRegression(C = 10.0)\n",
    "classifier3 = StackingClassifier(classifiers=[clf1, clf2], meta_classifier=lr)\n",
    "all_accuracies3 = cross_val_score(estimator = classifier3, X= x_train, y = y_train, cv = 5, scoring=\"roc_auc\")\n",
    "print(all_accuracies3)"
   ]
  },
  {
   "cell_type": "code",
   "execution_count": null,
   "metadata": {},
   "outputs": [],
   "source": [
    "print(all_accuracies3.mean())"
   ]
  },
  {
   "cell_type": "code",
   "execution_count": null,
   "metadata": {},
   "outputs": [],
   "source": [
    "print(all_accuracies3.std())"
   ]
  },
  {
   "cell_type": "code",
   "execution_count": null,
   "metadata": {},
   "outputs": [],
   "source": [
    "x_train, x_test, y_train, y_test = train_test_split(data_array, label_array, test_size = 0.33, random_state = 7)"
   ]
  },
  {
   "cell_type": "code",
   "execution_count": 163,
   "metadata": {},
   "outputs": [],
   "source": [
    "#gridSearch RandomForest\n",
    "randomForest = RandomForestClassifier()\n",
    "grid_param = {\n",
    "    \"n_estimators\": [300, 500, 800],\n",
    "    \"criterion\": [\"gini\", \"entropy\"],\n",
    "    \"bootstrap\": [True, False]\n",
    "}"
   ]
  },
  {
   "cell_type": "code",
   "execution_count": null,
   "metadata": {},
   "outputs": [],
   "source": [
    "gd_sr = GridSearchCV(estimator=randomForest, param_grid=grid_param, scoring=\"roc_auc\", cv=5, n_jobs=1)"
   ]
  },
  {
   "cell_type": "code",
   "execution_count": null,
   "metadata": {},
   "outputs": [],
   "source": [
    "#Entranamiento con Grid Search Random Forest\n",
    "gd_sr.fit(x_train, y_train)"
   ]
  },
  {
   "cell_type": "code",
   "execution_count": null,
   "metadata": {},
   "outputs": [],
   "source": [
    "#muestra el mejor hiperparametro\n",
    "best_parameters = gd_sr.best_params_\n",
    "print(best_parameters)"
   ]
  },
  {
   "cell_type": "code",
   "execution_count": null,
   "metadata": {},
   "outputs": [],
   "source": [
    "gd_sr.best_estimator_"
   ]
  },
  {
   "cell_type": "code",
   "execution_count": null,
   "metadata": {},
   "outputs": [],
   "source": [
    "#Muestra el mejor score\n",
    "gd_sr.best_score_"
   ]
  },
  {
   "cell_type": "code",
   "execution_count": 41,
   "metadata": {},
   "outputs": [],
   "source": [
    "#gridSearch XGBoost\n",
    "xgboost = XGBClassifier()\n",
    "xgb_grid_param = {\n",
    "    'max_depth': [7], #[3,4,5,6,7,8,9], # 5 is good but takes too long in kaggle env\n",
    "    'subsample': [0.6, 0.8], #[0.4,0.5,0.6,0.7,0.8,0.9,1.0],\n",
    "    'colsample_bytree': [0.6, 0.8, 0.7], #[0.5,0.6,0.7,0.8],\n",
    "    'n_estimators': [45, 48,50, 52 ,55 ], #[1000,2000,3000]\n",
    "    'learning_rate': [0.1]\n",
    "}"
   ]
  },
  {
   "cell_type": "code",
   "execution_count": 42,
   "metadata": {},
   "outputs": [],
   "source": [
    "xgb_gs = GridSearchCV(estimator=xgboost, param_grid=xgb_grid_param, scoring=\"roc_auc\", cv=10, n_jobs=1)"
   ]
  },
  {
   "cell_type": "code",
   "execution_count": 37,
   "metadata": {},
   "outputs": [],
   "source": [
    "x_train2, x_test2, y_train2, y_test2 = train_test_split(data_array, label_array, test_size = 0, random_state = 0)"
   ]
  },
  {
   "cell_type": "code",
   "execution_count": 38,
   "metadata": {},
   "outputs": [
    {
     "ename": "NameError",
     "evalue": "name 'xgb_gs' is not defined",
     "output_type": "error",
     "traceback": [
      "\u001b[0;31m---------------------------------------------------------------------------\u001b[0m",
      "\u001b[0;31mNameError\u001b[0m                                 Traceback (most recent call last)",
      "\u001b[0;32m<ipython-input-38-2c08a28631aa>\u001b[0m in \u001b[0;36m<module>\u001b[0;34m()\u001b[0m\n\u001b[1;32m      1\u001b[0m \u001b[0;31m#Entranamiento con Grid Search XGBoost\u001b[0m\u001b[0;34m\u001b[0m\u001b[0;34m\u001b[0m\u001b[0m\n\u001b[0;32m----> 2\u001b[0;31m \u001b[0mxgb_gs\u001b[0m\u001b[0;34m.\u001b[0m\u001b[0mfit\u001b[0m\u001b[0;34m(\u001b[0m\u001b[0mx_train2\u001b[0m\u001b[0;34m,\u001b[0m \u001b[0my_train2\u001b[0m\u001b[0;34m)\u001b[0m\u001b[0;34m\u001b[0m\u001b[0m\n\u001b[0m",
      "\u001b[0;31mNameError\u001b[0m: name 'xgb_gs' is not defined"
     ]
    }
   ],
   "source": [
    "#Entranamiento con Grid Search XGBoost\n",
    "xgb_gs.fit(x_train2, y_train2)"
   ]
  },
  {
   "cell_type": "code",
   "execution_count": 45,
   "metadata": {},
   "outputs": [
    {
     "name": "stdout",
     "output_type": "stream",
     "text": [
      "{'n_estimators': 45, 'colsample_bytree': 0.8, 'max_depth': 7}\n"
     ]
    }
   ],
   "source": [
    "#muestra el mejor hiperparametro\n",
    "#{'n_estimators': 100, 'subsample': 0.8, 'learning_rate': 0.1, 'colsample_bytree': 0.6, 'max_depth': 3}\n",
    "best_parameters = xgb_gs.best_params_\n",
    "print(best_parameters)"
   ]
  },
  {
   "cell_type": "code",
   "execution_count": 46,
   "metadata": {
    "scrolled": true
   },
   "outputs": [
    {
     "data": {
      "text/plain": [
       "XGBClassifier(base_score=0.5, booster='gbtree', colsample_bylevel=1,\n",
       "       colsample_bytree=0.8, gamma=0, learning_rate=0.1, max_delta_step=0,\n",
       "       max_depth=7, min_child_weight=1, missing=None, n_estimators=45,\n",
       "       n_jobs=1, nthread=None, objective='binary:logistic', random_state=0,\n",
       "       reg_alpha=0, reg_lambda=1, scale_pos_weight=1, seed=None,\n",
       "       silent=True, subsample=1)"
      ]
     },
     "execution_count": 46,
     "metadata": {},
     "output_type": "execute_result"
    }
   ],
   "source": [
    "xgb_gs.best_estimator_"
   ]
  },
  {
   "cell_type": "code",
   "execution_count": 47,
   "metadata": {},
   "outputs": [
    {
     "data": {
      "text/plain": [
       "0.8508510082409274"
      ]
     },
     "execution_count": 47,
     "metadata": {},
     "output_type": "execute_result"
    }
   ],
   "source": [
    "#Muestra el mejor score\n",
    "xgb_gs.best_score_"
   ]
  },
  {
   "cell_type": "code",
   "execution_count": 43,
   "metadata": {},
   "outputs": [],
   "source": [
    "#Realizo el submit \n",
    "kaggle_predict = xgb.predict_proba(kaggle_data)"
   ]
  },
  {
   "cell_type": "code",
   "execution_count": 44,
   "metadata": {
    "scrolled": true
   },
   "outputs": [
    {
     "data": {
      "text/html": [
       "<div>\n",
       "<style scoped>\n",
       "    .dataframe tbody tr th:only-of-type {\n",
       "        vertical-align: middle;\n",
       "    }\n",
       "\n",
       "    .dataframe tbody tr th {\n",
       "        vertical-align: top;\n",
       "    }\n",
       "\n",
       "    .dataframe thead th {\n",
       "        text-align: right;\n",
       "    }\n",
       "</style>\n",
       "<table border=\"1\" class=\"dataframe\">\n",
       "  <thead>\n",
       "    <tr style=\"text-align: right;\">\n",
       "      <th></th>\n",
       "      <th>label</th>\n",
       "      <th>person</th>\n",
       "    </tr>\n",
       "  </thead>\n",
       "  <tbody>\n",
       "    <tr>\n",
       "      <th>0</th>\n",
       "      <td>0.066064</td>\n",
       "      <td>00091926</td>\n",
       "    </tr>\n",
       "    <tr>\n",
       "      <th>1</th>\n",
       "      <td>0.067293</td>\n",
       "      <td>00091a7a</td>\n",
       "    </tr>\n",
       "    <tr>\n",
       "      <th>2</th>\n",
       "      <td>0.030132</td>\n",
       "      <td>000ba417</td>\n",
       "    </tr>\n",
       "    <tr>\n",
       "      <th>3</th>\n",
       "      <td>0.040240</td>\n",
       "      <td>000e4d9e</td>\n",
       "    </tr>\n",
       "    <tr>\n",
       "      <th>4</th>\n",
       "      <td>0.025915</td>\n",
       "      <td>000e619d</td>\n",
       "    </tr>\n",
       "    <tr>\n",
       "      <th>5</th>\n",
       "      <td>0.035323</td>\n",
       "      <td>001001be</td>\n",
       "    </tr>\n",
       "    <tr>\n",
       "      <th>6</th>\n",
       "      <td>0.009550</td>\n",
       "      <td>0010e89a</td>\n",
       "    </tr>\n",
       "    <tr>\n",
       "      <th>7</th>\n",
       "      <td>0.009119</td>\n",
       "      <td>0016c4b5</td>\n",
       "    </tr>\n",
       "    <tr>\n",
       "      <th>8</th>\n",
       "      <td>0.008597</td>\n",
       "      <td>001804a2</td>\n",
       "    </tr>\n",
       "    <tr>\n",
       "      <th>9</th>\n",
       "      <td>0.010115</td>\n",
       "      <td>001a2273</td>\n",
       "    </tr>\n",
       "    <tr>\n",
       "      <th>10</th>\n",
       "      <td>0.012249</td>\n",
       "      <td>00202cdb</td>\n",
       "    </tr>\n",
       "    <tr>\n",
       "      <th>11</th>\n",
       "      <td>0.052218</td>\n",
       "      <td>0022965d</td>\n",
       "    </tr>\n",
       "    <tr>\n",
       "      <th>12</th>\n",
       "      <td>0.054144</td>\n",
       "      <td>0027574e</td>\n",
       "    </tr>\n",
       "    <tr>\n",
       "      <th>13</th>\n",
       "      <td>0.017472</td>\n",
       "      <td>00295d74</td>\n",
       "    </tr>\n",
       "    <tr>\n",
       "      <th>14</th>\n",
       "      <td>0.198078</td>\n",
       "      <td>002aea56</td>\n",
       "    </tr>\n",
       "    <tr>\n",
       "      <th>15</th>\n",
       "      <td>0.169273</td>\n",
       "      <td>002ed810</td>\n",
       "    </tr>\n",
       "    <tr>\n",
       "      <th>16</th>\n",
       "      <td>0.025907</td>\n",
       "      <td>002fb981</td>\n",
       "    </tr>\n",
       "    <tr>\n",
       "      <th>17</th>\n",
       "      <td>0.007931</td>\n",
       "      <td>00344873</td>\n",
       "    </tr>\n",
       "    <tr>\n",
       "      <th>18</th>\n",
       "      <td>0.246234</td>\n",
       "      <td>0038a117</td>\n",
       "    </tr>\n",
       "    <tr>\n",
       "      <th>19</th>\n",
       "      <td>0.041149</td>\n",
       "      <td>003a05bf</td>\n",
       "    </tr>\n",
       "    <tr>\n",
       "      <th>20</th>\n",
       "      <td>0.105201</td>\n",
       "      <td>003d07ef</td>\n",
       "    </tr>\n",
       "    <tr>\n",
       "      <th>21</th>\n",
       "      <td>0.013564</td>\n",
       "      <td>003e7507</td>\n",
       "    </tr>\n",
       "    <tr>\n",
       "      <th>22</th>\n",
       "      <td>0.020813</td>\n",
       "      <td>00408349</td>\n",
       "    </tr>\n",
       "    <tr>\n",
       "      <th>23</th>\n",
       "      <td>0.015668</td>\n",
       "      <td>0041fec6</td>\n",
       "    </tr>\n",
       "    <tr>\n",
       "      <th>24</th>\n",
       "      <td>0.018311</td>\n",
       "      <td>0043a48e</td>\n",
       "    </tr>\n",
       "    <tr>\n",
       "      <th>25</th>\n",
       "      <td>0.248831</td>\n",
       "      <td>00546f4c</td>\n",
       "    </tr>\n",
       "    <tr>\n",
       "      <th>26</th>\n",
       "      <td>0.029075</td>\n",
       "      <td>00556ee5</td>\n",
       "    </tr>\n",
       "    <tr>\n",
       "      <th>27</th>\n",
       "      <td>0.137924</td>\n",
       "      <td>0059a996</td>\n",
       "    </tr>\n",
       "    <tr>\n",
       "      <th>28</th>\n",
       "      <td>0.027301</td>\n",
       "      <td>005af223</td>\n",
       "    </tr>\n",
       "    <tr>\n",
       "      <th>29</th>\n",
       "      <td>0.013513</td>\n",
       "      <td>005e06ef</td>\n",
       "    </tr>\n",
       "    <tr>\n",
       "      <th>...</th>\n",
       "      <td>...</td>\n",
       "      <td>...</td>\n",
       "    </tr>\n",
       "    <tr>\n",
       "      <th>19385</th>\n",
       "      <td>0.150685</td>\n",
       "      <td>ff9e0500</td>\n",
       "    </tr>\n",
       "    <tr>\n",
       "      <th>19386</th>\n",
       "      <td>0.010563</td>\n",
       "      <td>ff9ebf5a</td>\n",
       "    </tr>\n",
       "    <tr>\n",
       "      <th>19387</th>\n",
       "      <td>0.029443</td>\n",
       "      <td>ff9fc164</td>\n",
       "    </tr>\n",
       "    <tr>\n",
       "      <th>19388</th>\n",
       "      <td>0.218618</td>\n",
       "      <td>ffa0b2f3</td>\n",
       "    </tr>\n",
       "    <tr>\n",
       "      <th>19389</th>\n",
       "      <td>0.016851</td>\n",
       "      <td>ffa0d7a0</td>\n",
       "    </tr>\n",
       "    <tr>\n",
       "      <th>19390</th>\n",
       "      <td>0.018878</td>\n",
       "      <td>ffa28549</td>\n",
       "    </tr>\n",
       "    <tr>\n",
       "      <th>19391</th>\n",
       "      <td>0.008577</td>\n",
       "      <td>ffacfff0</td>\n",
       "    </tr>\n",
       "    <tr>\n",
       "      <th>19392</th>\n",
       "      <td>0.101398</td>\n",
       "      <td>ffaee083</td>\n",
       "    </tr>\n",
       "    <tr>\n",
       "      <th>19393</th>\n",
       "      <td>0.009651</td>\n",
       "      <td>ffb4618c</td>\n",
       "    </tr>\n",
       "    <tr>\n",
       "      <th>19394</th>\n",
       "      <td>0.008372</td>\n",
       "      <td>ffb46215</td>\n",
       "    </tr>\n",
       "    <tr>\n",
       "      <th>19395</th>\n",
       "      <td>0.213601</td>\n",
       "      <td>ffb7c1a6</td>\n",
       "    </tr>\n",
       "    <tr>\n",
       "      <th>19396</th>\n",
       "      <td>0.008577</td>\n",
       "      <td>ffba4aec</td>\n",
       "    </tr>\n",
       "    <tr>\n",
       "      <th>19397</th>\n",
       "      <td>0.009409</td>\n",
       "      <td>ffbb282f</td>\n",
       "    </tr>\n",
       "    <tr>\n",
       "      <th>19398</th>\n",
       "      <td>0.009100</td>\n",
       "      <td>ffbb90a9</td>\n",
       "    </tr>\n",
       "    <tr>\n",
       "      <th>19399</th>\n",
       "      <td>0.010542</td>\n",
       "      <td>ffbfc511</td>\n",
       "    </tr>\n",
       "    <tr>\n",
       "      <th>19400</th>\n",
       "      <td>0.045260</td>\n",
       "      <td>ffc0f2a0</td>\n",
       "    </tr>\n",
       "    <tr>\n",
       "      <th>19401</th>\n",
       "      <td>0.048331</td>\n",
       "      <td>ffccd5a1</td>\n",
       "    </tr>\n",
       "    <tr>\n",
       "      <th>19402</th>\n",
       "      <td>0.037599</td>\n",
       "      <td>ffcf952b</td>\n",
       "    </tr>\n",
       "    <tr>\n",
       "      <th>19403</th>\n",
       "      <td>0.155707</td>\n",
       "      <td>ffd41214</td>\n",
       "    </tr>\n",
       "    <tr>\n",
       "      <th>19404</th>\n",
       "      <td>0.070165</td>\n",
       "      <td>ffd62616</td>\n",
       "    </tr>\n",
       "    <tr>\n",
       "      <th>19405</th>\n",
       "      <td>0.008577</td>\n",
       "      <td>ffda14ca</td>\n",
       "    </tr>\n",
       "    <tr>\n",
       "      <th>19406</th>\n",
       "      <td>0.054998</td>\n",
       "      <td>ffdafc72</td>\n",
       "    </tr>\n",
       "    <tr>\n",
       "      <th>19407</th>\n",
       "      <td>0.089425</td>\n",
       "      <td>ffddd0ec</td>\n",
       "    </tr>\n",
       "    <tr>\n",
       "      <th>19408</th>\n",
       "      <td>0.050316</td>\n",
       "      <td>ffe53446</td>\n",
       "    </tr>\n",
       "    <tr>\n",
       "      <th>19409</th>\n",
       "      <td>0.198915</td>\n",
       "      <td>ffecea3d</td>\n",
       "    </tr>\n",
       "    <tr>\n",
       "      <th>19410</th>\n",
       "      <td>0.099416</td>\n",
       "      <td>fff1b11a</td>\n",
       "    </tr>\n",
       "    <tr>\n",
       "      <th>19411</th>\n",
       "      <td>0.008577</td>\n",
       "      <td>fff1caee</td>\n",
       "    </tr>\n",
       "    <tr>\n",
       "      <th>19412</th>\n",
       "      <td>0.083797</td>\n",
       "      <td>fff54d61</td>\n",
       "    </tr>\n",
       "    <tr>\n",
       "      <th>19413</th>\n",
       "      <td>0.140425</td>\n",
       "      <td>fff72025</td>\n",
       "    </tr>\n",
       "    <tr>\n",
       "      <th>19414</th>\n",
       "      <td>0.008372</td>\n",
       "      <td>fffd1246</td>\n",
       "    </tr>\n",
       "  </tbody>\n",
       "</table>\n",
       "<p>19415 rows × 2 columns</p>\n",
       "</div>"
      ],
      "text/plain": [
       "          label    person\n",
       "0      0.066064  00091926\n",
       "1      0.067293  00091a7a\n",
       "2      0.030132  000ba417\n",
       "3      0.040240  000e4d9e\n",
       "4      0.025915  000e619d\n",
       "5      0.035323  001001be\n",
       "6      0.009550  0010e89a\n",
       "7      0.009119  0016c4b5\n",
       "8      0.008597  001804a2\n",
       "9      0.010115  001a2273\n",
       "10     0.012249  00202cdb\n",
       "11     0.052218  0022965d\n",
       "12     0.054144  0027574e\n",
       "13     0.017472  00295d74\n",
       "14     0.198078  002aea56\n",
       "15     0.169273  002ed810\n",
       "16     0.025907  002fb981\n",
       "17     0.007931  00344873\n",
       "18     0.246234  0038a117\n",
       "19     0.041149  003a05bf\n",
       "20     0.105201  003d07ef\n",
       "21     0.013564  003e7507\n",
       "22     0.020813  00408349\n",
       "23     0.015668  0041fec6\n",
       "24     0.018311  0043a48e\n",
       "25     0.248831  00546f4c\n",
       "26     0.029075  00556ee5\n",
       "27     0.137924  0059a996\n",
       "28     0.027301  005af223\n",
       "29     0.013513  005e06ef\n",
       "...         ...       ...\n",
       "19385  0.150685  ff9e0500\n",
       "19386  0.010563  ff9ebf5a\n",
       "19387  0.029443  ff9fc164\n",
       "19388  0.218618  ffa0b2f3\n",
       "19389  0.016851  ffa0d7a0\n",
       "19390  0.018878  ffa28549\n",
       "19391  0.008577  ffacfff0\n",
       "19392  0.101398  ffaee083\n",
       "19393  0.009651  ffb4618c\n",
       "19394  0.008372  ffb46215\n",
       "19395  0.213601  ffb7c1a6\n",
       "19396  0.008577  ffba4aec\n",
       "19397  0.009409  ffbb282f\n",
       "19398  0.009100  ffbb90a9\n",
       "19399  0.010542  ffbfc511\n",
       "19400  0.045260  ffc0f2a0\n",
       "19401  0.048331  ffccd5a1\n",
       "19402  0.037599  ffcf952b\n",
       "19403  0.155707  ffd41214\n",
       "19404  0.070165  ffd62616\n",
       "19405  0.008577  ffda14ca\n",
       "19406  0.054998  ffdafc72\n",
       "19407  0.089425  ffddd0ec\n",
       "19408  0.050316  ffe53446\n",
       "19409  0.198915  ffecea3d\n",
       "19410  0.099416  fff1b11a\n",
       "19411  0.008577  fff1caee\n",
       "19412  0.083797  fff54d61\n",
       "19413  0.140425  fff72025\n",
       "19414  0.008372  fffd1246\n",
       "\n",
       "[19415 rows x 2 columns]"
      ]
     },
     "execution_count": 44,
     "metadata": {},
     "output_type": "execute_result"
    }
   ],
   "source": [
    "kaggle_submit = {'person': kaggle[\"person\"], 'label': kaggle_predict[:,1]}\n",
    "kaggle_submitDF = pd.DataFrame(data=kaggle_submit)\n",
    "kaggle_submitDF"
   ]
  },
  {
   "cell_type": "code",
   "execution_count": 162,
   "metadata": {},
   "outputs": [],
   "source": [
    "kaggle_submitDF.to_csv('setSubmit.csv', index=False)"
   ]
  }
 ],
 "metadata": {
  "kernelspec": {
   "display_name": "Python 3",
   "language": "python",
   "name": "python3"
  },
  "language_info": {
   "codemirror_mode": {
    "name": "ipython",
    "version": 2
   },
   "file_extension": ".py",
   "mimetype": "text/x-python",
   "name": "python",
   "nbconvert_exporter": "python",
   "pygments_lexer": "ipython2",
   "version": "2.7.15rc1"
  }
 },
 "nbformat": 4,
 "nbformat_minor": 2
}
