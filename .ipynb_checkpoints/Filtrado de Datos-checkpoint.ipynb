{
 "cells": [
  {
   "cell_type": "code",
   "execution_count": 60,
   "metadata": {},
   "outputs": [],
   "source": [
    "import pandas as pd\n",
    "import matplotlib.pyplot as plt\n",
    "import numpy as np\n",
    "import sklearn as sk\n",
    "\n",
    "events = pd.read_csv('events_up_to_01062018.csv', low_memory = False)\n",
    "training = pd.read_csv('labels_training_set.csv', low_memory = False)"
   ]
  },
  {
   "cell_type": "code",
   "execution_count": 61,
   "metadata": {},
   "outputs": [],
   "source": [
    "from sklearn.preprocessing import LabelEncoder\n",
    "from sklearn.preprocessing import OneHotEncoder"
   ]
  },
  {
   "cell_type": "code",
   "execution_count": 62,
   "metadata": {},
   "outputs": [],
   "source": [
    "eventsWithLabel = events.merge(training, how='left', left_on='person', right_on='person')"
   ]
  },
  {
   "cell_type": "code",
   "execution_count": 63,
   "metadata": {},
   "outputs": [],
   "source": [
    "eventsWithLabel['timestamp'] = pd.to_datetime(eventsWithLabel['timestamp'])"
   ]
  },
  {
   "cell_type": "code",
   "execution_count": 64,
   "metadata": {},
   "outputs": [],
   "source": [
    "diccWeek = {0: \"Monday\",\n",
    "            1: \"Tuesday\",\n",
    "            2: \"Wednesday\",\n",
    "            3: \"Thursday\",\n",
    "            4: \"Friday\",\n",
    "            5: \"Saturday\",\n",
    "            6: \"Sunday\"}"
   ]
  },
  {
   "cell_type": "code",
   "execution_count": 65,
   "metadata": {},
   "outputs": [],
   "source": [
    "#Obtengo los dias de la semana\n",
    "eventsWithLabel['dayweek'] = eventsWithLabel.timestamp.dt.dayofweek\n",
    "eventsWithLabel[\"dayweek\"] = eventsWithLabel[\"dayweek\"].map(lambda x: diccWeek.get(x))\n",
    "#Obtengo la fecha\n",
    "eventsWithLabel['fecha'] = eventsWithLabel.timestamp.dt.date\n",
    "#Separo la marca\n",
    "eventsWithLabel['marca'] = eventsWithLabel['model'].map(lambda x: str(x).split()[0])"
   ]
  },
  {
   "cell_type": "code",
   "execution_count": 66,
   "metadata": {},
   "outputs": [],
   "source": [
    "groupbyCantEventos = eventsWithLabel.groupby('person', as_index = False)['event'].agg({'cantEventos': 'count'})\n",
    "groupbyCantEventos.sort_values(by = 'cantEventos', ascending = False)\n",
    "eventsWithLabel = pd.merge(eventsWithLabel, groupbyCantEventos, on = 'person')"
   ]
  },
  {
   "cell_type": "code",
   "execution_count": 67,
   "metadata": {},
   "outputs": [],
   "source": [
    "#Filtro a la gente que no tiene el evento visited_site\n",
    "personasConVisitas = eventsWithLabel.loc[eventsWithLabel['event'] == 'visited site']\\\n",
    "                             .drop_duplicates(subset = 'person', keep = 'first')['person'].tolist()\n",
    "dataNotVisit = eventsWithLabel.loc[eventsWithLabel['person'].isin(personasConVisitas)]"
   ]
  },
  {
   "cell_type": "code",
   "execution_count": 68,
   "metadata": {},
   "outputs": [],
   "source": [
    "eventsWithLabel2 = dataNotVisit.loc[dataNotVisit['event'] == 'visited site'].groupby(['person', 'fecha'], as_index = False).agg({'city': 'first', 'region': 'first', 'country': 'first', 'device_type': 'first', 'operating_system_version': 'first', 'channel': 'first', 'new_vs_returning': 'first'})"
   ]
  },
  {
   "cell_type": "code",
   "execution_count": 69,
   "metadata": {},
   "outputs": [],
   "source": [
    "eventsWithLabel3 = pd.merge(dataNotVisit, eventsWithLabel2, on = ['person', 'fecha'])\n",
    "eventsWithLabel3.drop(['region_x', 'device_type_x', 'operating_system_version_x', 'country_x', 'city_x', 'channel_x', 'new_vs_returning_x'], axis = 1, inplace = True)\n",
    "eventsWithLabel3.rename(columns = {'region_y': 'region', 'device_type_y': 'device_type', 'operating_system_version_y': 'SO', 'city_y': 'city', 'country_y': 'country', 'channel_y': 'channel', 'new_vs_returning_y': 'new_vs_returning'}, inplace =True)"
   ]
  },
  {
   "cell_type": "code",
   "execution_count": 70,
   "metadata": {},
   "outputs": [],
   "source": [
    "def obtenerSistema(so):\n",
    "    sistema = so.split()\n",
    "    if len(sistema) > 1:\n",
    "        otro = sistema[1].split('.')[0]\n",
    "        return sistema[0] + ' ' + otro\n",
    "    else:\n",
    "        return sistema[0]"
   ]
  },
  {
   "cell_type": "code",
   "execution_count": 71,
   "metadata": {},
   "outputs": [],
   "source": [
    "eventsWithLabel3['SO'] = eventsWithLabel3['SO'].map(obtenerSistema)"
   ]
  },
  {
   "cell_type": "code",
   "execution_count": 107,
   "metadata": {},
   "outputs": [],
   "source": [
    "eventsWithLabel3[\"color\"] = eventsWithLabel3.color.str.split(\" \", expand=True)"
   ]
  },
  {
   "cell_type": "code",
   "execution_count": null,
   "metadata": {},
   "outputs": [],
   "source": [
    "#veo a los tipos que compraron (label == 1)"
   ]
  },
  {
   "cell_type": "code",
   "execution_count": 108,
   "metadata": {},
   "outputs": [],
   "source": [
    "dataCompraron = eventsWithLabel3.loc[eventsWithLabel3[\"label\"] == 1]"
   ]
  },
  {
   "cell_type": "code",
   "execution_count": 109,
   "metadata": {
    "scrolled": true
   },
   "outputs": [
    {
     "data": {
      "text/plain": [
       "iPhone 6                                       4132\n",
       "iPhone 5s                                      4011\n",
       "iPhone 6S                                      3551\n",
       "Samsung Galaxy S7 Edge                         2530\n",
       "iPhone 7                                       2297\n",
       "Samsung Galaxy S7                              1763\n",
       "Samsung Galaxy S6 Edge                         1694\n",
       "Samsung Galaxy S6 Flat                         1551\n",
       "Samsung Galaxy S8                              1411\n",
       "iPhone 5c                                      1364\n",
       "iPhone 7 Plus                                  1313\n",
       "iPhone SE                                      1130\n",
       "iPhone 6S Plus                                 1093\n",
       "Samsung Galaxy J7 Prime                         991\n",
       "Samsung Galaxy J5                               899\n",
       "Samsung Galaxy A7 2017                          888\n",
       "iPhone 6 Plus                                   851\n",
       "Motorola Moto G4 Plus                           844\n",
       "Samsung Galaxy S5                               826\n",
       "Samsung Galaxy S8 Plus                          813\n",
       "Samsung Galaxy A5 2017                          738\n",
       "iPhone 4S                                       704\n",
       "Motorola Moto X Play 4G Dual                    680\n",
       "Samsung Galaxy J7                               660\n",
       "iPhone 5                                        642\n",
       "Motorola Moto G5 Plus                           571\n",
       "Motorola Moto G3 4G                             561\n",
       "Samsung Galaxy A5                               556\n",
       "Motorola Moto X2                                553\n",
       "Motorola Moto G2 3G Dual                        529\n",
       "                                               ... \n",
       "Samsung Galaxy Tab E 7 Wi-Fi                     10\n",
       "Asus Zenfone 3 Max 16 GB                          9\n",
       "iPad 2 Wi-Fi + 3G                                 9\n",
       "LG X Power                                        8\n",
       "Sony Xperia Z3                                    8\n",
       "iPad 3 Wi-Fi                                      7\n",
       "Asus Zenfone 3 Max  32 GB                         6\n",
       "Samsung Galaxy Tab S2 9.7 Wi-Fi + 4G              6\n",
       "Samsung Gear S3 Frontier                          6\n",
       "iPad 3 Wi-Fi + 4G                                 6\n",
       "iPad Mini 3 Wi-Fi                                 6\n",
       "iPad Mini Wi-Fi                                   5\n",
       "Asus Zenfone Go                                   5\n",
       "Samsung Galaxy Tab 4  10.1 Wi-Fi + 3G             4\n",
       "Asus Zenfone Selfie                               4\n",
       "iPad Mini 2 Wi-Fi                                 3\n",
       "Samsung Galaxy Gran Prime Duos                    3\n",
       "Samsung Galaxy Tab S 8.4 Wi-Fi + 4G               3\n",
       "Samsung Galaxy Mega Duos                          3\n",
       "Samsung Galaxy Tab A com S Pen 8 Wi-Fi + 4G       3\n",
       "LG G4 Stylus HDTV H540T                           3\n",
       "Quantum Muv                                       2\n",
       "iPad 2 Wi-Fi                                      2\n",
       "Samsung Gear S3 Classic                           2\n",
       "Samsung Galaxy Tab Pro 10.1 Wi-Fi                 2\n",
       "Samsung Galaxy Tab E 9.6 Wi-Fi                    1\n",
       "Samsung Galaxy S3 Neo Duos i9300i                 1\n",
       "iPad 4 Wi-Fi + 4G                                 1\n",
       "Samsung Galaxy J7 PRO                             1\n",
       "Samsung Galaxy Tab S 10.5 Wi-Fi + 4G              1\n",
       "Name: model, Length: 180, dtype: int64"
      ]
     },
     "execution_count": 109,
     "metadata": {},
     "output_type": "execute_result"
    }
   ],
   "source": [
    "dataCompraron[\"model\"].value_counts()"
   ]
  },
  {
   "cell_type": "code",
   "execution_count": 146,
   "metadata": {},
   "outputs": [],
   "source": [
    "dataPersonRegion = eventsWithLabel3.loc[eventsWithLabel3[\"label\"].notnull()].groupby(\"person\")[[\"region\", \"label\", \"timestamp\"]].agg(\"first\")"
   ]
  },
  {
   "cell_type": "code",
   "execution_count": 161,
   "metadata": {
    "scrolled": false
   },
   "outputs": [],
   "source": [
    "dataRegiones = dataPersonRegion.groupby([\"region\", \"label\"]).count()\n",
    "# dataRegionesFilter = dataPersonRegion.groupby([\"region\", \"label\" ])[\"timestamp\"].count().unstack().fillna(value = 0)\n",
    "\n",
    "dataRegionesFilter = dataRegiones.loc[dataRegiones[\"timestamp\"] > 10]\n",
    "dataRegionesFilter = dataRegionesFilter[\"timestamp\"].unstack().fillna(value = 0)"
   ]
  },
  {
   "cell_type": "code",
   "execution_count": 162,
   "metadata": {},
   "outputs": [],
   "source": [
    "dataRegionesFilter[\"ratioCompra\"] = dataRegionesFilter[1.0]/dataRegionesFilter[0.0]"
   ]
  },
  {
   "cell_type": "code",
   "execution_count": 163,
   "metadata": {
    "scrolled": true
   },
   "outputs": [
    {
     "data": {
      "text/html": [
       "<div>\n",
       "<style scoped>\n",
       "    .dataframe tbody tr th:only-of-type {\n",
       "        vertical-align: middle;\n",
       "    }\n",
       "\n",
       "    .dataframe tbody tr th {\n",
       "        vertical-align: top;\n",
       "    }\n",
       "\n",
       "    .dataframe thead th {\n",
       "        text-align: right;\n",
       "    }\n",
       "</style>\n",
       "<table border=\"1\" class=\"dataframe\">\n",
       "  <thead>\n",
       "    <tr style=\"text-align: right;\">\n",
       "      <th>label</th>\n",
       "      <th>0.0</th>\n",
       "      <th>1.0</th>\n",
       "      <th>ratioCompra</th>\n",
       "    </tr>\n",
       "    <tr>\n",
       "      <th>region</th>\n",
       "      <th></th>\n",
       "      <th></th>\n",
       "      <th></th>\n",
       "    </tr>\n",
       "  </thead>\n",
       "  <tbody>\n",
       "    <tr>\n",
       "      <th>Santa Catarina</th>\n",
       "      <td>334.0</td>\n",
       "      <td>26.0</td>\n",
       "      <td>0.077844</td>\n",
       "    </tr>\n",
       "    <tr>\n",
       "      <th>Maranhao</th>\n",
       "      <td>317.0</td>\n",
       "      <td>24.0</td>\n",
       "      <td>0.075710</td>\n",
       "    </tr>\n",
       "    <tr>\n",
       "      <th>Para</th>\n",
       "      <td>291.0</td>\n",
       "      <td>22.0</td>\n",
       "      <td>0.075601</td>\n",
       "    </tr>\n",
       "    <tr>\n",
       "      <th>Rio Grande do Sul</th>\n",
       "      <td>539.0</td>\n",
       "      <td>36.0</td>\n",
       "      <td>0.066790</td>\n",
       "    </tr>\n",
       "    <tr>\n",
       "      <th>Minas Gerais</th>\n",
       "      <td>1487.0</td>\n",
       "      <td>88.0</td>\n",
       "      <td>0.059180</td>\n",
       "    </tr>\n",
       "    <tr>\n",
       "      <th>Parana</th>\n",
       "      <td>558.0</td>\n",
       "      <td>33.0</td>\n",
       "      <td>0.059140</td>\n",
       "    </tr>\n",
       "    <tr>\n",
       "      <th>Federal District</th>\n",
       "      <td>342.0</td>\n",
       "      <td>20.0</td>\n",
       "      <td>0.058480</td>\n",
       "    </tr>\n",
       "    <tr>\n",
       "      <th>Sao Paulo</th>\n",
       "      <td>5090.0</td>\n",
       "      <td>288.0</td>\n",
       "      <td>0.056582</td>\n",
       "    </tr>\n",
       "    <tr>\n",
       "      <th>Unknown</th>\n",
       "      <td>3099.0</td>\n",
       "      <td>168.0</td>\n",
       "      <td>0.054211</td>\n",
       "    </tr>\n",
       "    <tr>\n",
       "      <th>Espirito Santo</th>\n",
       "      <td>319.0</td>\n",
       "      <td>17.0</td>\n",
       "      <td>0.053292</td>\n",
       "    </tr>\n",
       "    <tr>\n",
       "      <th>Rio de Janeiro</th>\n",
       "      <td>1506.0</td>\n",
       "      <td>78.0</td>\n",
       "      <td>0.051793</td>\n",
       "    </tr>\n",
       "    <tr>\n",
       "      <th>Bahia</th>\n",
       "      <td>1144.0</td>\n",
       "      <td>58.0</td>\n",
       "      <td>0.050699</td>\n",
       "    </tr>\n",
       "    <tr>\n",
       "      <th>Goias</th>\n",
       "      <td>364.0</td>\n",
       "      <td>17.0</td>\n",
       "      <td>0.046703</td>\n",
       "    </tr>\n",
       "    <tr>\n",
       "      <th>Pernambuco</th>\n",
       "      <td>583.0</td>\n",
       "      <td>27.0</td>\n",
       "      <td>0.046312</td>\n",
       "    </tr>\n",
       "    <tr>\n",
       "      <th>Ceara</th>\n",
       "      <td>548.0</td>\n",
       "      <td>12.0</td>\n",
       "      <td>0.021898</td>\n",
       "    </tr>\n",
       "    <tr>\n",
       "      <th>Rondonia</th>\n",
       "      <td>63.0</td>\n",
       "      <td>0.0</td>\n",
       "      <td>0.000000</td>\n",
       "    </tr>\n",
       "    <tr>\n",
       "      <th>Piaui</th>\n",
       "      <td>157.0</td>\n",
       "      <td>0.0</td>\n",
       "      <td>0.000000</td>\n",
       "    </tr>\n",
       "    <tr>\n",
       "      <th>Sergipe</th>\n",
       "      <td>100.0</td>\n",
       "      <td>0.0</td>\n",
       "      <td>0.000000</td>\n",
       "    </tr>\n",
       "    <tr>\n",
       "      <th>Tocantins</th>\n",
       "      <td>88.0</td>\n",
       "      <td>0.0</td>\n",
       "      <td>0.000000</td>\n",
       "    </tr>\n",
       "    <tr>\n",
       "      <th>Rio Grande do Norte</th>\n",
       "      <td>242.0</td>\n",
       "      <td>0.0</td>\n",
       "      <td>0.000000</td>\n",
       "    </tr>\n",
       "    <tr>\n",
       "      <th>Acre</th>\n",
       "      <td>26.0</td>\n",
       "      <td>0.0</td>\n",
       "      <td>0.000000</td>\n",
       "    </tr>\n",
       "    <tr>\n",
       "      <th>Paraíba</th>\n",
       "      <td>177.0</td>\n",
       "      <td>0.0</td>\n",
       "      <td>0.000000</td>\n",
       "    </tr>\n",
       "    <tr>\n",
       "      <th>Alagoas</th>\n",
       "      <td>173.0</td>\n",
       "      <td>0.0</td>\n",
       "      <td>0.000000</td>\n",
       "    </tr>\n",
       "    <tr>\n",
       "      <th>Mato Grosso do Sul</th>\n",
       "      <td>123.0</td>\n",
       "      <td>0.0</td>\n",
       "      <td>0.000000</td>\n",
       "    </tr>\n",
       "    <tr>\n",
       "      <th>Mato Grosso</th>\n",
       "      <td>102.0</td>\n",
       "      <td>0.0</td>\n",
       "      <td>0.000000</td>\n",
       "    </tr>\n",
       "    <tr>\n",
       "      <th>California</th>\n",
       "      <td>55.0</td>\n",
       "      <td>0.0</td>\n",
       "      <td>0.000000</td>\n",
       "    </tr>\n",
       "    <tr>\n",
       "      <th>Buenos Aires F.D.</th>\n",
       "      <td>12.0</td>\n",
       "      <td>0.0</td>\n",
       "      <td>0.000000</td>\n",
       "    </tr>\n",
       "    <tr>\n",
       "      <th>Amazonas</th>\n",
       "      <td>151.0</td>\n",
       "      <td>0.0</td>\n",
       "      <td>0.000000</td>\n",
       "    </tr>\n",
       "    <tr>\n",
       "      <th>Amapa</th>\n",
       "      <td>37.0</td>\n",
       "      <td>0.0</td>\n",
       "      <td>0.000000</td>\n",
       "    </tr>\n",
       "    <tr>\n",
       "      <th>New York</th>\n",
       "      <td>41.0</td>\n",
       "      <td>0.0</td>\n",
       "      <td>0.000000</td>\n",
       "    </tr>\n",
       "  </tbody>\n",
       "</table>\n",
       "</div>"
      ],
      "text/plain": [
       "label                   0.0    1.0  ratioCompra\n",
       "region                                         \n",
       "Santa Catarina        334.0   26.0     0.077844\n",
       "Maranhao              317.0   24.0     0.075710\n",
       "Para                  291.0   22.0     0.075601\n",
       "Rio Grande do Sul     539.0   36.0     0.066790\n",
       "Minas Gerais         1487.0   88.0     0.059180\n",
       "Parana                558.0   33.0     0.059140\n",
       "Federal District      342.0   20.0     0.058480\n",
       "Sao Paulo            5090.0  288.0     0.056582\n",
       "Unknown              3099.0  168.0     0.054211\n",
       "Espirito Santo        319.0   17.0     0.053292\n",
       "Rio de Janeiro       1506.0   78.0     0.051793\n",
       "Bahia                1144.0   58.0     0.050699\n",
       "Goias                 364.0   17.0     0.046703\n",
       "Pernambuco            583.0   27.0     0.046312\n",
       "Ceara                 548.0   12.0     0.021898\n",
       "Rondonia               63.0    0.0     0.000000\n",
       "Piaui                 157.0    0.0     0.000000\n",
       "Sergipe               100.0    0.0     0.000000\n",
       "Tocantins              88.0    0.0     0.000000\n",
       "Rio Grande do Norte   242.0    0.0     0.000000\n",
       "Acre                   26.0    0.0     0.000000\n",
       "Paraíba               177.0    0.0     0.000000\n",
       "Alagoas               173.0    0.0     0.000000\n",
       "Mato Grosso do Sul    123.0    0.0     0.000000\n",
       "Mato Grosso           102.0    0.0     0.000000\n",
       "California             55.0    0.0     0.000000\n",
       "Buenos Aires F.D.      12.0    0.0     0.000000\n",
       "Amazonas              151.0    0.0     0.000000\n",
       "Amapa                  37.0    0.0     0.000000\n",
       "New York               41.0    0.0     0.000000"
      ]
     },
     "execution_count": 163,
     "metadata": {},
     "output_type": "execute_result"
    }
   ],
   "source": [
    "dataRegionesFilter.sort_values(by = \"ratioCompra\", ascending = False)"
   ]
  },
  {
   "cell_type": "code",
   "execution_count": 165,
   "metadata": {},
   "outputs": [],
   "source": [
    "regionesMasCompras = [\"Santa Catarina\", \"Maranhao\", \"Para\", \"Rio Grande do Sul\", \"Minas Gerais\", \"Parana\", \"Federal District\", \"Sao Paulo\", \"Espirito Santo\", \"Rio de Janeiro\", \"Bahia\", \"Goias\", \"Pernambuco\"]"
   ]
  },
  {
   "cell_type": "code",
   "execution_count": 72,
   "metadata": {},
   "outputs": [],
   "source": [
    "eventsWithLabel3 = eventsWithLabel3.drop(columns=[\"url\", \"sku\", \"skus\", \"search_term\", \"staticpage\", \"campaign_source\", \"search_engine\", \"screen_resolution\", \"browser_version\"])"
   ]
  },
  {
   "cell_type": "code",
   "execution_count": 73,
   "metadata": {},
   "outputs": [],
   "source": [
    "#Empezamos con las sesiones.\n",
    "eventsWithSessions = eventsWithLabel3.sort_values(by = [\"person\", \"timestamp\"])\n",
    "eventsWithSessions[\"time_diff\"] = (eventsWithSessions.timestamp - (eventsWithSessions.timestamp.shift())) / np.timedelta64(1, 's')\n",
    "eventsWithSessions.loc[eventsWithSessions.person != eventsWithSessions.person.shift(), \"time_diff\"] = 0"
   ]
  },
  {
   "cell_type": "code",
   "execution_count": 74,
   "metadata": {},
   "outputs": [],
   "source": [
    "eventsWithSessions[\"session_change\"] = ((eventsWithSessions.event == \"visited site\") & (eventsWithSessions.time_diff > 1800.0)) | (eventsWithSessions.time_diff > 36000.0) | (eventsWithSessions.person != eventsWithSessions.person.shift())\n",
    "eventsWithSessions[\"session_id\"] = eventsWithSessions.groupby(\"person\")[\"session_change\"].cumsum()"
   ]
  },
  {
   "cell_type": "code",
   "execution_count": 75,
   "metadata": {},
   "outputs": [],
   "source": [
    "#Obtener las personas con conversiones\n",
    "dataConversion = eventsWithSessions.loc[eventsWithSessions['event'] == 'conversion']\n",
    "personasCompraron = dataConversion.drop_duplicates(subset = 'person', keep = 'first')['person'].tolist()\n",
    "dataPersonasCompraron = eventsWithSessions.loc[eventsWithSessions['person'].isin(personasCompraron)]"
   ]
  },
  {
   "cell_type": "code",
   "execution_count": 76,
   "metadata": {},
   "outputs": [
    {
     "name": "stderr",
     "output_type": "stream",
     "text": [
      "/home/victorbelosevich/.local/lib/python2.7/site-packages/ipykernel_launcher.py:1: SettingWithCopyWarning: \n",
      "A value is trying to be set on a copy of a slice from a DataFrame.\n",
      "Try using .loc[row_indexer,col_indexer] = value instead\n",
      "\n",
      "See the caveats in the documentation: http://pandas.pydata.org/pandas-docs/stable/indexing.html#indexing-view-versus-copy\n",
      "  \"\"\"Entry point for launching an IPython kernel.\n",
      "/home/victorbelosevich/.local/lib/python2.7/site-packages/ipykernel_launcher.py:2: SettingWithCopyWarning: \n",
      "A value is trying to be set on a copy of a slice from a DataFrame.\n",
      "Try using .loc[row_indexer,col_indexer] = value instead\n",
      "\n",
      "See the caveats in the documentation: http://pandas.pydata.org/pandas-docs/stable/indexing.html#indexing-view-versus-copy\n",
      "  \n",
      "/home/victorbelosevich/.local/lib/python2.7/site-packages/ipykernel_launcher.py:3: FutureWarning: using a dict on a Series for aggregation\n",
      "is deprecated and will be removed in a future version\n",
      "  This is separate from the ipykernel package so we can avoid doing imports until\n"
     ]
    }
   ],
   "source": [
    "dataPersonasCompraron[\"aConversion\"] = (dataPersonasCompraron.event == \"conversion\") | (dataPersonasCompraron.person != dataPersonasCompraron.person.shift())\n",
    "dataPersonasCompraron[\"conversions\"] = dataPersonasCompraron.groupby(\"person\")[\"aConversion\"].cumsum()\n",
    "dataFirstConversion = dataPersonasCompraron.loc[dataPersonasCompraron.conversions == 1.0].groupby(\"person\")[\"time_diff\"].agg({\"timeFirstConversion\": \"sum\" })\n",
    "eventsWithSessions = pd.merge(eventsWithSessions, dataFirstConversion, how='left', on = 'person')\n",
    "eventsWithSessions['timeFirstConversion'] = eventsWithSessions['timeFirstConversion'].fillna(value=0)"
   ]
  },
  {
   "cell_type": "code",
   "execution_count": 77,
   "metadata": {},
   "outputs": [],
   "source": [
    "dataSession =  eventsWithSessions.groupby([\"person\", \"session_id\"], as_index=False)[\"time_diff\"].agg({\"sessionDuration\": \"sum\" })\n",
    "dataSession[\"sessionDuration\"] = dataSession[\"sessionDuration\"]/60"
   ]
  },
  {
   "cell_type": "code",
   "execution_count": 78,
   "metadata": {},
   "outputs": [],
   "source": [
    "dataSessionGroupByPerson = dataSession.loc[dataSession.sessionDuration > 0.0].groupby(\"person\")\n",
    "dataSession = dataSessionGroupByPerson.agg({\"sessionDuration\": {\"sessionDuration\": \"mean\"}, \"session_id\": {\"cantSessions\": \"count\"}})\n",
    "dataSession.columns = dataSession.columns.droplevel(0)"
   ]
  },
  {
   "cell_type": "code",
   "execution_count": 79,
   "metadata": {},
   "outputs": [],
   "source": [
    "eventsWithSessions = pd.merge(eventsWithSessions, dataSession, how ='left', on = 'person')\n",
    "eventsWithSessions[\"sessionDuration\"] = eventsWithSessions[\"sessionDuration\"].fillna(value = \"0.0\")\n",
    "eventsWithSessions[\"cantSessions\"] = eventsWithSessions[\"cantSessions\"].fillna(value = \"0.0\")"
   ]
  },
  {
   "cell_type": "code",
   "execution_count": 80,
   "metadata": {},
   "outputs": [],
   "source": [
    "#Funcion que realiza el oneHotEncoding\n",
    "def oneHotEncoding(column, uniqueArray, dataFrame):\n",
    "    label_encoder = LabelEncoder()\n",
    "    label_encoder.fit(uniqueArray)\n",
    "    integer_encoded = label_encoder.transform(dataFrame[column])\n",
    "    onehot_encoder = OneHotEncoder(sparse=False)\n",
    "    integer_encoded = integer_encoded.reshape(len(integer_encoded), 1)\n",
    "    onehot_encoded = onehot_encoder.fit_transform(integer_encoded)\n",
    "    for i, item in enumerate(uniqueArray):\n",
    "        dataFrame[item] = onehot_encoded[:, label_encoder.transform(uniqueArray)[i]]\n"
   ]
  },
  {
   "cell_type": "code",
   "execution_count": 81,
   "metadata": {},
   "outputs": [],
   "source": [
    "eventsColor = eventsWithLabel3.loc[eventsWithLabel3[\"color\"].notnull()][[\"color\", \"person\"]]\n",
    "eventsCondition = eventsWithLabel3.loc[eventsWithLabel3[\"condition\"].notnull()][[\"condition\", \"person\"]]\n",
    "eventsStorage = eventsWithLabel3.loc[eventsWithLabel3[\"storage\"].notnull()][[\"storage\", \"person\"]]\n",
    "eventsModel = eventsWithLabel3.loc[eventsWithLabel3[\"model\"].notnull()][[\"model\", \"person\"]]\n",
    "eventsChannel = eventsWithLabel3.loc[eventsWithLabel3[\"channel\"] != \"Unknown\"][[\"channel\", \"person\"]]\n",
    "eventsDevice = eventsWithLabel3.loc[eventsWithLabel3[\"device_type\"] != \"Unknown\"][[\"device_type\", \"person\"]]"
   ]
  },
  {
   "cell_type": "code",
   "execution_count": 82,
   "metadata": {},
   "outputs": [],
   "source": [
    "eventsColor[\"color\"] = eventsColor.color.str.split(\" \", expand=True)\n",
    "top20Colors = eventsColor['color'].value_counts().nlargest(20).index\n",
    "top50models = eventsWithLabel3['model'].value_counts().nlargest(50).index"
   ]
  },
  {
   "cell_type": "code",
   "execution_count": 83,
   "metadata": {},
   "outputs": [],
   "source": [
    "def colorGrouping(x):\n",
    "    return x if x in top20Colors else 'OtroColor'\n",
    "\n",
    "def modelGrouping(x):\n",
    "    return x if x in top50models else 'OtroModelo'"
   ]
  },
  {
   "cell_type": "code",
   "execution_count": 84,
   "metadata": {},
   "outputs": [],
   "source": [
    "eventsColor['color'] = eventsColor['color'].apply(colorGrouping)\n",
    "eventsModel['model'] = eventsModel['model'].apply(modelGrouping)"
   ]
  },
  {
   "cell_type": "code",
   "execution_count": 85,
   "metadata": {},
   "outputs": [],
   "source": [
    "eventsWithLabel3[\"SO\"] = eventsWithLabel3.SO.str.split(\" \", expand=True)"
   ]
  },
  {
   "cell_type": "code",
   "execution_count": 86,
   "metadata": {},
   "outputs": [],
   "source": [
    "eventosUnicos = eventsWithLabel3.drop_duplicates(subset=\"event\", keep=\"first\").reset_index()[\"event\"]\n",
    "coloresUnicos = eventsColor.drop_duplicates(subset='color', keep='first').reset_index()[\"color\"]\n",
    "conditionUnicos = eventsCondition.drop_duplicates(subset='condition', keep='first').reset_index()[\"condition\"]\n",
    "storageUnicos = eventsStorage.drop_duplicates(subset='storage', keep='first').reset_index()[\"storage\"]\n",
    "modelosUnicos = eventsModel.drop_duplicates(subset='model', keep='first').reset_index()['model']\n",
    "channelUnicos = eventsChannel.drop_duplicates(subset=\"channel\", keep=\"first\").reset_index()[\"channel\"]\n",
    "SOUnicos = eventsWithLabel3.drop_duplicates(subset=\"SO\", keep=\"first\").reset_index()[\"SO\"]\n",
    "deviceTypeUnicos = eventsDevice.drop_duplicates(subset=\"device_type\", keep=\"first\").reset_index()[\"device_type\"]\n",
    "daysWeekUnicos = eventsWithLabel3.drop_duplicates(subset=\"dayweek\", keep=\"first\").reset_index()[\"dayweek\"]"
   ]
  },
  {
   "cell_type": "code",
   "execution_count": 87,
   "metadata": {},
   "outputs": [],
   "source": [
    "oneHotEncoding(\"event\", eventosUnicos, eventsWithLabel3)\n",
    "oneHotEncoding(\"color\", coloresUnicos, eventsColor)\n",
    "oneHotEncoding(\"condition\", conditionUnicos, eventsCondition)\n",
    "oneHotEncoding(\"storage\", storageUnicos, eventsStorage)\n",
    "oneHotEncoding(\"model\", modelosUnicos, eventsModel)\n",
    "oneHotEncoding(\"channel\", channelUnicos, eventsChannel)\n",
    "oneHotEncoding(\"SO\", SOUnicos, eventsWithLabel3)\n",
    "oneHotEncoding(\"device_type\", deviceTypeUnicos, eventsDevice)\n",
    "oneHotEncoding(\"dayweek\", daysWeekUnicos, eventsWithLabel3)"
   ]
  },
  {
   "cell_type": "code",
   "execution_count": 88,
   "metadata": {},
   "outputs": [],
   "source": [
    "eventsFinale = eventsWithLabel3.drop(columns=[\"timestamp\", \"dayweek\",\"event\", \"cantEventos\",\"condition\", \"model\", \"storage\", \"color\", \"fecha\", \"SO\", \"marca\", \"city\", \"country\", \"region\", \"channel\", \"device_type\", \"new_vs_returning\" ])"
   ]
  },
  {
   "cell_type": "code",
   "execution_count": 89,
   "metadata": {},
   "outputs": [],
   "source": [
    "eventsColor1 = eventsColor.groupby(\"person\").sum()\n",
    "eventsCondition1 = eventsCondition.groupby(\"person\").sum()\n",
    "eventsDevice1 = eventsDevice.groupby(\"person\").sum()\n",
    "eventsModel1 = eventsModel.groupby(\"person\").sum()\n",
    "eventsStorage1 = eventsStorage.groupby(\"person\").sum()\n",
    "eventsChannel1 = eventsChannel.groupby(\"person\").sum()"
   ]
  },
  {
   "cell_type": "code",
   "execution_count": 90,
   "metadata": {},
   "outputs": [],
   "source": [
    "eventsWithSessionsFilter = eventsWithSessions.groupby(\"person\")[[\"timeFirstConversion\", \"sessionDuration\", \"cantSessions\"]].agg(\"first\")"
   ]
  },
  {
   "cell_type": "code",
   "execution_count": 91,
   "metadata": {},
   "outputs": [],
   "source": [
    "testDF = eventsFinale.loc[eventsFinale['label'].isnull()]\n",
    "trainingDF = eventsFinale.loc[eventsFinale['label'].notnull()]"
   ]
  },
  {
   "cell_type": "code",
   "execution_count": 92,
   "metadata": {},
   "outputs": [],
   "source": [
    "labels = trainingDF.groupby(\"person\")[\"label\"].agg(\"first\")\n",
    "testDFFinal = testDF.drop(columns=[\"label\"]).groupby(\"person\").sum()\n",
    "trainingDFFinal = trainingDF.drop(columns=[\"label\"]).groupby(\"person\").sum()"
   ]
  },
  {
   "cell_type": "code",
   "execution_count": 93,
   "metadata": {},
   "outputs": [],
   "source": [
    "testDFFinal = pd.merge(testDFFinal, eventsWithSessionsFilter, how=\"left\" , on = \"person\")\n",
    "testDFFinal = pd.merge(testDFFinal, eventsColor1, how=\"left\" , on = \"person\")\n",
    "testDFFinal = pd.merge(testDFFinal, eventsChannel1, how=\"left\" , on = \"person\")\n",
    "testDFFinal = pd.merge(testDFFinal, eventsCondition1, how=\"left\" , on = \"person\")\n",
    "testDFFinal = pd.merge(testDFFinal, eventsDevice1, how=\"left\" , on = \"person\")\n",
    "testDFFinal = pd.merge(testDFFinal, eventsModel1, how=\"left\" , on = \"person\")\n",
    "testDFFinal = pd.merge(testDFFinal, eventsStorage1, how=\"left\" , on = \"person\")"
   ]
  },
  {
   "cell_type": "code",
   "execution_count": 94,
   "metadata": {},
   "outputs": [],
   "source": [
    "testDFFinal = testDFFinal.fillna(value=0)"
   ]
  },
  {
   "cell_type": "code",
   "execution_count": 95,
   "metadata": {},
   "outputs": [],
   "source": [
    "trainingDFFinal = pd.merge(trainingDFFinal, eventsWithSessionsFilter, how=\"left\" , on = \"person\")\n",
    "trainingDFFinal = pd.merge(trainingDFFinal,  eventsColor1, how=\"left\" , on = \"person\")\n",
    "trainingDFFinal = pd.merge(trainingDFFinal, eventsChannel1, how=\"left\" , on = \"person\")\n",
    "trainingDFFinal = pd.merge(trainingDFFinal, eventsCondition1, how=\"left\" , on = \"person\")\n",
    "trainingDFFinal = pd.merge(trainingDFFinal, eventsDevice1, how=\"left\" , on = \"person\")\n",
    "trainingDFFinal = pd.merge(trainingDFFinal, eventsModel1, how=\"left\" , on = \"person\")\n",
    "trainingDFFinal = pd.merge(trainingDFFinal, eventsStorage1, how=\"left\" , on = \"person\")\n"
   ]
  },
  {
   "cell_type": "code",
   "execution_count": 96,
   "metadata": {},
   "outputs": [],
   "source": [
    "trainingDFFinal = trainingDFFinal.fillna(value=0)\n",
    "trainingDFFinal[\"label\"] = labels"
   ]
  },
  {
   "cell_type": "code",
   "execution_count": 129,
   "metadata": {},
   "outputs": [],
   "source": [
    "#Creamos los csv ya listo para entrenar a los algoritmos y para testear que tan buenos son.\n",
    "trainingDFFinal.to_csv('setEntrenamiento.csv')\n",
    "testDFFinal.to_csv('setTesteo.csv')"
   ]
  }
 ],
 "metadata": {
  "kernelspec": {
   "display_name": "Python 3",
   "language": "python",
   "name": "python3"
  },
  "language_info": {
   "codemirror_mode": {
    "name": "ipython",
    "version": 2
   },
   "file_extension": ".py",
   "mimetype": "text/x-python",
   "name": "python",
   "nbconvert_exporter": "python",
   "pygments_lexer": "ipython2",
   "version": "2.7.15rc1"
  }
 },
 "nbformat": 4,
 "nbformat_minor": 2
}
